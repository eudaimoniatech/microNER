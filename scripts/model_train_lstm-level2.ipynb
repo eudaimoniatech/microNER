{
 "cells": [
  {
   "cell_type": "code",
   "execution_count": 1,
   "metadata": {},
   "outputs": [
    {
     "name": "stderr",
     "output_type": "stream",
     "text": [
      "/usr/lib/python3/dist-packages/h5py/__init__.py:34: FutureWarning: Conversion of the second argument of issubdtype from `float` to `np.floating` is deprecated. In future, it will be treated as `np.float64 == np.dtype(float).type`.\n",
      "  from ._conv import register_converters as _register_converters\n",
      "Using TensorFlow backend.\n",
      "/usr/lib/python3.5/importlib/_bootstrap.py:222: RuntimeWarning: numpy.dtype size changed, may indicate binary incompatibility. Expected 96, got 88\n",
      "  return f(*args, **kwds)\n"
     ]
    }
   ],
   "source": [
    "import sys\n",
    "import os\n",
    "import fastText\n",
    "\n",
    "from validation import compute_f1\n",
    "\n",
    "from keras.models import load_model\n",
    "from keras.callbacks import ModelCheckpoint, Callback\n",
    "\n",
    "import models\n",
    "import utils"
   ]
  },
  {
   "cell_type": "code",
   "execution_count": 2,
   "metadata": {},
   "outputs": [],
   "source": [
    "#%env CUDA_DEVICE_ORDER=PCI_BUS_ID\n",
    "#%env CUDA_VISIBLE_DEVICES=0"
   ]
  },
  {
   "cell_type": "code",
   "execution_count": 3,
   "metadata": {},
   "outputs": [
    {
     "name": "stdout",
     "output_type": "stream",
     "text": [
      "24000\n",
      "2200\n",
      "5100\n"
     ]
    }
   ],
   "source": [
    "trainSentences = utils.get_sentences_germeval('../../Resources/GermEVAL/NER-de-train.tsv', level2=True)\n",
    "devSentences = utils.get_sentences_germeval('../../Resources/GermEVAL/NER-de-dev.tsv', level2=True)\n",
    "testSentences = utils.get_sentences_germeval('../../Resources/GermEVAL/NER-de-test.tsv', level2=True)\n",
    "\n",
    "print(len(trainSentences))\n",
    "print(len(devSentences))\n",
    "print(len(testSentences))\n"
   ]
  },
  {
   "cell_type": "code",
   "execution_count": 4,
   "metadata": {},
   "outputs": [
    {
     "name": "stdout",
     "output_type": "stream",
     "text": [
      "[['Die', 'O'], ['These', 'O'], [',', 'O'], ['Schlatter', 'O'], ['sei', 'O'], ['Antisemit', 'O'], ['gewesen', 'O'], [',', 'O'], ['wurde', 'O'], ['seither', 'O'], ['in', 'O'], ['der', 'O'], ['theologischen', 'O'], ['Fachliteratur', 'O'], ['nicht', 'O'], ['mehr', 'O'], ['vertreten', 'O'], ['.', 'O']]\n"
     ]
    }
   ],
   "source": [
    "print(testSentences[3])"
   ]
  },
  {
   "cell_type": "code",
   "execution_count": 5,
   "metadata": {},
   "outputs": [],
   "source": [
    "labelSet = set()\n",
    "characters= set()\n",
    "models.max_sequence_length = 0\n",
    "\n",
    "for dataset in [trainSentences, devSentences, testSentences]:\n",
    "    for sentence in dataset:\n",
    "        for word, label in sentence:\n",
    "            for char in word:\n",
    "                characters.add(char)\n",
    "            labelSet.add(label)\n",
    "        if len(sentence) > models.max_sequence_length:\n",
    "            models.max_sequence_length = len(sentence)"
   ]
  },
  {
   "cell_type": "code",
   "execution_count": 6,
   "metadata": {},
   "outputs": [
    {
     "name": "stdout",
     "output_type": "stream",
     "text": [
      "18\n",
      "56\n"
     ]
    }
   ],
   "source": [
    "print(len(labelSet))\n",
    "print(models.max_sequence_length)"
   ]
  },
  {
   "cell_type": "code",
   "execution_count": 7,
   "metadata": {},
   "outputs": [],
   "source": [
    "# :: Create a mapping for the labels ::\n",
    "models.label2Idx = {\"PADDING_TOKEN\":0}\n",
    "for label in labelSet:\n",
    "    models.label2Idx[label] = len(models.label2Idx)"
   ]
  },
  {
   "cell_type": "code",
   "execution_count": 8,
   "metadata": {},
   "outputs": [
    {
     "name": "stdout",
     "output_type": "stream",
     "text": [
      "{'B-PERpart': 18, 'B-ORGpart': 2, 'B-OTH': 15, 'B-LOC': 3, 'B-LOCpart': 4, 'B-ORGderiv': 6, 'I-LOCderiv': 10, 'PADDING_TOKEN': 0, 'B-ORG': 8, 'I-PER': 16, 'B-OTHpart': 12, 'I-LOC': 11, 'O': 13, 'B-PERderiv': 9, 'B-PER': 1, 'I-ORG': 7, 'I-OTH': 17, 'B-LOCderiv': 5, 'B-OTHderiv': 14}\n"
     ]
    }
   ],
   "source": [
    "print(models.label2Idx)"
   ]
  },
  {
   "cell_type": "code",
   "execution_count": 9,
   "metadata": {},
   "outputs": [],
   "source": [
    "# :: Hard coded case lookup ::\n",
    "models.case2Idx = {'PADDING_TOKEN':0, 'numeric': 1, 'allLower':2, 'allUpper':3, 'initialUpper':4, 'other':5, 'mainly_numeric':6, 'contains_digit': 7}"
   ]
  },
  {
   "cell_type": "code",
   "execution_count": 10,
   "metadata": {},
   "outputs": [
    {
     "name": "stdout",
     "output_type": "stream",
     "text": [
      "{'allLower': 2, 'mainly_numeric': 6, 'contains_digit': 7, 'initialUpper': 4, 'numeric': 1, 'other': 5, 'PADDING_TOKEN': 0, 'allUpper': 3}\n"
     ]
    }
   ],
   "source": [
    "print(models.case2Idx)"
   ]
  },
  {
   "cell_type": "code",
   "execution_count": 11,
   "metadata": {},
   "outputs": [
    {
     "name": "stdout",
     "output_type": "stream",
     "text": [
      "<class 'list'>\n"
     ]
    }
   ],
   "source": [
    "print(type(trainSentences))"
   ]
  },
  {
   "cell_type": "code",
   "execution_count": 12,
   "metadata": {},
   "outputs": [
    {
     "name": "stdout",
     "output_type": "stream",
     "text": [
      "[['Schartau', 'O'], ['sagte', 'O'], ['dem', 'O'], ['\"', 'O'], ['Tagesspiegel', 'O'], ['\"', 'O'], ['vom', 'O'], ['Freitag', 'O'], [',', 'O'], ['Fischer', 'O'], ['sei', 'O'], ['\"', 'O'], ['in', 'O'], ['einer', 'O'], ['Weise', 'O'], ['aufgetreten', 'O'], [',', 'O'], ['die', 'O'], ['alles', 'O'], ['andere', 'O'], ['als', 'O'], ['überzeugend', 'O'], ['war', 'O'], ['\"', 'O'], ['.', 'O']]\n"
     ]
    }
   ],
   "source": [
    "print(trainSentences[0])"
   ]
  },
  {
   "cell_type": "code",
   "execution_count": 13,
   "metadata": {
    "scrolled": true
   },
   "outputs": [
    {
     "name": "stdout",
     "output_type": "stream",
     "text": [
      "{'E': 5, 'М': 160, '.': 8, '€': 280, 'オ': 299, 'È': 9, 'W': 10, '別': 11, 'V': 12, 'т': 13, '冲': 234, 'É': 166, 'ḳ': 17, 'и': 15, 'o': 191, 'ı': 18, ',': 7, '▪': 170, 'П': 187, 'ć': 113, 'y': 19, 'В': 20, 'Œ': 330, 'β': 22, '[': 23, 'ب': 26, 'z': 25, 'И': 212, 'е': 27, '+': 28, '¤': 29, 'φ': 169, 'Е': 31, 'œ': 32, '‚': 33, '–': 34, '½': 36, 'л': 38, 'ü': 40, '\\xad': 41, 'Ş': 174, '鶴': 46, ']': 44, 'ǒ': 45, 'Ł': 47, 'T': 118, 'À': 326, '7': 48, '0': 192, 'ă': 49, 'Î': 50, 'Ü': 51, 'η': 291, 'Π': 58, 'r': 53, 'Ш': 54, 'ż': 292, '\\x95': 295, 'а': 55, 'Š': 56, 'ź': 59, '公': 60, '東': 66, '_': 64, 'ë': 63, 'м': 127, 'ū': 65, 'n': 67, 'ό': 68, 'ß': 265, '算': 71, 'р': 70, '佐': 72, '懿': 73, 'ن': 217, 'к': 245, 'Λ': 74, '傳': 78, 'æ': 79, 'ـ': 61, '→': 178, 'Ö': 80, 'U': 81, 'λ': 62, 'б': 82, '~': 83, 'j': 310, '士': 84, 'ã': 88, '?': 87, '柯': 89, 'π': 90, 'f': 91, 'č': 92, 'ö': 182, '‘': 93, 'Ø': 94, '5': 95, 'ř': 96, 'н': 57, '⋅': 98, 'ŏ': 103, 'α': 100, 'У': 101, '\\x96': 102, '©': 16, 'Ä': 104, '¸': 106, 'P': 107, '—': 298, '≘': 128, 'ô': 109, '„': 110, 'k': 111, 'ê': 112, 'Ž': 114, '\\x80': 116, 'G': 115, 'O': 231, '“': 119, 'ы': 120, '±': 184, 'ệ': 121, 'F': 122, \"'\": 123, 'b': 69, 'X': 125, '†': 301, '«': 126, '造': 132, 'Ц': 129, 'å': 130, 't': 131, 'ラ': 284, '$': 133, '<W>': 3, 'ń': 135, 'я': 136, 'd': 137, '-': 138, '›': 140, 'ņ': 134, 'M': 141, '’': 306, 'w': 142, 'п': 143, 'ض': 144, '°': 304, '\\x9a': 149, '>': 146, 'κ': 147, 'B': 148, 'D': 150, 'ь': 188, 'о': 317, 'х': 151, '%': 153, 'ъ': 154, 'İ': 155, '<': 124, 'σ': 207, 'ę': 156, 'ḫ': 157, 'u': 158, '#': 159, 'ğ': 52, 'ρ': 75, 'í': 162, 'p': 163, ':': 164, 'š': 165, 'Þ': 76, 'q': 167, 'ῦ': 21, 'ς': 311, 'Ġ': 173, '대': 175, 'Т': 198, 'Â': 176, 'I': 14, '1': 194, '9': 177, 'ε': 179, '鷹': 24, '\\u200e': 139, 'ð': 183, 'ĩ': 105, 'ä': 185, 'm': 186, '\"': 190, '九': 196, 'Ż': 180, '£': 195, '⊃': 117, '…': 262, 'ế': 197, 's': 199, 'a': 200, 'û': 205, 'µ': 203, '!': 204, 'i': 206, 'ї': 208, 'ś': 210, 'ψ': 266, '2': 213, 'K': 214, 'é': 215, 'ʻ': 211, 'ø': 218, '\\x92': 219, 'h': 220, '´': 221, 'ا': 223, 'ç': 260, '寝': 225, '¹': 226, 'Z': 277, '貴': 253, '‹': 227, 'έ': 228, '»': 85, 'A': 230, 'â': 30, 'ú': 233, ')': 86, 'H': 235, 'ž': 236, '/': 237, 'ċ': 238, 'у': 239, 'g': 240, 'Y': 315, 'ī': 242, '″': 243, 'ť': 313, 'ю': 181, '`': 246, 'õ': 244, 'Л': 248, 'д': 189, '}': 320, '章': 281, 'ó': 250, '−': 251, '(': 252, 'ő': 270, '6': 145, '*': 254, 'ά': 255, 'ň': 39, 'Æ': 324, '@': 257, 'î': 258, 'v': 259, 'є': 263, 'с': 261, '²': 290, '§': 264, 'в': 35, 'ñ': 267, 'г': 268, '&': 269, '=': 168, 'γ': 323, '博': 332, 'з': 318, 'Å': 271, 'Á': 209, 'С': 273, 'ο': 193, 'ą': 274, 'ħ': 256, '\\x94': 272, '南': 312, 'à': 325, '太': 97, 'ě': 232, 'á': 279, '<S>': 1, 'ā': 282, 'ý': 222, 'ι': 283, '≤': 171, '\\x99': 99, 'UNKNOWN': 333, 'Q': 285, 'ē': 286, 'R': 287, 'e': 288, 'ɨ': 289, '루': 42, '妃': 296, 'l': 293, 'ł': 43, 'ş': 297, ';': 152, '×': 77, '동': 224, '‐': 300, 'PADDING_TOKEN': 0, '李': 302, 'N': 275, 'й': 303, '³': 202, '8': 305, 'ж': 276, 'ي': 37, '殿': 307, '4': 308, 'c': 309, '3': 201, 'ν': 161, '</W>': 4, '학': 247, 'τ': 294, '별': 249, 'S': 314, '·': 216, 'x': 316, '”': 241, 'è': 319, 'Č': 321, 'C': 322, '台': 108, 'أ': 327, '守': 172, '術': 328, '</S>': 2, 'ō': 329, '樓': 6, 'L': 331, 'υ': 278, 'J': 229}\n"
     ]
    }
   ],
   "source": [
    "models.char2Idx={\"PADDING_TOKEN\":0, \"<S>\":1, \"</S>\":2, \"<W>\":3, \"</W>\":4}\n",
    "for char in characters:\n",
    "    models.char2Idx[char] = len(models.char2Idx)\n",
    "models.char2Idx['UNKNOWN'] = len(models.char2Idx)\n",
    "print(models.char2Idx)"
   ]
  },
  {
   "cell_type": "code",
   "execution_count": 14,
   "metadata": {
    "scrolled": true
   },
   "outputs": [
    {
     "name": "stdout",
     "output_type": "stream",
     "text": [
      "[['Schartau', 'O'], ['sagte', 'O'], ['dem', 'O'], ['\"', 'O'], ['Tagesspiegel', 'O'], ['\"', 'O'], ['vom', 'O'], ['Freitag', 'O'], [',', 'O'], ['Fischer', 'O'], ['sei', 'O'], ['\"', 'O'], ['in', 'O'], ['einer', 'O'], ['Weise', 'O'], ['aufgetreten', 'O'], [',', 'O'], ['die', 'O'], ['alles', 'O'], ['andere', 'O'], ['als', 'O'], ['überzeugend', 'O'], ['war', 'O'], ['\"', 'O'], ['.', 'O']]\n"
     ]
    }
   ],
   "source": [
    "print(trainSentences[0]) "
   ]
  },
  {
   "cell_type": "code",
   "execution_count": 15,
   "metadata": {},
   "outputs": [],
   "source": [
    "models.ft = fastText.load_model(\"../../fastText/wiki.de.bin\")"
   ]
  },
  {
   "cell_type": "code",
   "execution_count": 16,
   "metadata": {},
   "outputs": [
    {
     "name": "stdout",
     "output_type": "stream",
     "text": [
      "300\n",
      "25\n"
     ]
    }
   ],
   "source": [
    "print(models.nb_embedding_dims)\n",
    "print(len(trainSentences[0]))"
   ]
  },
  {
   "cell_type": "code",
   "execution_count": 17,
   "metadata": {},
   "outputs": [
    {
     "name": "stdout",
     "output_type": "stream",
     "text": [
      "19\n",
      "19\n"
     ]
    }
   ],
   "source": [
    "models.idx2Label = {v: k for k, v in models.label2Idx.items()}\n",
    "print(len(models.label2Idx))\n",
    "print(len(models.idx2Label))"
   ]
  },
  {
   "cell_type": "markdown",
   "metadata": {
    "scrolled": true
   },
   "source": [
    "# Compute Model"
   ]
  },
  {
   "cell_type": "code",
   "execution_count": 18,
   "metadata": {},
   "outputs": [],
   "source": [
    "# import importlib\n",
    "# importlib.reload(models)"
   ]
  },
  {
   "cell_type": "code",
   "execution_count": 19,
   "metadata": {},
   "outputs": [
    {
     "name": "stdout",
     "output_type": "stream",
     "text": [
      "__________________________________________________________________________________________________\n",
      "Layer (type)                    Output Shape         Param #     Connected to                     \n",
      "==================================================================================================\n",
      "char_input (InputLayer)         (None, None, 52)     0                                            \n",
      "__________________________________________________________________________________________________\n",
      "casing_input (InputLayer)       (None, None)         0                                            \n",
      "__________________________________________________________________________________________________\n",
      "char_embedding (TimeDistributed (None, None, 52, 32) 10688       char_input[0][0]                 \n",
      "__________________________________________________________________________________________________\n",
      "words_input (InputLayer)        (None, None, 300)    0                                            \n",
      "__________________________________________________________________________________________________\n",
      "case_embed (Embedding)          (None, None, 8)      64          casing_input[0][0]               \n",
      "__________________________________________________________________________________________________\n",
      "time_distributed_1 (TimeDistrib (None, None, 100)    33200       char_embedding[0][0]             \n",
      "__________________________________________________________________________________________________\n",
      "concatenate_1 (Concatenate)     (None, None, 408)    0           words_input[0][0]                \n",
      "                                                                 case_embed[0][0]                 \n",
      "                                                                 time_distributed_1[0][0]         \n",
      "__________________________________________________________________________________________________\n",
      "bidirectional_2 (Bidirectional) (None, None, 400)    974400      concatenate_1[0][0]              \n",
      "__________________________________________________________________________________________________\n",
      "time_distributed_2 (TimeDistrib (None, None, 19)     7619        bidirectional_2[0][0]            \n",
      "__________________________________________________________________________________________________\n",
      "crf (CRF)                       (None, None, 19)     779         time_distributed_2[0][0]         \n",
      "==================================================================================================\n",
      "Total params: 1,026,750\n",
      "Trainable params: 1,026,686\n",
      "Non-trainable params: 64\n",
      "__________________________________________________________________________________________________\n"
     ]
    }
   ],
   "source": [
    "tmp_model_filename = 'model_lstm_germeval_2nd-level.h5'\n",
    "# checkpoint = ModelCheckpoint(tmp_model_filename, verbose=1, save_best_only = True, monitor = 'val_acc')\n",
    "history = utils.F1History(tmp_model_filename, devSet = devSentences)\n",
    "model = models.get_model_lstm_v2()"
   ]
  },
  {
   "cell_type": "code",
   "execution_count": 20,
   "metadata": {},
   "outputs": [],
   "source": [
    "#import importlib\n",
    "#importlib.reload(utils)\n",
    "# print(models.max_sequence_length)"
   ]
  },
  {
   "cell_type": "code",
   "execution_count": 21,
   "metadata": {
    "scrolled": true
   },
   "outputs": [
    {
     "name": "stdout",
     "output_type": "stream",
     "text": [
      "Epoch 1/10\n",
      "1499/1500 [============================>.] - ETA: 0s - loss: 0.0124 - acc: 0.9970\n",
      "New maximum F1 score: 0.3269961977186312 (before: 0) Saving to model_lstm_germeval_2nd-level.h5\n",
      "1500/1500 [==============================] - 400s 267ms/step - loss: 0.0123 - acc: 0.9970 - val_loss: -0.0103 - val_acc: 0.9983\n",
      "Epoch 2/10\n",
      "1499/1500 [============================>.] - ETA: 0s - loss: -0.0309 - acc: 0.9983\n",
      "New maximum F1 score: 0.5134328358208955 (before: 0.3269961977186312) Saving to model_lstm_germeval_2nd-level.h5\n",
      "1500/1500 [==============================] - 396s 264ms/step - loss: -0.0310 - acc: 0.9983 - val_loss: -0.0546 - val_acc: 0.9985\n",
      "Epoch 3/10\n",
      " 568/1500 [==========>...................] - ETA: 3:54 - loss: -0.0637 - acc: 0.9984"
     ]
    },
    {
     "name": "stderr",
     "output_type": "stream",
     "text": [
      "IOPub message rate exceeded.\n",
      "The notebook server will temporarily stop sending output\n",
      "to the client in order to avoid crashing it.\n",
      "To change this limit, set the config variable\n",
      "`--NotebookApp.iopub_msg_rate_limit`.\n",
      "\n",
      "Current values:\n",
      "NotebookApp.iopub_msg_rate_limit=1000.0 (msgs/sec)\n",
      "NotebookApp.rate_limit_window=3.0 (secs)\n",
      "\n"
     ]
    },
    {
     "name": "stdout",
     "output_type": "stream",
     "text": [
      "1499/1500 [============================>.] - ETA: 0s - loss: -0.1861 - acc: 0.9986\n",
      "New maximum F1 score: 0.5734265734265733 (before: 0.5583756345177665) Saving to model_lstm_germeval_2nd-level.h5\n",
      "1500/1500 [==============================] - 397s 265ms/step - loss: -0.1861 - acc: 0.9986 - val_loss: -0.2121 - val_acc: 0.9984\n",
      "Epoch 6/10\n",
      "1499/1500 [============================>.] - ETA: 0s - loss: -0.2401 - acc: 0.9987\n",
      "New maximum F1 score: 0.5903083700440529 (before: 0.5734265734265733) Saving to model_lstm_germeval_2nd-level.h5\n",
      "1500/1500 [==============================] - 397s 265ms/step - loss: -0.2401 - acc: 0.9987 - val_loss: -0.2652 - val_acc: 0.9984\n",
      "Epoch 7/10\n",
      "1174/1500 [======================>.......] - ETA: 1:22 - loss: -0.2884 - acc: 0.9988"
     ]
    },
    {
     "name": "stderr",
     "output_type": "stream",
     "text": [
      "IOPub message rate exceeded.\n",
      "The notebook server will temporarily stop sending output\n",
      "to the client in order to avoid crashing it.\n",
      "To change this limit, set the config variable\n",
      "`--NotebookApp.iopub_msg_rate_limit`.\n",
      "\n",
      "Current values:\n",
      "NotebookApp.iopub_msg_rate_limit=1000.0 (msgs/sec)\n",
      "NotebookApp.rate_limit_window=3.0 (secs)\n",
      "\n"
     ]
    },
    {
     "name": "stdout",
     "output_type": "stream",
     "text": [
      "1500/1500 [==============================] - 398s 265ms/step - loss: -0.4555 - acc: 0.9990 - val_loss: -0.4793 - val_acc: 0.9983\n"
     ]
    },
    {
     "data": {
      "text/plain": [
       "<keras.callbacks.History at 0x7efd4053c470>"
      ]
     },
     "execution_count": 21,
     "metadata": {},
     "output_type": "execute_result"
    }
   ],
   "source": [
    "model.fit_generator(\n",
    "    utils.NerSequence(trainSentences, shuffle_data=True, batch_size=16), \n",
    "    validation_data = utils.NerSequence(devSentences, batch_size=256), \n",
    "    epochs = 10, callbacks = [history]\n",
    ")"
   ]
  },
  {
   "cell_type": "code",
   "execution_count": 22,
   "metadata": {},
   "outputs": [
    {
     "name": "stdout",
     "output_type": "stream",
     "text": [
      "[0.9983441495895385, 0.998514611937783, 0.9984578015587546, 0.9984821412780068, 0.9984172201156616, 0.9983766248009421, 0.9982386298613115, 0.9984009803425182, 0.9985227277062156, 0.9982954668998718]\n",
      "[0.3269961977186312, 0.5134328358208955, 0.5112359550561798, 0.5583756345177665, 0.5734265734265733, 0.5903083700440529, 0.5608695652173913, 0.5688073394495413, 0.6013986013986014, 0.5657015590200447]\n"
     ]
    }
   ],
   "source": [
    "print(history.acc)\n",
    "print(history.f1_scores)"
   ]
  },
  {
   "cell_type": "code",
   "execution_count": 23,
   "metadata": {
    "scrolled": true
   },
   "outputs": [],
   "source": [
    "model.load_weights(tmp_model_filename)"
   ]
  },
  {
   "cell_type": "code",
   "execution_count": 24,
   "metadata": {},
   "outputs": [
    {
     "name": "stdout",
     "output_type": "stream",
     "text": [
      "Epoch 1/10\n",
      "11/12 [==========================>...] - ETA: 18s - loss: -0.4293 - acc: 0.9991\n",
      "New maximum F1 score: 0.602803738317757 (before: 0.6013986013986014) Saving to model_lstm_germeval_2nd-level.h5\n",
      "12/12 [==============================] - 259s 22s/step - loss: -0.4293 - acc: 0.9991 - val_loss: -0.4266 - val_acc: 0.9985\n",
      "Epoch 2/10\n",
      "12/12 [==============================] - 251s 21s/step - loss: -0.4299 - acc: 0.9991 - val_loss: -0.4269 - val_acc: 0.9985\n",
      "Epoch 3/10\n",
      "11/12 [==========================>...] - ETA: 18s - loss: -0.4303 - acc: 0.9992\n",
      "New maximum F1 score: 0.6031746031746033 (before: 0.602803738317757) Saving to model_lstm_germeval_2nd-level.h5\n",
      "12/12 [==============================] - 251s 21s/step - loss: -0.4303 - acc: 0.9992 - val_loss: -0.4273 - val_acc: 0.9985\n",
      "Epoch 4/10\n",
      "12/12 [==============================] - 253s 21s/step - loss: -0.4308 - acc: 0.9992 - val_loss: -0.4278 - val_acc: 0.9985\n",
      "Epoch 5/10\n",
      "12/12 [==============================] - 253s 21s/step - loss: -0.4313 - acc: 0.9992 - val_loss: -0.4282 - val_acc: 0.9985\n",
      "Epoch 6/10\n",
      "12/12 [==============================] - 253s 21s/step - loss: -0.4318 - acc: 0.9992 - val_loss: -0.4286 - val_acc: 0.9985\n",
      "Epoch 7/10\n",
      "12/12 [==============================] - 254s 21s/step - loss: -0.4322 - acc: 0.9992 - val_loss: -0.4290 - val_acc: 0.9984\n",
      "Epoch 8/10\n",
      "12/12 [==============================] - 254s 21s/step - loss: -0.4326 - acc: 0.9992 - val_loss: -0.4295 - val_acc: 0.9984\n",
      "Epoch 9/10\n",
      "11/12 [==========================>...] - ETA: 18s - loss: -0.4331 - acc: 0.9992\n",
      "New maximum F1 score: 0.6045454545454546 (before: 0.6031746031746033) Saving to model_lstm_germeval_2nd-level.h5\n",
      "12/12 [==============================] - 254s 21s/step - loss: -0.4331 - acc: 0.9992 - val_loss: -0.4299 - val_acc: 0.9985\n",
      "Epoch 10/10\n",
      "12/12 [==============================] - 246s 21s/step - loss: -0.4335 - acc: 0.9992 - val_loss: -0.4303 - val_acc: 0.9984\n"
     ]
    },
    {
     "data": {
      "text/plain": [
       "<keras.callbacks.History at 0x7efd3863cb70>"
      ]
     },
     "execution_count": 24,
     "metadata": {},
     "output_type": "execute_result"
    }
   ],
   "source": [
    "model.fit_generator(\n",
    "    utils.NerSequence(trainSentences, shuffle_data=True, batch_size=2048), \n",
    "    validation_data = utils.NerSequence(devSentences, batch_size=256), \n",
    "    epochs = 10, callbacks = [history]\n",
    ")"
   ]
  },
  {
   "cell_type": "code",
   "execution_count": 27,
   "metadata": {},
   "outputs": [],
   "source": [
    "model.load_weights(tmp_model_filename)"
   ]
  },
  {
   "cell_type": "code",
   "execution_count": 28,
   "metadata": {},
   "outputs": [
    {
     "name": "stdout",
     "output_type": "stream",
     "text": [
      "(0.5807127882599581, 0.537864077669903, 0.5584677419354839)\n"
     ]
    }
   ],
   "source": [
    "true_labels, pred_labels = utils.predict_sequences(model, testSentences)\n",
    "print(compute_f1(pred_labels, true_labels, models.idx2Label))"
   ]
  },
  {
   "cell_type": "markdown",
   "metadata": {},
   "source": [
    "# Save final model"
   ]
  },
  {
   "cell_type": "code",
   "execution_count": null,
   "metadata": {},
   "outputs": [],
   "source": [
    "import shutil, json\n",
    "# copy file for best run\n",
    "shutil.copyfile(tmp_model_filename, '../models/final_model_germeval_inner.h5')\n",
    "shutil.copyfile(tmp_model_filename + '.indexes', '../models/final_model_germeval_inner.indexes')"
   ]
  },
  {
   "cell_type": "code",
   "execution_count": null,
   "metadata": {},
   "outputs": [],
   "source": []
  }
 ],
 "metadata": {
  "kernelspec": {
   "display_name": "Python 3",
   "language": "python",
   "name": "python3"
  },
  "language_info": {
   "codemirror_mode": {
    "name": "ipython",
    "version": 3
   },
   "file_extension": ".py",
   "mimetype": "text/x-python",
   "name": "python",
   "nbconvert_exporter": "python",
   "pygments_lexer": "ipython3",
   "version": "3.5.3"
  }
 },
 "nbformat": 4,
 "nbformat_minor": 2
}
