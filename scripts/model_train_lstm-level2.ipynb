{
 "cells": [
  {
   "cell_type": "code",
   "execution_count": 1,
   "metadata": {},
   "outputs": [
    {
     "name": "stderr",
     "output_type": "stream",
     "text": [
      "/usr/lib/python3/dist-packages/h5py/__init__.py:34: FutureWarning: Conversion of the second argument of issubdtype from `float` to `np.floating` is deprecated. In future, it will be treated as `np.float64 == np.dtype(float).type`.\n",
      "  from ._conv import register_converters as _register_converters\n",
      "Using TensorFlow backend.\n",
      "/usr/lib/python3.5/importlib/_bootstrap.py:222: RuntimeWarning: numpy.dtype size changed, may indicate binary incompatibility. Expected 96, got 88\n",
      "  return f(*args, **kwds)\n"
     ]
    }
   ],
   "source": [
    "import sys\n",
    "import os\n",
    "import fastText\n",
    "\n",
    "from validation import compute_f1\n",
    "\n",
    "from keras.models import load_model\n",
    "from keras.callbacks import ModelCheckpoint, Callback\n",
    "\n",
    "import models\n",
    "import utils"
   ]
  },
  {
   "cell_type": "code",
   "execution_count": 2,
   "metadata": {},
   "outputs": [],
   "source": [
    "#%env CUDA_DEVICE_ORDER=PCI_BUS_ID\n",
    "#%env CUDA_VISIBLE_DEVICES=0"
   ]
  },
  {
   "cell_type": "code",
   "execution_count": 3,
   "metadata": {},
   "outputs": [
    {
     "name": "stdout",
     "output_type": "stream",
     "text": [
      "24000\n",
      "2200\n",
      "5100\n"
     ]
    }
   ],
   "source": [
    "trainSentences = utils.get_sentences_germeval('../../Resources/GermEVAL/NER-de-train.tsv', level2=True)\n",
    "devSentences = utils.get_sentences_germeval('../../Resources/GermEVAL/NER-de-dev.tsv', level2=True)\n",
    "testSentences = utils.get_sentences_germeval('../../Resources/GermEVAL/NER-de-test.tsv', level2=True)\n",
    "\n",
    "print(len(trainSentences))\n",
    "print(len(devSentences))\n",
    "print(len(testSentences))\n"
   ]
  },
  {
   "cell_type": "code",
   "execution_count": 4,
   "metadata": {},
   "outputs": [
    {
     "name": "stdout",
     "output_type": "stream",
     "text": [
      "[['Die', 'O'], ['These', 'O'], [',', 'O'], ['Schlatter', 'O'], ['sei', 'O'], ['Antisemit', 'O'], ['gewesen', 'O'], [',', 'O'], ['wurde', 'O'], ['seither', 'O'], ['in', 'O'], ['der', 'O'], ['theologischen', 'O'], ['Fachliteratur', 'O'], ['nicht', 'O'], ['mehr', 'O'], ['vertreten', 'O'], ['.', 'O']]\n"
     ]
    }
   ],
   "source": [
    "print(testSentences[3])"
   ]
  },
  {
   "cell_type": "code",
   "execution_count": 5,
   "metadata": {},
   "outputs": [],
   "source": [
    "labelSet = set()\n",
    "characters= set()\n",
    "models.max_sequence_length = 0\n",
    "\n",
    "for dataset in [trainSentences, devSentences, testSentences]:\n",
    "    for sentence in dataset:\n",
    "        for word, label in sentence:\n",
    "            for char in word:\n",
    "                characters.add(char)\n",
    "            labelSet.add(label)\n",
    "        if len(sentence) > models.max_sequence_length:\n",
    "            models.max_sequence_length = len(sentence)"
   ]
  },
  {
   "cell_type": "code",
   "execution_count": 6,
   "metadata": {},
   "outputs": [
    {
     "name": "stdout",
     "output_type": "stream",
     "text": [
      "18\n",
      "56\n"
     ]
    }
   ],
   "source": [
    "print(len(labelSet))\n",
    "print(models.max_sequence_length)"
   ]
  },
  {
   "cell_type": "code",
   "execution_count": 7,
   "metadata": {},
   "outputs": [],
   "source": [
    "# :: Create a mapping for the labels ::\n",
    "models.label2Idx = {\"PADDING_TOKEN\":0}\n",
    "for label in labelSet:\n",
    "    models.label2Idx[label] = len(models.label2Idx)"
   ]
  },
  {
   "cell_type": "code",
   "execution_count": 8,
   "metadata": {},
   "outputs": [
    {
     "name": "stdout",
     "output_type": "stream",
     "text": [
      "{'I-PER': 1, 'I-OTH': 2, 'O': 3, 'B-PERpart': 4, 'B-ORG': 6, 'B-OTHpart': 5, 'B-OTH': 7, 'B-LOCderiv': 8, 'B-PERderiv': 9, 'B-LOC': 10, 'PADDING_TOKEN': 0, 'B-ORGderiv': 11, 'I-ORG': 12, 'I-LOCderiv': 13, 'B-LOCpart': 14, 'B-ORGpart': 15, 'B-PER': 16, 'I-LOC': 17, 'B-OTHderiv': 18}\n"
     ]
    }
   ],
   "source": [
    "print(models.label2Idx)"
   ]
  },
  {
   "cell_type": "code",
   "execution_count": 9,
   "metadata": {},
   "outputs": [],
   "source": [
    "# :: Hard coded case lookup ::\n",
    "models.case2Idx = {'PADDING_TOKEN':0, 'numeric': 1, 'allLower':2, 'allUpper':3, 'initialUpper':4, 'other':5, 'mainly_numeric':6, 'contains_digit': 7}"
   ]
  },
  {
   "cell_type": "code",
   "execution_count": 10,
   "metadata": {},
   "outputs": [
    {
     "name": "stdout",
     "output_type": "stream",
     "text": [
      "{'numeric': 1, 'allLower': 2, 'other': 5, 'mainly_numeric': 6, 'initialUpper': 4, 'contains_digit': 7, 'allUpper': 3, 'PADDING_TOKEN': 0}\n"
     ]
    }
   ],
   "source": [
    "print(models.case2Idx)"
   ]
  },
  {
   "cell_type": "code",
   "execution_count": 11,
   "metadata": {},
   "outputs": [
    {
     "name": "stdout",
     "output_type": "stream",
     "text": [
      "<class 'list'>\n"
     ]
    }
   ],
   "source": [
    "print(type(trainSentences))"
   ]
  },
  {
   "cell_type": "code",
   "execution_count": 12,
   "metadata": {},
   "outputs": [
    {
     "name": "stdout",
     "output_type": "stream",
     "text": [
      "[['Schartau', 'O'], ['sagte', 'O'], ['dem', 'O'], ['\"', 'O'], ['Tagesspiegel', 'O'], ['\"', 'O'], ['vom', 'O'], ['Freitag', 'O'], [',', 'O'], ['Fischer', 'O'], ['sei', 'O'], ['\"', 'O'], ['in', 'O'], ['einer', 'O'], ['Weise', 'O'], ['aufgetreten', 'O'], [',', 'O'], ['die', 'O'], ['alles', 'O'], ['andere', 'O'], ['als', 'O'], ['überzeugend', 'O'], ['war', 'O'], ['\"', 'O'], ['.', 'O']]\n"
     ]
    }
   ],
   "source": [
    "print(trainSentences[0])"
   ]
  },
  {
   "cell_type": "code",
   "execution_count": 13,
   "metadata": {
    "scrolled": true
   },
   "outputs": [
    {
     "name": "stdout",
     "output_type": "stream",
     "text": [
      "{'8': 5, 'µ': 6, 'и': 261, 'к': 114, 't': 7, 'ý': 8, 'Å': 278, '別': 10, 'й': 12, 'PADDING_TOKEN': 0, 'z': 55, 'Т': 14, 'ε': 15, '東': 17, '公': 60, 'ό': 113, 'ą': 220, 'Ž': 18, '/': 328, '\\x96': 19, 'т': 20, 'ν': 21, 'ά': 150, 'J': 22, 'н': 284, 'τ': 300, 'ı': 26, '\\x9a': 32, 'σ': 29, '»': 30, 'F': 31, '</S>': 2, 'ø': 35, 'Ш': 214, 'ǒ': 37, ']': 38, '학': 40, 'ć': 64, 'أ': 42, '·': 9, '>': 43, '冲': 184, '_': 311, '章': 45, 'Ş': 46, 'ς': 176, 'б': 48, 'T': 289, '$': 49, '°': 50, 'ł': 159, '算': 51, 'γ': 52, '§': 233, 'Ö': 53, 'г': 54, '[': 59, 'b': 56, 'q': 57, 'Π': 13, '術': 286, '×': 61, 'ö': 62, 'C': 63, '½': 189, '李': 65, '\\x94': 66, '³': 230, 'ó': 123, 'À': 67, 'ě': 275, 'з': 69, '별': 258, '¤': 82, 'Ä': 293, 'λ': 73, 'ب': 75, 'ă': 74, 'Ġ': 25, 'K': 76, 'オ': 77, 'Â': 78, '€': 79, 'ض': 80, '柯': 84, 'Š': 16, '루': 248, '南': 85, 'p': 86, 'č': 240, 'ô': 87, 'š': 252, '@': 88, 'ῦ': 238, '造': 90, 'ā': 70, '守': 92, 'Л': 93, 'д': 94, 'ʻ': 95, 'ť': 98, 'є': 97, 'j': 99, '\\x99': 103, 'u': 101, 'ю': 287, '⊃': 104, 'i': 71, 'P': 105, '⋅': 145, 'х': 109, '—': 110, 'ệ': 118, 'ρ': 253, 'è': 112, 'ψ': 121, '\\x80': 115, '≤': 120, 'ã': 116, '²': 117, '殿': 119, 'D': 122, '´': 124, '鶴': 127, '’': 125, '¹': 126, 'И': 128, '“': 129, 'ا': 241, ':': 130, 'd': 323, '貴': 132, '=': 315, 'е': 133, 'ō': 81, '„': 134, 'р': 135, 'ο': 267, '동': 137, 'E': 246, 'ê': 140, 'G': 141, 'œ': 234, '.': 143, 'â': 144, '<': 291, 'k': 147, 'Œ': 149, 'ż': 153, 'έ': 151, '\\x95': 131, 'Č': 154, 'ḫ': 157, 'Ц': 156, 'ē': 307, '+': 158, '鷹': 160, '寝': 161, '(': 162, '\"': 163, '▪': 168, '–': 166, 'м': 167, '}': 83, 'ë': 170, 'ї': 262, 'ế': 296, 'Á': 139, '9': 173, 'l': 174, 'È': 142, '*': 175, 'Ż': 185, 'X': 177, 'ß': 178, 'ħ': 187, '%': 180, '太': 308, 'm': 316, 'ü': 186, '士': 305, 'ð': 188, 'ɨ': 215, 'Z': 27, 'ĩ': 190, '0': 191, 'У': 192, '<S>': 1, '−': 194, 'Î': 28, '›': 195, '妃': 196, 'ő': 332, '\\x92': 197, 'ī': 183, 'y': 199, 'ي': 329, '傳': 224, '±': 324, 'ğ': 200, '”': 201, 'Е': 34, 'Λ': 203, 'ś': 277, '-': 204, 'h': 205, 'ş': 237, 'ę': 206, 'у': 207, '…': 208, '4': 33, '‐': 211, '懿': 212, '\\xad': 266, '7': 107, '→': 270, 'H': 216, 'û': 310, 'ŏ': 218, 'w': 89, 'ç': 213, 'ж': 221, 'С': 222, 'R': 223, 'B': 138, 'а': 182, 'ḳ': 226, 'a': 146, 'υ': 23, 'Q': 227, 'ń': 301, '1': 148, ',': 228, 'å': 229, '#': 321, 'ñ': 325, 'V': 179, 'é': 231, ';': 36, '†': 58, 'в': 235, 'ř': 236, 'Y': 91, 'c': 299, 'Ø': 239, 'ن': 152, 'η': 242, 'Þ': 243, '‹': 209, 'M': 244, 'f': 245, '‚': 268, \"'\": 181, 'ċ': 247, '©': 249, '九': 255, 'ـ': 39, 'S': 250, 'о': 251, 'ņ': 254, '`': 256, '2': 257, 'ä': 259, 'r': 260, 'à': 155, 'Ü': 96, '대': 264, 'ы': 41, 'N': 102, '~': 265, '</W>': 4, 'φ': 172, '樓': 44, 'α': 320, 'я': 269, '£': 136, 'Ł': 68, 'W': 108, 'O': 273, '6': 272, 'n': 198, '!': 217, 'ラ': 232, '″': 11, 'x': 279, 'í': 281, 'ь': 282, '<W>': 3, 'o': 285, 'İ': 294, 'В': 288, 'g': 219, 'М': 280, 'β': 47, 'UNKNOWN': 333, 'П': 292, '?': 193, 'ū': 295, '‘': 111, '«': 72, ')': 297, 'A': 298, 'á': 164, 'L': 100, 'ź': 202, 'U': 302, 'î': 303, 'Æ': 304, '&': 274, 'ú': 306, '5': 165, '≘': 283, 'v': 309, 'ň': 276, 'õ': 225, 'æ': 312, '博': 313, 'ι': 314, '\\u200e': 290, '佐': 24, '3': 317, 'É': 318, '台': 263, '¸': 326, 'e': 322, 'с': 319, 'π': 210, 'I': 327, 'ъ': 271, 'п': 330, 'κ': 106, 's': 169, 'л': 331, 'ž': 171}\n"
     ]
    }
   ],
   "source": [
    "models.char2Idx={\"PADDING_TOKEN\":0, \"<S>\":1, \"</S>\":2, \"<W>\":3, \"</W>\":4}\n",
    "for char in characters:\n",
    "    models.char2Idx[char] = len(models.char2Idx)\n",
    "models.char2Idx['UNKNOWN'] = len(models.char2Idx)\n",
    "print(models.char2Idx)"
   ]
  },
  {
   "cell_type": "code",
   "execution_count": 14,
   "metadata": {
    "scrolled": true
   },
   "outputs": [
    {
     "name": "stdout",
     "output_type": "stream",
     "text": [
      "[['Schartau', 'O'], ['sagte', 'O'], ['dem', 'O'], ['\"', 'O'], ['Tagesspiegel', 'O'], ['\"', 'O'], ['vom', 'O'], ['Freitag', 'O'], [',', 'O'], ['Fischer', 'O'], ['sei', 'O'], ['\"', 'O'], ['in', 'O'], ['einer', 'O'], ['Weise', 'O'], ['aufgetreten', 'O'], [',', 'O'], ['die', 'O'], ['alles', 'O'], ['andere', 'O'], ['als', 'O'], ['überzeugend', 'O'], ['war', 'O'], ['\"', 'O'], ['.', 'O']]\n"
     ]
    }
   ],
   "source": [
    "print(trainSentences[0]) "
   ]
  },
  {
   "cell_type": "code",
   "execution_count": 15,
   "metadata": {},
   "outputs": [],
   "source": [
    "models.ft = fastText.load_model(\"../../fastText/wiki.de.bin\")"
   ]
  },
  {
   "cell_type": "code",
   "execution_count": 16,
   "metadata": {},
   "outputs": [
    {
     "name": "stdout",
     "output_type": "stream",
     "text": [
      "300\n",
      "25\n"
     ]
    }
   ],
   "source": [
    "print(models.nb_embedding_dims)\n",
    "print(len(trainSentences[0]))"
   ]
  },
  {
   "cell_type": "code",
   "execution_count": 17,
   "metadata": {},
   "outputs": [
    {
     "name": "stdout",
     "output_type": "stream",
     "text": [
      "19\n",
      "19\n"
     ]
    }
   ],
   "source": [
    "models.idx2Label = {v: k for k, v in models.label2Idx.items()}\n",
    "print(len(models.label2Idx))\n",
    "print(len(models.idx2Label))"
   ]
  },
  {
   "cell_type": "markdown",
   "metadata": {
    "scrolled": true
   },
   "source": [
    "# Compute Model"
   ]
  },
  {
   "cell_type": "code",
   "execution_count": null,
   "metadata": {},
   "outputs": [],
   "source": [
    "# import importlib\n",
    "# importlib.reload(models)"
   ]
  },
  {
   "cell_type": "code",
   "execution_count": 19,
   "metadata": {},
   "outputs": [
    {
     "name": "stdout",
     "output_type": "stream",
     "text": [
      "__________________________________________________________________________________________________\n",
      "Layer (type)                    Output Shape         Param #     Connected to                     \n",
      "==================================================================================================\n",
      "char_input (InputLayer)         (None, None, 52)     0                                            \n",
      "__________________________________________________________________________________________________\n",
      "casing_input (InputLayer)       (None, None)         0                                            \n",
      "__________________________________________________________________________________________________\n",
      "char_embedding (TimeDistributed (None, None, 52, 32) 10688       char_input[0][0]                 \n",
      "__________________________________________________________________________________________________\n",
      "words_input (InputLayer)        (None, None, 300)    0                                            \n",
      "__________________________________________________________________________________________________\n",
      "case_embed (Embedding)          (None, None, 8)      64          casing_input[0][0]               \n",
      "__________________________________________________________________________________________________\n",
      "time_distributed_2 (TimeDistrib (None, None, 100)    33200       char_embedding[0][0]             \n",
      "__________________________________________________________________________________________________\n",
      "concatenate_2 (Concatenate)     (None, None, 408)    0           words_input[0][0]                \n",
      "                                                                 case_embed[0][0]                 \n",
      "                                                                 time_distributed_2[0][0]         \n",
      "__________________________________________________________________________________________________\n",
      "bidirectional_4 (Bidirectional) (None, None, 400)    974400      concatenate_2[0][0]              \n",
      "__________________________________________________________________________________________________\n",
      "time_distributed_3 (TimeDistrib (None, None, 19)     7619        bidirectional_4[0][0]            \n",
      "__________________________________________________________________________________________________\n",
      "crf (CRF)                       (None, None, 19)     779         time_distributed_3[0][0]         \n",
      "==================================================================================================\n",
      "Total params: 1,026,750\n",
      "Trainable params: 1,026,686\n",
      "Non-trainable params: 64\n",
      "__________________________________________________________________________________________________\n"
     ]
    }
   ],
   "source": [
    "tmp_model_filename = 'model_lstm_germeval_2nd-level.h5'\n",
    "# checkpoint = ModelCheckpoint(tmp_model_filename, verbose=1, save_best_only = True, monitor = 'val_acc')\n",
    "history = utils.F1History(tmp_model_filename, devSet = devSentences)\n",
    "model = models.get_model_lstm_v2()"
   ]
  },
  {
   "cell_type": "code",
   "execution_count": null,
   "metadata": {},
   "outputs": [],
   "source": [
    "#import importlib\n",
    "#importlib.reload(utils)\n",
    "# print(models.max_sequence_length)"
   ]
  },
  {
   "cell_type": "code",
   "execution_count": null,
   "metadata": {
    "scrolled": true
   },
   "outputs": [
    {
     "name": "stdout",
     "output_type": "stream",
     "text": [
      "Epoch 1/10\n",
      "1499/1500 [============================>.] - ETA: 0s - loss: 0.0071 - acc: 0.9969\n",
      "New maximum F1 score: 0.4797843665768194 (before: 0) Saving to model_lstm_germeval_2nd-level.h5\n",
      "1500/1500 [==============================] - 402s 268ms/step - loss: 0.0071 - acc: 0.9969 - val_loss: -0.0156 - val_acc: 0.9983\n",
      "Epoch 2/10\n",
      "1500/1500 [==============================] - 403s 269ms/step - loss: -0.0374 - acc: 0.9983 - val_loss: -0.0615 - val_acc: 0.9984\n",
      "Epoch 3/10\n",
      "1499/1500 [============================>.] - ETA: 0s - loss: -0.0866 - acc: 0.9984\n",
      "New maximum F1 score: 0.5507246376811593 (before: 0.4797843665768194) Saving to model_lstm_germeval_2nd-level.h5\n",
      "1500/1500 [==============================] - 397s 265ms/step - loss: -0.0867 - acc: 0.9984 - val_loss: -0.1126 - val_acc: 0.9984\n",
      "Epoch 4/10\n",
      "1500/1500 [==============================] - 398s 265ms/step - loss: -0.1396 - acc: 0.9985 - val_loss: -0.1647 - val_acc: 0.9980\n",
      "Epoch 5/10\n",
      "1500/1500 [==============================] - 398s 266ms/step - loss: -0.1934 - acc: 0.9986 - val_loss: -0.2193 - val_acc: 0.9984\n",
      "Epoch 6/10\n",
      "1499/1500 [============================>.] - ETA: 0s - loss: -0.2473 - acc: 0.9987\n",
      "New maximum F1 score: 0.5522041763341068 (before: 0.5507246376811593) Saving to model_lstm_germeval_2nd-level.h5\n",
      "1500/1500 [==============================] - 401s 268ms/step - loss: -0.2473 - acc: 0.9987 - val_loss: -0.2727 - val_acc: 0.9983\n",
      "Epoch 7/10\n",
      " 573/1500 [==========>...................] - ETA: 3:53 - loss: -0.2847 - acc: 0.9987"
     ]
    }
   ],
   "source": [
    "model.fit_generator(\n",
    "    utils.NerSequence(trainSentences, shuffle_data=True, batch_size=16), \n",
    "    validation_data = utils.NerSequence(devSentences, batch_size=256), \n",
    "    epochs = 10, callbacks = [history]\n",
    ")"
   ]
  },
  {
   "cell_type": "code",
   "execution_count": null,
   "metadata": {},
   "outputs": [],
   "source": [
    "print(history.acc)\n",
    "print(history.f1_scores)"
   ]
  },
  {
   "cell_type": "code",
   "execution_count": null,
   "metadata": {
    "scrolled": true
   },
   "outputs": [],
   "source": [
    "model.load_weights(tmp_model_filename)"
   ]
  },
  {
   "cell_type": "code",
   "execution_count": null,
   "metadata": {},
   "outputs": [],
   "source": [
    "model.fit_generator(\n",
    "    utils.NerSequence(trainSentences, shuffle_data=True, batch_size=2048), \n",
    "    validation_data = utils.NerSequence(devSentences, batch_size=256), \n",
    "    epochs = 10, callbacks = [history]\n",
    ")"
   ]
  },
  {
   "cell_type": "code",
   "execution_count": null,
   "metadata": {},
   "outputs": [],
   "source": [
    "model.load_weights(tmp_model_filename)"
   ]
  },
  {
   "cell_type": "code",
   "execution_count": null,
   "metadata": {},
   "outputs": [],
   "source": [
    "true_labels, pred_labels = utils.predict_sequences(model, testSentences[:1000])\n",
    "print(compute_f1(pred_labels, true_labels, models.idx2Label))"
   ]
  },
  {
   "cell_type": "code",
   "execution_count": null,
   "metadata": {},
   "outputs": [],
   "source": [
    "true_labels, pred_labels = utils.predict_sequences(model, testSentences)\n",
    "print(compute_f1(pred_labels, true_labels, models.idx2Label))"
   ]
  },
  {
   "cell_type": "markdown",
   "metadata": {},
   "source": [
    "# Save final model"
   ]
  },
  {
   "cell_type": "code",
   "execution_count": null,
   "metadata": {},
   "outputs": [],
   "source": [
    "import shutil, json\n",
    "# copy file for best run\n",
    "shutil.copyfile(tmp_model_filename, '../models/final_model_germeval_inner.h5')\n",
    "shutil.copyfile(tmp_model_filename + '.indexes', '../models/final_model_germeval_inner.indexes')"
   ]
  },
  {
   "cell_type": "code",
   "execution_count": null,
   "metadata": {},
   "outputs": [],
   "source": [
    "from keras_contrib.layers import CRF\n",
    "def create_custom_objects():\n",
    "    instanceHolder = {\"instance\": None}\n",
    "    class ClassWrapper(CRF):\n",
    "        def __init__(self, *args, **kwargs):\n",
    "            instanceHolder[\"instance\"] = self\n",
    "            super(ClassWrapper, self).__init__(*args, **kwargs)\n",
    "    def loss(*args):\n",
    "        method = getattr(instanceHolder[\"instance\"], \"loss_function\")\n",
    "        return method(*args)\n",
    "    def accuracy(*args):\n",
    "        method = getattr(instanceHolder[\"instance\"], \"accuracy\")\n",
    "        return method(*args)\n",
    "    return {\"ClassWrapper\": ClassWrapper ,\"CRF\": ClassWrapper, \"loss\": loss, \"accuracy\":accuracy}\n",
    "\n",
    "finalmodel = load_model('../models/final_model_germeval_outer.h5', custom_objects=create_custom_objects())\n",
    "true_labels, pred_labels = utils.predict_sequences(finalmodel, testSentences)\n",
    "print(compute_f1(pred_labels, true_labels, models.idx2Label))"
   ]
  },
  {
   "cell_type": "code",
   "execution_count": null,
   "metadata": {},
   "outputs": [],
   "source": [
    "f = open('germeval_output.tsv', 'w', encoding='UTF-8')\n",
    "for i_sent, sent in enumerate(testSentences):\n",
    "    for i_tok, tok in enumerate(sent):\n",
    "        if tok[0] == 'PADDING_TOKEN':\n",
    "            break\n",
    "        correctlabel = models.idx2Label[true_labels[i_sent][i_tok]]\n",
    "        guessedlabel = models.idx2Label[pred_labels[i_sent][i_tok]]\n",
    "        line = \"\\t\".join([str(i_tok+1), tok[0], correctlabel, correctlabel, guessedlabel, guessedlabel])\n",
    "        f.write(line + '\\n')\n",
    "    f.write('\\n')\n",
    "f.close"
   ]
  },
  {
   "cell_type": "code",
   "execution_count": null,
   "metadata": {},
   "outputs": [],
   "source": []
  }
 ],
 "metadata": {
  "kernelspec": {
   "display_name": "Python 3",
   "language": "python",
   "name": "python3"
  },
  "language_info": {
   "codemirror_mode": {
    "name": "ipython",
    "version": 3
   },
   "file_extension": ".py",
   "mimetype": "text/x-python",
   "name": "python",
   "nbconvert_exporter": "python",
   "pygments_lexer": "ipython3",
   "version": "3.5.3"
  }
 },
 "nbformat": 4,
 "nbformat_minor": 2
}
