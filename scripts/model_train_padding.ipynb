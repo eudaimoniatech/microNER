{
 "cells": [
  {
   "cell_type": "code",
   "execution_count": 1,
   "metadata": {},
   "outputs": [
    {
     "name": "stderr",
     "output_type": "stream",
     "text": [
      "/home/gwiedemann/miniconda3/envs/kerasenv/lib/python3.5/site-packages/h5py/__init__.py:36: FutureWarning: Conversion of the second argument of issubdtype from `float` to `np.floating` is deprecated. In future, it will be treated as `np.float64 == np.dtype(float).type`.\n",
      "  from ._conv import register_converters as _register_converters\n",
      "Using TensorFlow backend.\n"
     ]
    }
   ],
   "source": [
    "import sys\n",
    "import os\n",
    "import numpy as np \n",
    "from keras.utils import to_categorical\n",
    "from validation import compute_f1\n",
    "from keras.models import Model\n",
    "from keras.layers import TimeDistributed,Conv1D,Dense,Embedding,Input,Dropout,LSTM,Bidirectional,MaxPooling1D,Flatten,concatenate\n",
    "# from prepro import readfile,createBatches,createMatrices,iterate_minibatches,addCharInformatioin,padding\n",
    "from keras.utils import plot_model,Progbar\n",
    "from keras.preprocessing.sequence import pad_sequences\n",
    "from keras.initializers import RandomUniform\n",
    "from keras.optimizers import Adam\n",
    "import keras.backend as K\n",
    "from sklearn.metrics import f1_score\n",
    "from keras.callbacks import ModelCheckpoint, Callback\n",
    "from keras_contrib.layers import CRF\n",
    "from numpy import newaxis\n",
    "from random import shuffle\n",
    "import math\n",
    "import sklearn\n",
    "import subprocess\n",
    "import fastText\n",
    "import pickle"
   ]
  },
  {
   "cell_type": "code",
   "execution_count": 2,
   "metadata": {},
   "outputs": [],
   "source": [
    "def getCasing(word, caseLookup):\n",
    "    \n",
    "    if word == 'PADDING_TOKEN':\n",
    "        return(caseLookup['PADDING_TOKEN'])\n",
    "    \n",
    "    casing = 'other'\n",
    "    \n",
    "    numDigits = 0\n",
    "    for char in word:\n",
    "        if char.isdigit():\n",
    "            numDigits += 1\n",
    "            \n",
    "    digitFraction = numDigits / float(len(word))\n",
    "    \n",
    "    if word.isdigit(): #Is a digit\n",
    "        casing = 'numeric'\n",
    "    elif digitFraction > 0.5:\n",
    "        casing = 'mainly_numeric'\n",
    "    elif word.islower(): #All lower case\n",
    "        casing = 'allLower'\n",
    "    elif word.isupper(): #All upper case\n",
    "        casing = 'allUpper'\n",
    "    elif word[0].isupper(): #is a title, initial char upper, then all lower\n",
    "        casing = 'initialUpper'\n",
    "    elif numDigits > 0:\n",
    "        casing = 'contains_digit'\n",
    "   \n",
    "    return caseLookup[casing]"
   ]
  },
  {
   "cell_type": "code",
   "execution_count": 3,
   "metadata": {},
   "outputs": [],
   "source": [
    "def tag_dataset(dataset):\n",
    "    correctLabels = []\n",
    "    predLabels = []\n",
    "    b = Progbar(len(dataset))\n",
    "    for i,data in enumerate(dataset):    \n",
    "        tokens, casing,char, labels = data\n",
    "        tokens = np.asarray([tokens])     \n",
    "        casing = np.asarray([casing])\n",
    "        char = np.asarray([char])\n",
    "        pred = model.predict([tokens, casing,char], verbose=False)[0]   \n",
    "        pred = pred.argmax(axis=-1) #Predict the classes            \n",
    "        correctLabels.append(labels)\n",
    "        predLabels.append(pred)\n",
    "        b.update(i)\n",
    "    return predLabels, correctLabels"
   ]
  },
  {
   "cell_type": "code",
   "execution_count": 4,
   "metadata": {},
   "outputs": [],
   "source": [
    "# changing all deriv and part to misc. with BIO\n",
    "def modify_labels(dataset):\n",
    "    bad_labels = ['I-PERderiv','I-OTHpart','B-ORGderiv', 'I-OTH','B-OTHpart','B-LOCderiv','I-LOCderiv','I-OTHderiv','B-PERderiv','B-OTHderiv','B-PERpart','I-PERpart','I-LOCpart','B-LOCpart','I-ORGpart','I-ORGderiv','B-ORGpart','B-OTH']\n",
    "    for sentence in dataset:\n",
    "        for word in sentence:\n",
    "            label = word[1]\n",
    "            if label in bad_labels:\n",
    "                first_char = label[0]\n",
    "                if first_char == 'B' :\n",
    "                    word[1] = 'B-MISC'\n",
    "                else:\n",
    "                    word[1] = 'I-MISC'\n",
    "    return dataset\n",
    "                "
   ]
  },
  {
   "cell_type": "code",
   "execution_count": 5,
   "metadata": {},
   "outputs": [],
   "source": [
    "def get_sentences_germeval(path):\n",
    "    sentences = []\n",
    "    with open(path, 'r', encoding = 'UTF-8') as f:\n",
    "        sentence = []\n",
    "        for line in f:\n",
    "            \n",
    "            line = line.strip()\n",
    "            \n",
    "            # append sentence\n",
    "            if len(line) == 0:\n",
    "                if len(sentence):\n",
    "                    sentences.append(sentence)\n",
    "                sentence = []\n",
    "                continue\n",
    "            \n",
    "            # get sentence tokens\n",
    "            splits = line.split()\n",
    "            if splits[0] == '#':\n",
    "                continue\n",
    "            temp = [splits[1],splits[2]]\n",
    "            sentence.append(temp)\n",
    "        \n",
    "        # append last\n",
    "        if len(sentence):\n",
    "            sentences.append(sentence)    \n",
    "    return sentences"
   ]
  },
  {
   "cell_type": "code",
   "execution_count": 6,
   "metadata": {},
   "outputs": [],
   "source": [
    "# preproecessing data from Conll\n",
    "def get_sentences_conll(filename):\n",
    "    '''\n",
    "        -DOCSTART- -X- -X- O\n",
    "\n",
    "    EU NNP B-NP B-ORG\n",
    "    rejects VBZ B-VP O\n",
    "    German JJ B-NP B-MISC\n",
    "    call NN I-NP O\n",
    "    to TO B-VP O\n",
    "    boycott VB I-VP O\n",
    "    British JJ B-NP B-MISC\n",
    "    lamb NN I-NP O\n",
    "    . . O O\n",
    "    \n",
    "    '''\n",
    "    \n",
    "    '''\n",
    "    read file\n",
    "    return format :\n",
    "    [ ['EU', 'B-ORG'], ['rejects', 'O'], ['German', 'B-MISC'], ['call', 'O'], ['to', 'O'], ['boycott', 'O'], ['British', 'B-MISC'], ['lamb', 'O'], ['.', 'O'] ]\n",
    "    '''\n",
    "    f = open(filename,'rb')\n",
    "    sentences = []\n",
    "    sentence = []\n",
    "    for line in f:\n",
    "        splits = line.split()\n",
    "        try:\n",
    "            word=splits[0].decode()\n",
    "            if word=='-DOCSTART-':\n",
    "                continue\n",
    "            label=splits[-1].decode()\n",
    "            temp=[word,label]\n",
    "            sentence.append(temp)\n",
    "        except Exception as e:\n",
    "            if len(sentence)!=0:\n",
    "                sentences.append(sentence)\n",
    "                sentence=[]\n",
    "    return sentences\n",
    "\n"
   ]
  },
  {
   "cell_type": "code",
   "execution_count": 7,
   "metadata": {},
   "outputs": [
    {
     "name": "stdout",
     "output_type": "stream",
     "text": [
      "24000\n",
      "2200\n",
      "5100\n"
     ]
    }
   ],
   "source": [
    "trainSentences = get_sentences_germeval('../data/GermEVAL/NER-de-train.tsv')\n",
    "devSentences = get_sentences_germeval('../data/GermEVAL/NER-de-dev.tsv')\n",
    "testSentences = get_sentences_germeval('../data/GermEVAL/NER-de-test.tsv')\n",
    "\n",
    "# trainSentences = get_sentences('../data/CONLL/deu/deu_utf.train')\n",
    "# devSentences = get_sentences('../data/CONLL/deu/deu_utf.testa')\n",
    "# testSentences = get_sentences('../data/CONLL/deu/deu_utf.testb')\n",
    "\n",
    "print(len(trainSentences))\n",
    "print(len(devSentences))\n",
    "print(len(testSentences))\n"
   ]
  },
  {
   "cell_type": "code",
   "execution_count": 8,
   "metadata": {},
   "outputs": [
    {
     "name": "stdout",
     "output_type": "stream",
     "text": [
      "[['1951', 'O'], ['bis', 'O'], ['1953', 'O'], ['wurde', 'O'], ['der', 'O'], ['nördliche', 'O'], ['Teil', 'O'], ['als', 'O'], ['Jugendburg', 'O'], ['des', 'O'], ['Kolpingwerkes', 'B-OTH'], ['gebaut', 'O'], ['.', 'O']]\n"
     ]
    }
   ],
   "source": [
    "print(testSentences[0])"
   ]
  },
  {
   "cell_type": "code",
   "execution_count": 9,
   "metadata": {},
   "outputs": [],
   "source": [
    "labelSet = set()\n",
    "characters= set()\n",
    "max_sequence_length = 0\n",
    "\n",
    "for dataset in [trainSentences, devSentences, testSentences]:\n",
    "    for sentence in dataset:\n",
    "        for word, label in sentence:\n",
    "            for char in word:\n",
    "                characters.add(char)\n",
    "            labelSet.add(label)\n",
    "        if len(sentence) > max_sequence_length:\n",
    "            max_sequence_length = len(sentence)"
   ]
  },
  {
   "cell_type": "code",
   "execution_count": 10,
   "metadata": {},
   "outputs": [
    {
     "name": "stdout",
     "output_type": "stream",
     "text": [
      "25\n",
      "56\n"
     ]
    }
   ],
   "source": [
    "print(len(labelSet))\n",
    "print(max_sequence_length)"
   ]
  },
  {
   "cell_type": "code",
   "execution_count": 11,
   "metadata": {},
   "outputs": [],
   "source": [
    "# :: Create a mapping for the labels ::\n",
    "label2Idx = {\"PADDING_TOKEN\":0}\n",
    "for label in labelSet:\n",
    "    label2Idx[label] = len(label2Idx)"
   ]
  },
  {
   "cell_type": "code",
   "execution_count": 12,
   "metadata": {},
   "outputs": [
    {
     "name": "stdout",
     "output_type": "stream",
     "text": [
      "{'I-OTHderiv': 1, 'B-ORGpart': 15, 'I-ORGpart': 2, 'B-LOCpart': 3, 'I-LOCpart': 16, 'O': 5, 'I-LOCderiv': 6, 'B-OTHpart': 4, 'I-PERpart': 17, 'I-OTH': 18, 'B-PERpart': 19, 'B-PERderiv': 20, 'I-OTHpart': 22, 'I-PER': 23, 'B-LOC': 7, 'I-LOC': 24, 'B-OTH': 8, 'I-ORG': 9, 'B-LOCderiv': 10, 'B-ORG': 12, 'I-PERderiv': 21, 'I-ORGderiv': 13, 'B-ORGderiv': 25, 'PADDING_TOKEN': 0, 'B-PER': 14, 'B-OTHderiv': 11}\n"
     ]
    }
   ],
   "source": [
    "print(label2Idx)"
   ]
  },
  {
   "cell_type": "code",
   "execution_count": 13,
   "metadata": {},
   "outputs": [],
   "source": [
    "# :: Hard coded case lookup ::\n",
    "case2Idx = {'PADDING_TOKEN':0, 'numeric': 1, 'allLower':2, 'allUpper':3, 'initialUpper':4, 'other':5, 'mainly_numeric':6, 'contains_digit': 7}\n",
    "caseEmbeddings = np.identity(len(case2Idx), dtype='float32')"
   ]
  },
  {
   "cell_type": "code",
   "execution_count": 14,
   "metadata": {},
   "outputs": [
    {
     "name": "stdout",
     "output_type": "stream",
     "text": [
      "[[1. 0. 0. 0. 0. 0. 0. 0.]\n",
      " [0. 1. 0. 0. 0. 0. 0. 0.]\n",
      " [0. 0. 1. 0. 0. 0. 0. 0.]\n",
      " [0. 0. 0. 1. 0. 0. 0. 0.]\n",
      " [0. 0. 0. 0. 1. 0. 0. 0.]\n",
      " [0. 0. 0. 0. 0. 1. 0. 0.]\n",
      " [0. 0. 0. 0. 0. 0. 1. 0.]\n",
      " [0. 0. 0. 0. 0. 0. 0. 1.]]\n",
      "{'other': 5, 'numeric': 1, 'mainly_numeric': 6, 'contains_digit': 7, 'PADDING_TOKEN': 0, 'initialUpper': 4, 'allLower': 2, 'allUpper': 3}\n"
     ]
    }
   ],
   "source": [
    "print(caseEmbeddings)\n",
    "print(case2Idx)"
   ]
  },
  {
   "cell_type": "code",
   "execution_count": 15,
   "metadata": {},
   "outputs": [
    {
     "name": "stdout",
     "output_type": "stream",
     "text": [
      "<class 'list'>\n"
     ]
    }
   ],
   "source": [
    "print(type(trainSentences))"
   ]
  },
  {
   "cell_type": "code",
   "execution_count": 16,
   "metadata": {},
   "outputs": [
    {
     "name": "stdout",
     "output_type": "stream",
     "text": [
      "[['Schartau', 'B-PER'], ['sagte', 'O'], ['dem', 'O'], ['\"', 'O'], ['Tagesspiegel', 'B-ORG'], ['\"', 'O'], ['vom', 'O'], ['Freitag', 'O'], [',', 'O'], ['Fischer', 'B-PER'], ['sei', 'O'], ['\"', 'O'], ['in', 'O'], ['einer', 'O'], ['Weise', 'O'], ['aufgetreten', 'O'], [',', 'O'], ['die', 'O'], ['alles', 'O'], ['andere', 'O'], ['als', 'O'], ['überzeugend', 'O'], ['war', 'O'], ['\"', 'O'], ['.', 'O']]\n"
     ]
    }
   ],
   "source": [
    "print(trainSentences[0])"
   ]
  },
  {
   "cell_type": "code",
   "execution_count": 17,
   "metadata": {
    "scrolled": true
   },
   "outputs": [
    {
     "name": "stdout",
     "output_type": "stream",
     "text": [
      "{'ş': 1, '傳': 2, 'б': 8, 'у': 4, '€': 5, 'υ': 6, 'ь': 7, 'X': 9, 'ċ': 12, '\\x94': 13, 'η': 14, '`': 113, 'UNKNOWN': 329, '–': 15, '별': 17, 'h': 3, '\\u200e': 18, ']': 57, 'в': 19, '≤': 177, 'ế': 231, 'û': 20, 'ɨ': 10, 'р': 21, '李': 22, '\\x80': 23, 'ό': 117, '⊃': 24, '\\x92': 219, '©': 179, 'Л': 25, 'ї': 204, 'Ł': 122, 'Æ': 26, '_': 29, '”': 28, 'ņ': 325, 'е': 30, '公': 31, 'ا': 32, 'ă': 309, 'B': 33, 'ü': 35, 'Ġ': 106, 'ж': 268, 'v': 39, 'd': 40, '(': 41, 'И': 47, 'Λ': 44, '}': 45, 'p': 46, 'H': 48, 'ю': 81, '守': 221, 'È': 49, 'A': 50, '鷹': 60, '*': 52, '[': 54, '대': 63, '\\x9a': 61, 'w': 56, 'ś': 58, 'л': 184, 'n': 59, 'ب': 284, 'Č': 68, 'ḫ': 64, 'М': 65, 'έ': 66, 'λ': 69, 'Â': 72, 'ο': 71, 'P': 74, 'š': 75, 'ğ': 76, 'ð': 285, 'o': 79, 'н': 80, '柯': 82, 'ç': 251, 'ý': 83, '9': 84, 'ř': 85, '算': 185, 'д': 287, '8': 86, 'K': 88, '4': 89, '§': 283, '‐': 90, 'α': 77, '²': 91, 'г': 92, 'ê': 93, '>': 94, 'ŏ': 95, '›': 96, 'Š': 235, 'ς': 97, 'ъ': 101, 'â': 100, '殿': 102, '´': 103, 'Å': 104, 'ť': 105, 'ż': 236, '동': 107, 'ó': 246, 'e': 108, '=': 110, 'ά': 111, 'ú': 53, '·': 115, 'î': 114, 'ö': 116, '<': 123, '’': 118, '\\x96': 119, 'ρ': 121, 'φ': 292, 'c': 125, 'g': 127, 'µ': 294, 'ψ': 128, 'J': 129, 'I': 130, '九': 303, '寝': 131, 'å': 132, 'τ': 133, 'k': 201, 'æ': 124, '2': 134, 'ـ': 135, 'ń': 136, 'ñ': 141, 'ć': 16, 'Ż': 142, 'É': 143, '\"': 144, '‘': 145, '‚': 146, '≘': 147, '학': 150, '士': 151, 'č': 152, 'х': 198, 'ą': 153, '樓': 155, '別': 156, '貴': 160, 'ν': 158, 'ḳ': 159, 'Ш': 161, 'Ä': 140, 'ň': 165, '−': 164, 'm': 139, 'ã': 167, 'п': 170, 's': 169, 'π': 148, '\\xad': 172, 't': 174, 'è': 176, '?': 178, 'œ': 180, 'í': 254, '造': 182, 'Е': 258, '!': 183, 'Ø': 67, 'ā': 186, 'ı': 187, 'Î': 189, 'Þ': 190, 'ô': 191, '博': 192, 'я': 193, 'ē': 194, 'b': 195, '»': 196, 'и': 197, 'к': 302, '\\x99': 188, ':': 199, '+': 316, '妃': 149, ',': 200, '@': 207, 'أ': 202, 'Ü': 203, 'Т': 260, 'Ž': 205, 'U': 206, '#': 209, '冲': 27, 'κ': 211, 'オ': 208, 'y': 213, 'ي': 181, '¹': 281, '台': 216, '鶴': 262, 'м': 217, 'Á': 218, 'й': 220, 'é': 313, '6': 120, 'є': 222, 'x': 223, 'a': 225, '°': 226, '太': 264, 'ī': 227, 'u': 228, ')': 229, 'ě': 317, '3': 168, '„': 233, 'ض': 210, 'Π': 36, 'Ö': 237, 'т': 238, '×': 239, '7': 240, 'ن': 241, '‹': 242, '±': 234, '“': 212, '¸': 171, '-': 244, 'Z': 245, 'ū': 98, 'β': 247, '″': 126, '懿': 154, '南': 248, 'о': 249, '⋅': 215, 'ę': 99, 'ō': 250, 'ß': 214, 'V': 319, '%': 252, '£': 243, 'С': 253, 'á': 34, 'G': 256, 'σ': 257, 'S': 259, '5': 266, '†': 55, 'ε': 261, 'Q': 263, 'N': 157, 'γ': 62, '章': 265, '術': 38, '/': 138, 'ä': 267, '0': 269, 'r': 320, 'C': 270, 'ħ': 272, 'İ': 42, 'ž': 274, 'ø': 314, '«': 275, 'ǒ': 271, 'ł': 70, 'i': 277, 'l': 278, 'L': 279, 'ë': 280, 'Y': 37, 'з': 282, 'ź': 304, '$': 43, 'ʻ': 162, 'f': 163, '¤': 273, '.': 276, 'Ц': 255, 'а': 299, 'Ş': 166, 'õ': 288, 'с': 322, 'z': 73, 'À': 289, '▪': 290, 'à': 291, 'T': 224, 'j': 293, 'В': 295, '³': 296, 'ῦ': 305, 'M': 298, 'П': 300, 'W': 301, \"'\": 87, '佐': 232, '루': 306, 'ệ': 307, 'ι': 109, 'ы': 137, '&': 308, 'ラ': 310, 'R': 311, 'E': 312, 'ĩ': 173, '1': 315, 'q': 321, ';': 318, 'PADDING_TOKEN': 0, 'У': 230, '東': 286, 'O': 11, '→': 323, '½': 51, '~': 324, '\\x95': 297, 'ő': 112, 'F': 175, 'Œ': 78, '…': 326, 'D': 327, '—': 328}\n"
     ]
    }
   ],
   "source": [
    "char2Idx={\"PADDING_TOKEN\":0}\n",
    "for char in characters:\n",
    "    char2Idx[char] = len(char2Idx)\n",
    "char2Idx['UNKNOWN'] = len(char2Idx)\n",
    "print(char2Idx)"
   ]
  },
  {
   "cell_type": "code",
   "execution_count": 18,
   "metadata": {
    "scrolled": true
   },
   "outputs": [
    {
     "name": "stdout",
     "output_type": "stream",
     "text": [
      "[['Schartau', 'B-PER'], ['sagte', 'O'], ['dem', 'O'], ['\"', 'O'], ['Tagesspiegel', 'B-ORG'], ['\"', 'O'], ['vom', 'O'], ['Freitag', 'O'], [',', 'O'], ['Fischer', 'B-PER'], ['sei', 'O'], ['\"', 'O'], ['in', 'O'], ['einer', 'O'], ['Weise', 'O'], ['aufgetreten', 'O'], [',', 'O'], ['die', 'O'], ['alles', 'O'], ['andere', 'O'], ['als', 'O'], ['überzeugend', 'O'], ['war', 'O'], ['\"', 'O'], ['.', 'O']]\n"
     ]
    }
   ],
   "source": [
    "print(trainSentences[0]) "
   ]
  },
  {
   "cell_type": "code",
   "execution_count": 19,
   "metadata": {},
   "outputs": [],
   "source": [
    "ft = fastText.load_model(\"../embeddings/wiki.de.bin\")\n",
    "# ft = fastText.load_model(\"../embeddings/cc.de.300.bin\")\n",
    "\n",
    "nb_embedding_dims = ft.get_dimension()"
   ]
  },
  {
   "cell_type": "code",
   "execution_count": 20,
   "metadata": {},
   "outputs": [
    {
     "name": "stdout",
     "output_type": "stream",
     "text": [
      "300\n",
      "25\n"
     ]
    }
   ],
   "source": [
    "print(nb_embedding_dims)\n",
    "print(len(trainSentences[0]))"
   ]
  },
  {
   "cell_type": "code",
   "execution_count": 21,
   "metadata": {},
   "outputs": [
    {
     "name": "stdout",
     "output_type": "stream",
     "text": [
      "[['Schartau', 'B-PER'], ['sagte', 'O'], ['dem', 'O'], ['\"', 'O'], ['Tagesspiegel', 'B-ORG'], ['\"', 'O'], ['vom', 'O'], ['Freitag', 'O'], [',', 'O'], ['Fischer', 'B-PER'], ['sei', 'O'], ['\"', 'O'], ['in', 'O'], ['einer', 'O'], ['Weise', 'O'], ['aufgetreten', 'O'], [',', 'O'], ['die', 'O'], ['alles', 'O'], ['andere', 'O'], ['als', 'O'], ['überzeugend', 'O'], ['war', 'O'], ['\"', 'O'], ['.', 'O']]\n"
     ]
    }
   ],
   "source": [
    "print(trainSentences[0])"
   ]
  },
  {
   "cell_type": "code",
   "execution_count": 22,
   "metadata": {},
   "outputs": [],
   "source": [
    "def createBatches(dataset, batch_size):\n",
    "    batches = []\n",
    "    temp = []\n",
    "    i = 0\n",
    "    for item in dataset:\n",
    "        temp.append(item)\n",
    "        i += 1\n",
    "        if i == batch_size:\n",
    "            batches.append(temp)\n",
    "            temp = []\n",
    "            i = 0\n",
    "    if len(temp) > 0:\n",
    "        batches.append(temp)\n",
    "    return batches"
   ]
  },
  {
   "cell_type": "code",
   "execution_count": 23,
   "metadata": {},
   "outputs": [],
   "source": [
    "batch_size = 32\n",
    "# train_batches = createBatches(trainSentences, batch_size)\n",
    "# dev_batches = createBatches(devSentences, batch_size)\n",
    "# test_batches = createBatches(testSentences, batch_size)"
   ]
  },
  {
   "cell_type": "code",
   "execution_count": 24,
   "metadata": {},
   "outputs": [
    {
     "ename": "NameError",
     "evalue": "name 'generator' is not defined",
     "output_type": "error",
     "traceback": [
      "\u001b[0;31m---------------------------------------------------------------------------\u001b[0m",
      "\u001b[0;31mNameError\u001b[0m                                 Traceback (most recent call last)",
      "\u001b[0;32m<ipython-input-24-ba8ce6c4facd>\u001b[0m in \u001b[0;36m<module>\u001b[0;34m()\u001b[0m\n\u001b[1;32m      1\u001b[0m \u001b[0mi\u001b[0m \u001b[0;34m=\u001b[0m \u001b[0;36m0\u001b[0m\u001b[0;34m\u001b[0m\u001b[0m\n\u001b[0;32m----> 2\u001b[0;31m \u001b[0;32mfor\u001b[0m \u001b[0mexample_in\u001b[0m\u001b[0;34m,\u001b[0m \u001b[0mexample_out\u001b[0m \u001b[0;32min\u001b[0m \u001b[0mgenerator\u001b[0m\u001b[0;34m(\u001b[0m\u001b[0mtrain_batches\u001b[0m\u001b[0;34m)\u001b[0m\u001b[0;34m:\u001b[0m\u001b[0;34m\u001b[0m\u001b[0m\n\u001b[0m\u001b[1;32m      3\u001b[0m     \u001b[0;31m# [0] word: batch_size * sequence_length * word_embedding_dim\u001b[0m\u001b[0;34m\u001b[0m\u001b[0;34m\u001b[0m\u001b[0m\n\u001b[1;32m      4\u001b[0m     \u001b[0mprint\u001b[0m\u001b[0;34m(\u001b[0m\u001b[0mlen\u001b[0m\u001b[0;34m(\u001b[0m\u001b[0mexample_in\u001b[0m\u001b[0;34m[\u001b[0m\u001b[0;36m0\u001b[0m\u001b[0;34m]\u001b[0m\u001b[0;34m[\u001b[0m\u001b[0;36m31\u001b[0m\u001b[0;34m]\u001b[0m\u001b[0;34m)\u001b[0m\u001b[0;34m)\u001b[0m\u001b[0;34m\u001b[0m\u001b[0m\n\u001b[1;32m      5\u001b[0m     \u001b[0mprint\u001b[0m\u001b[0;34m(\u001b[0m\u001b[0mlen\u001b[0m\u001b[0;34m(\u001b[0m\u001b[0mexample_in\u001b[0m\u001b[0;34m[\u001b[0m\u001b[0;36m0\u001b[0m\u001b[0;34m]\u001b[0m\u001b[0;34m[\u001b[0m\u001b[0;36m31\u001b[0m\u001b[0;34m]\u001b[0m\u001b[0;34m)\u001b[0m\u001b[0;34m)\u001b[0m\u001b[0;34m\u001b[0m\u001b[0m\n",
      "\u001b[0;31mNameError\u001b[0m: name 'generator' is not defined"
     ]
    }
   ],
   "source": [
    "i = 0\n",
    "for example_in, example_out in generator(train_batches):\n",
    "    # [0] word: batch_size * sequence_length * word_embedding_dim\n",
    "    print(len(example_in[0][31]))\n",
    "    print(len(example_in[0][31]))\n",
    "    # [1] case: batch_size * sequence_length * case_embedding_dim\n",
    "\n",
    "    # [2] char: batch_size * sequence_length * char_embedding_dim\n",
    "    i += 1\n",
    "    if i > 9:\n",
    "        break"
   ]
  },
  {
   "cell_type": "code",
   "execution_count": 25,
   "metadata": {},
   "outputs": [],
   "source": [
    "def generator(data, shuffle_data = False):\n",
    "    \n",
    "    print(\"Creating batches ...\")\n",
    "    batches = createBatches(data, batch_size)\n",
    "    \n",
    "    if shuffle_data:\n",
    "        print(\"Shuffling ...\")\n",
    "        shuffle(batches)\n",
    "    \n",
    "    while True:\n",
    "        for batch in batches:\n",
    "            word_embeddings = []\n",
    "            case_embeddings = []\n",
    "            char_embeddings = []\n",
    "            \n",
    "            output_labels = []\n",
    "            \n",
    "            # batches made according to the size of the sentences. len(batch) gives the size of current batch\n",
    "            for index in range(len(batch)): \n",
    "                sentence = batch[index]\n",
    "    #             print(sentence)\n",
    "                \n",
    "                temp_word= []\n",
    "                temp_casing = []\n",
    "                temp_char= []\n",
    "                \n",
    "                temp_output=[]\n",
    "                \n",
    "                # padding\n",
    "                words_to_pad = max_sequence_length - len(sentence)\n",
    "                for i in range(words_to_pad):\n",
    "                    sentence.append(['PADDING_TOKEN', 'PADDING_TOKEN'])\n",
    "                \n",
    "                # create data input for words\n",
    "                for word in sentence:\n",
    "                    word, label = word\n",
    "                    temp_output.append(label2Idx[label])\n",
    "                    \n",
    "                    casing = getCasing(word, case2Idx)\n",
    "                    temp_casing.append(casing)\n",
    "                        \n",
    "                    if word == 'PADDING_TOKEN':\n",
    "                        temp_char2=np.array([char2Idx['PADDING_TOKEN']])\n",
    "                        temp_char.append(temp_char2)\n",
    "                        word_vector = [0] * nb_embedding_dims\n",
    "                        temp_word.append(word_vector)\n",
    "                    else:\n",
    "                        # char\n",
    "                        temp_char2=[]\n",
    "                        for char in word:\n",
    "                            if char in char2Idx.keys():\n",
    "                                temp_char2.append(char2Idx[char])\n",
    "                            else:\n",
    "                                temp_char2.append(char2Idx['UNKNOWN']) # To incorporate the words which are not in the vocab\n",
    "                        temp_char2 = np.array(temp_char2)\n",
    "                        temp_char.append(temp_char2)\n",
    "                        \n",
    "                        # word\n",
    "                        word_vector = ft.get_word_vector(word.lower())\n",
    "                        # word_vector = ft.get_word_vector(word)\n",
    "                        temp_word.append(word_vector)\n",
    "                        \n",
    "                temp_char = pad_sequences(temp_char, 52)\n",
    "                word_embeddings.append(temp_word)\n",
    "                case_embeddings.append(temp_casing)\n",
    "                char_embeddings.append(temp_char)\n",
    "                temp_output = to_categorical(temp_output, len(label2Idx))\n",
    "                output_labels.append(temp_output)\n",
    "    #             output_labels = to_categorical()\n",
    "    #             output_labels = np.array(output_labels)\n",
    "    #             output_labels = output_labels[...,newaxis]\n",
    "\n",
    "    #             print(np.array(word_embeddings).shape)\n",
    "    #             print(np.array(case_embeddings).shape)\n",
    "    #             print(np.array(char_embeddings).shape)\n",
    "    #             print(output_labels.shape)\n",
    "    #             print(\"******************\\n\\n\")\n",
    "            yield ([np.array(word_embeddings), np.array(case_embeddings), np.array(char_embeddings)], np.array(output_labels))\n",
    "\n",
    "def get_label_from_categorical(a):\n",
    "    labels = []\n",
    "    for label in a:\n",
    "        label = np.ndarray.tolist(label)\n",
    "        label = np.argmax(label)\n",
    "        labels.append(label)\n",
    "    return(labels)\n",
    "\n",
    "def predict_batches(batch):\n",
    "    steps = 0\n",
    "    true_labels = []\n",
    "    pred_labels = []\n",
    "    for input_data, output_data in generator(batch):\n",
    "        pred_labels_batch = model.predict(input_data)\n",
    "        for s in pred_labels_batch:\n",
    "            pred_labels.append(get_label_from_categorical(s))\n",
    "        for s in output_data:\n",
    "            true_labels.append(get_label_from_categorical(s))\n",
    "        steps += 1\n",
    "        if steps == math.ceil(len(batch) / batch_size):\n",
    "            break\n",
    "    return(true_labels, pred_labels)\n",
    "\n",
    "\n",
    "def predict_batches_ignore_padding(batch):\n",
    "    steps = 0\n",
    "    true_labels = []\n",
    "    pred_labels = []\n",
    "    for input_data, output_data in generator(batch):\n",
    "        \n",
    "        pred_labels_batch = model.predict(input_data)\n",
    "        for s_id, s in enumerate(output_data):\n",
    "            not_padded_true = []\n",
    "            not_padded_pred = []\n",
    "            predicted_labels = get_label_from_categorical(pred_labels_batch[s_id])\n",
    "            for t_id, t in enumerate(get_label_from_categorical(s)):\n",
    "                if t != 0:\n",
    "                    not_padded_true.append(t)\n",
    "                    not_padded_pred.append(predicted_labels[t_id])\n",
    "            true_labels.append(not_padded_true)\n",
    "            pred_labels.append(not_padded_pred)\n",
    "            \n",
    "        steps += 1\n",
    "        if steps == math.ceil(len(batch) / batch_size):\n",
    "            break\n",
    "    return(true_labels, pred_labels)"
   ]
  },
  {
   "cell_type": "code",
   "execution_count": 26,
   "metadata": {},
   "outputs": [
    {
     "name": "stdout",
     "output_type": "stream",
     "text": [
      "26\n",
      "26\n"
     ]
    }
   ],
   "source": [
    "idx2Label = {v: k for k, v in label2Idx.items()}\n",
    "print(len(label2Idx))\n",
    "print(len(idx2Label))"
   ]
  },
  {
   "cell_type": "code",
   "execution_count": 27,
   "metadata": {},
   "outputs": [
    {
     "name": "stdout",
     "output_type": "stream",
     "text": [
      "env: CUDA_DEVICE_ORDER=PCI_BUS_ID\n",
      "env: CUDA_VISIBLE_DEVICES=2\n"
     ]
    }
   ],
   "source": [
    "%env CUDA_DEVICE_ORDER=PCI_BUS_ID\n",
    "%env CUDA_VISIBLE_DEVICES=2"
   ]
  },
  {
   "cell_type": "code",
   "execution_count": 28,
   "metadata": {
    "scrolled": true
   },
   "outputs": [],
   "source": [
    "def get_model():\n",
    "    words_input = Input(shape=(None, nb_embedding_dims), dtype='float32', name='words_input')\n",
    "    casing_input = Input(shape=(None,), dtype='int32', name='casing_input')\n",
    "    casing = Embedding(output_dim=caseEmbeddings.shape[1], input_dim=caseEmbeddings.shape[0], weights=[caseEmbeddings], trainable=False, name = 'case_embed')(casing_input)\n",
    "    character_input=Input(shape=(None,52,),name='char_input')\n",
    "    embed_char_out=TimeDistributed(Embedding(len(char2Idx),32,embeddings_initializer=RandomUniform(minval=-0.5, maxval=0.5)), name='char_embedding')(character_input)\n",
    "    kernel_sizes = (3, 4, 5)\n",
    "    conv_blocks = []\n",
    "    for sz in kernel_sizes:\n",
    "        conv = TimeDistributed(Conv1D(\n",
    "                             kernel_size=sz,\n",
    "                             filters=32,\n",
    "                             padding=\"same\",\n",
    "                             activation=\"relu\",\n",
    "                             strides=1))(embed_char_out)\n",
    "        conv = TimeDistributed(MaxPooling1D(52))(conv)\n",
    "        conv = TimeDistributed(Flatten())(conv)\n",
    "        conv_blocks.append(conv)\n",
    "    output = concatenate([words_input, casing, conv_blocks[0], conv_blocks[1], conv_blocks[2]])\n",
    "    output = Bidirectional(LSTM(200, return_sequences=True, dropout=0.50, recurrent_dropout=0.5))(output)\n",
    "    output = TimeDistributed(Dense(len(label2Idx)))(output)\n",
    "    crf = CRF(len(label2Idx))\n",
    "    output = crf(output)\n",
    "    model = Model(inputs=[words_input, casing_input, character_input], outputs=[output])\n",
    "    model.compile(loss=crf.loss_function, optimizer='nadam', metrics=[crf.accuracy])\n",
    "    model.summary()\n",
    "    return(model)\n",
    "\n",
    "class F1History(Callback):\n",
    "    def on_train_begin(self, logs={}):\n",
    "        self.acc = []\n",
    "        self.f1_scores = []\n",
    "        self.max_f1 = 0\n",
    "\n",
    "    def on_epoch_end(self, epoch, logs={}):\n",
    "        self.acc.append(logs.get('val_acc'))\n",
    "        true_labels, pred_labels = predict_batches_ignore_padding(devSentences)\n",
    "        pre, rec, f1 = compute_f1(pred_labels, true_labels, idx2Label)\n",
    "        self.f1_scores.append(f1)\n",
    "        if epoch > -1 and f1 > self.max_f1:\n",
    "            print(\"\\nNew maximum F1 score: \" + str(f1) + \" (before: \" + str(self.max_f1) + \") Saving to \" + tmp_model_filename)\n",
    "            self.max_f1 = f1\n",
    "            model.save(tmp_model_filename)"
   ]
  },
  {
   "cell_type": "code",
   "execution_count": null,
   "metadata": {},
   "outputs": [],
   "source": [
    "tmp_model_filename = 'tmp_generator_NER_best.h5'\n",
    "# checkpoint = ModelCheckpoint(tmp_model_filename, verbose=1, save_best_only = True, monitor = 'val_acc')\n",
    "history = F1History()\n",
    "model = get_model()\n",
    "model.fit_generator(\n",
    "    generator(trainSentences, shuffle_data=True), steps_per_epoch = math.ceil(len(trainSentences) / batch_size), \n",
    "    validation_data = generator(devSentences), validation_steps = math.ceil(len(devSentences) / batch_size), \n",
    "    epochs = 12, callbacks = [history]\n",
    ")"
   ]
  },
  {
   "cell_type": "code",
   "execution_count": null,
   "metadata": {},
   "outputs": [],
   "source": [
    "print(history.acc)\n",
    "print(history.f1_scores)"
   ]
  },
  {
   "cell_type": "code",
   "execution_count": null,
   "metadata": {
    "scrolled": true
   },
   "outputs": [],
   "source": [
    "model.load_weights(tmp_model_filename)"
   ]
  },
  {
   "cell_type": "code",
   "execution_count": null,
   "metadata": {},
   "outputs": [],
   "source": [
    "true_labels, pred_labels = predict_batches_ignore_padding(testSentences)\n",
    "print(compute_f1(pred_labels, true_labels, idx2Label))"
   ]
  },
  {
   "cell_type": "markdown",
   "metadata": {},
   "source": [
    "# Experiments"
   ]
  },
  {
   "cell_type": "code",
   "execution_count": 29,
   "metadata": {},
   "outputs": [
    {
     "name": "stdout",
     "output_type": "stream",
     "text": [
      "Run 7\n",
      "__________________________________________________________________________________________________\n",
      "Layer (type)                    Output Shape         Param #     Connected to                     \n",
      "==================================================================================================\n",
      "char_input (InputLayer)         (None, None, 52)     0                                            \n",
      "__________________________________________________________________________________________________\n",
      "char_embedding (TimeDistributed (None, None, 52, 32) 10560       char_input[0][0]                 \n",
      "__________________________________________________________________________________________________\n",
      "time_distributed_1 (TimeDistrib (None, None, 52, 32) 3104        char_embedding[0][0]             \n",
      "__________________________________________________________________________________________________\n",
      "time_distributed_4 (TimeDistrib (None, None, 52, 32) 4128        char_embedding[0][0]             \n",
      "__________________________________________________________________________________________________\n",
      "time_distributed_7 (TimeDistrib (None, None, 52, 32) 5152        char_embedding[0][0]             \n",
      "__________________________________________________________________________________________________\n",
      "casing_input (InputLayer)       (None, None)         0                                            \n",
      "__________________________________________________________________________________________________\n",
      "time_distributed_2 (TimeDistrib (None, None, 1, 32)  0           time_distributed_1[0][0]         \n",
      "__________________________________________________________________________________________________\n",
      "time_distributed_5 (TimeDistrib (None, None, 1, 32)  0           time_distributed_4[0][0]         \n",
      "__________________________________________________________________________________________________\n",
      "time_distributed_8 (TimeDistrib (None, None, 1, 32)  0           time_distributed_7[0][0]         \n",
      "__________________________________________________________________________________________________\n",
      "words_input (InputLayer)        (None, None, 300)    0                                            \n",
      "__________________________________________________________________________________________________\n",
      "case_embed (Embedding)          (None, None, 8)      64          casing_input[0][0]               \n",
      "__________________________________________________________________________________________________\n",
      "time_distributed_3 (TimeDistrib (None, None, 32)     0           time_distributed_2[0][0]         \n",
      "__________________________________________________________________________________________________\n",
      "time_distributed_6 (TimeDistrib (None, None, 32)     0           time_distributed_5[0][0]         \n",
      "__________________________________________________________________________________________________\n",
      "time_distributed_9 (TimeDistrib (None, None, 32)     0           time_distributed_8[0][0]         \n",
      "__________________________________________________________________________________________________\n",
      "concatenate_1 (Concatenate)     (None, None, 404)    0           words_input[0][0]                \n",
      "                                                                 case_embed[0][0]                 \n",
      "                                                                 time_distributed_3[0][0]         \n",
      "                                                                 time_distributed_6[0][0]         \n",
      "                                                                 time_distributed_9[0][0]         \n",
      "__________________________________________________________________________________________________\n",
      "bidirectional_1 (Bidirectional) (None, None, 400)    968000      concatenate_1[0][0]              \n",
      "__________________________________________________________________________________________________\n",
      "time_distributed_10 (TimeDistri (None, None, 26)     10426       bidirectional_1[0][0]            \n",
      "__________________________________________________________________________________________________\n",
      "crf_1 (CRF)                     (None, None, 26)     1430        time_distributed_10[0][0]        \n",
      "==================================================================================================\n",
      "Total params: 1,002,864\n",
      "Trainable params: 1,002,800\n",
      "Non-trainable params: 64\n",
      "__________________________________________________________________________________________________\n",
      "Creating batches ...Creating batches ...\n",
      "Epoch 1/15\n",
      "\n",
      "Shuffling ...\n",
      "749/750 [============================>.] - ETA: 0s - loss: 0.0691 - acc: 0.9814Creating batches ...\n",
      "\n",
      "New maximum F1 score: 0.743560606060606 (before: 0) Saving to tmp_generator_NER_padding_best.7.h5\n",
      "750/750 [==============================] - 238s 318ms/step - loss: 0.0691 - acc: 0.9815 - val_loss: 0.0275 - val_acc: 0.9881\n",
      "Epoch 2/15\n",
      "749/750 [============================>.] - ETA: 0s - loss: 0.0179 - acc: 0.9882Creating batches ...\n",
      "\n",
      "New maximum F1 score: 0.7794062382562946 (before: 0.743560606060606) Saving to tmp_generator_NER_padding_best.7.h5\n",
      "750/750 [==============================] - 229s 306ms/step - loss: 0.0179 - acc: 0.9882 - val_loss: 0.0035 - val_acc: 0.9897\n",
      "Epoch 3/15\n",
      "749/750 [============================>.] - ETA: 0s - loss: -0.0080 - acc: 0.9895Creating batches ...\n",
      "\n",
      "New maximum F1 score: 0.7871590276489144 (before: 0.7794062382562946) Saving to tmp_generator_NER_padding_best.7.h5\n",
      "750/750 [==============================] - 229s 305ms/step - loss: -0.0080 - acc: 0.9895 - val_loss: -0.0208 - val_acc: 0.9896\n",
      "Epoch 4/15\n",
      "749/750 [============================>.] - ETA: 0s - loss: -0.0346 - acc: 0.9906Creating batches ...\n",
      "\n",
      "New maximum F1 score: 0.8063492063492064 (before: 0.7871590276489144) Saving to tmp_generator_NER_padding_best.7.h5\n",
      "750/750 [==============================] - 231s 308ms/step - loss: -0.0346 - acc: 0.9906 - val_loss: -0.0474 - val_acc: 0.9908\n",
      "Epoch 5/15\n",
      "749/750 [============================>.] - ETA: 0s - loss: -0.0618 - acc: 0.9914Creating batches ...\n",
      "\n",
      "New maximum F1 score: 0.8085981308411216 (before: 0.8063492063492064) Saving to tmp_generator_NER_padding_best.7.h5\n",
      "750/750 [==============================] - 226s 302ms/step - loss: -0.0618 - acc: 0.9914 - val_loss: -0.0731 - val_acc: 0.9904\n",
      "Epoch 6/15\n",
      "749/750 [============================>.] - ETA: 0s - loss: -0.0895 - acc: 0.9919Creating batches ...\n",
      "\n",
      "New maximum F1 score: 0.8118329900767647 (before: 0.8085981308411216) Saving to tmp_generator_NER_padding_best.7.h5\n",
      "750/750 [==============================] - 239s 319ms/step - loss: -0.0895 - acc: 0.9919 - val_loss: -0.1004 - val_acc: 0.9907\n",
      "Epoch 7/15\n",
      "749/750 [============================>.] - ETA: 0s - loss: -0.1173 - acc: 0.9923Creating batches ...\n",
      "\n",
      "New maximum F1 score: 0.8129870129870129 (before: 0.8118329900767647) Saving to tmp_generator_NER_padding_best.7.h5\n",
      "750/750 [==============================] - 244s 326ms/step - loss: -0.1173 - acc: 0.9923 - val_loss: -0.1262 - val_acc: 0.9906\n",
      "Epoch 8/15\n",
      "749/750 [============================>.] - ETA: 0s - loss: -0.1451 - acc: 0.9928Creating batches ...\n",
      "\n",
      "New maximum F1 score: 0.8195558872924052 (before: 0.8129870129870129) Saving to tmp_generator_NER_padding_best.7.h5\n",
      "750/750 [==============================] - 242s 322ms/step - loss: -0.1451 - acc: 0.9928 - val_loss: -0.1531 - val_acc: 0.9909\n",
      "Epoch 9/15\n",
      "749/750 [============================>.] - ETA: 0s - loss: -0.1729 - acc: 0.9933Creating batches ...\n",
      "\n",
      "New maximum F1 score: 0.8197456993268512 (before: 0.8195558872924052) Saving to tmp_generator_NER_padding_best.7.h5\n",
      "750/750 [==============================] - 247s 329ms/step - loss: -0.1729 - acc: 0.9933 - val_loss: -0.1797 - val_acc: 0.9909\n",
      "Epoch 10/15\n",
      "749/750 [============================>.] - ETA: 0s - loss: -0.2004 - acc: 0.9935Creating batches ...\n",
      "750/750 [==============================] - 245s 326ms/step - loss: -0.2004 - acc: 0.9935 - val_loss: -0.2066 - val_acc: 0.9913\n",
      "Epoch 11/15\n",
      "749/750 [============================>.] - ETA: 0s - loss: -0.2281 - acc: 0.9939Creating batches ...\n",
      "750/750 [==============================] - 246s 328ms/step - loss: -0.2282 - acc: 0.9939 - val_loss: -0.2325 - val_acc: 0.9908\n",
      "Epoch 12/15\n"
     ]
    },
    {
     "name": "stdout",
     "output_type": "stream",
     "text": [
      "749/750 [============================>.] - ETA: 0s - loss: -0.2544 - acc: 0.9937Creating batches ...\n",
      "750/750 [==============================] - 248s 330ms/step - loss: -0.2544 - acc: 0.9937 - val_loss: -0.2595 - val_acc: 0.9912\n",
      "Epoch 13/15\n",
      "749/750 [============================>.] - ETA: 0s - loss: -0.2826 - acc: 0.9943Creating batches ...\n",
      "750/750 [==============================] - 247s 329ms/step - loss: -0.2826 - acc: 0.9943 - val_loss: -0.2860 - val_acc: 0.9910\n",
      "Epoch 14/15\n",
      "749/750 [============================>.] - ETA: 0s - loss: -0.3098 - acc: 0.9945Creating batches ...\n",
      "750/750 [==============================] - 252s 335ms/step - loss: -0.3098 - acc: 0.9945 - val_loss: -0.3120 - val_acc: 0.9909\n",
      "Epoch 15/15\n",
      "749/750 [============================>.] - ETA: 0s - loss: -0.3370 - acc: 0.9946Creating batches ...\n",
      "750/750 [==============================] - 249s 332ms/step - loss: -0.3370 - acc: 0.9946 - val_loss: -0.3390 - val_acc: 0.9911\n",
      "Creating batches ...\n",
      "Run 8\n",
      "__________________________________________________________________________________________________\n",
      "Layer (type)                    Output Shape         Param #     Connected to                     \n",
      "==================================================================================================\n",
      "char_input (InputLayer)         (None, None, 52)     0                                            \n",
      "__________________________________________________________________________________________________\n",
      "char_embedding (TimeDistributed (None, None, 52, 32) 10560       char_input[0][0]                 \n",
      "__________________________________________________________________________________________________\n",
      "time_distributed_11 (TimeDistri (None, None, 52, 32) 3104        char_embedding[0][0]             \n",
      "__________________________________________________________________________________________________\n",
      "time_distributed_14 (TimeDistri (None, None, 52, 32) 4128        char_embedding[0][0]             \n",
      "__________________________________________________________________________________________________\n",
      "time_distributed_17 (TimeDistri (None, None, 52, 32) 5152        char_embedding[0][0]             \n",
      "__________________________________________________________________________________________________\n",
      "casing_input (InputLayer)       (None, None)         0                                            \n",
      "__________________________________________________________________________________________________\n",
      "time_distributed_12 (TimeDistri (None, None, 1, 32)  0           time_distributed_11[0][0]        \n",
      "__________________________________________________________________________________________________\n",
      "time_distributed_15 (TimeDistri (None, None, 1, 32)  0           time_distributed_14[0][0]        \n",
      "__________________________________________________________________________________________________\n",
      "time_distributed_18 (TimeDistri (None, None, 1, 32)  0           time_distributed_17[0][0]        \n",
      "__________________________________________________________________________________________________\n",
      "words_input (InputLayer)        (None, None, 300)    0                                            \n",
      "__________________________________________________________________________________________________\n",
      "case_embed (Embedding)          (None, None, 8)      64          casing_input[0][0]               \n",
      "__________________________________________________________________________________________________\n",
      "time_distributed_13 (TimeDistri (None, None, 32)     0           time_distributed_12[0][0]        \n",
      "__________________________________________________________________________________________________\n",
      "time_distributed_16 (TimeDistri (None, None, 32)     0           time_distributed_15[0][0]        \n",
      "__________________________________________________________________________________________________\n",
      "time_distributed_19 (TimeDistri (None, None, 32)     0           time_distributed_18[0][0]        \n",
      "__________________________________________________________________________________________________\n",
      "concatenate_2 (Concatenate)     (None, None, 404)    0           words_input[0][0]                \n",
      "                                                                 case_embed[0][0]                 \n",
      "                                                                 time_distributed_13[0][0]        \n",
      "                                                                 time_distributed_16[0][0]        \n",
      "                                                                 time_distributed_19[0][0]        \n",
      "__________________________________________________________________________________________________\n",
      "bidirectional_2 (Bidirectional) (None, None, 400)    968000      concatenate_2[0][0]              \n",
      "__________________________________________________________________________________________________\n",
      "time_distributed_20 (TimeDistri (None, None, 26)     10426       bidirectional_2[0][0]            \n",
      "__________________________________________________________________________________________________\n",
      "crf_2 (CRF)                     (None, None, 26)     1430        time_distributed_20[0][0]        \n",
      "==================================================================================================\n",
      "Total params: 1,002,864\n",
      "Trainable params: 1,002,800\n",
      "Non-trainable params: 64\n",
      "__________________________________________________________________________________________________\n",
      "Creating batches ...\n",
      "Creating batches ...\n",
      "Epoch 1/15\n",
      "Shuffling ...\n",
      "749/750 [============================>.] - ETA: 0s - loss: 0.0747 - acc: 0.9808Creating batches ...\n",
      "\n",
      "New maximum F1 score: 0.7459500667047835 (before: 0) Saving to tmp_generator_NER_padding_best.8.h5\n",
      "750/750 [==============================] - 250s 333ms/step - loss: 0.0746 - acc: 0.9808 - val_loss: 0.0316 - val_acc: 0.9883\n",
      "Epoch 2/15\n",
      "749/750 [============================>.] - ETA: 0s - loss: 0.0221 - acc: 0.9881Creating batches ...\n",
      "\n",
      "New maximum F1 score: 0.7703842549203375 (before: 0.7459500667047835) Saving to tmp_generator_NER_padding_best.8.h5\n",
      "750/750 [==============================] - 241s 321ms/step - loss: 0.0221 - acc: 0.9881 - val_loss: 0.0081 - val_acc: 0.9894\n",
      "Epoch 3/15\n",
      "749/750 [============================>.] - ETA: 0s - loss: -0.0033 - acc: 0.9895Creating batches ...\n",
      "\n",
      "New maximum F1 score: 0.7890011223344556 (before: 0.7703842549203375) Saving to tmp_generator_NER_padding_best.8.h5\n",
      "750/750 [==============================] - 242s 322ms/step - loss: -0.0033 - acc: 0.9895 - val_loss: -0.0166 - val_acc: 0.9901\n",
      "Epoch 4/15\n",
      "749/750 [============================>.] - ETA: 0s - loss: -0.0296 - acc: 0.9905Creating batches ...\n",
      "\n",
      "New maximum F1 score: 0.7994742771310551 (before: 0.7890011223344556) Saving to tmp_generator_NER_padding_best.8.h5\n",
      "750/750 [==============================] - 242s 323ms/step - loss: -0.0296 - acc: 0.9905 - val_loss: -0.0417 - val_acc: 0.9904\n",
      "Epoch 5/15\n",
      "749/750 [============================>.] - ETA: 0s - loss: -0.0569 - acc: 0.9912Creating batches ...\n",
      "\n",
      "New maximum F1 score: 0.8074254640915057 (before: 0.7994742771310551) Saving to tmp_generator_NER_padding_best.8.h5\n",
      "750/750 [==============================] - 242s 323ms/step - loss: -0.0569 - acc: 0.9912 - val_loss: -0.0685 - val_acc: 0.9907\n",
      "Epoch 6/15\n",
      "749/750 [============================>.] - ETA: 0s - loss: -0.0846 - acc: 0.9919Creating batches ...\n",
      "\n",
      "New maximum F1 score: 0.8090013018411754 (before: 0.8074254640915057) Saving to tmp_generator_NER_padding_best.8.h5\n",
      "750/750 [==============================] - 244s 325ms/step - loss: -0.0846 - acc: 0.9919 - val_loss: -0.0944 - val_acc: 0.9905\n",
      "Epoch 7/15\n",
      "749/750 [============================>.] - ETA: 0s - loss: -0.1124 - acc: 0.9924Creating batches ...\n",
      "\n",
      "New maximum F1 score: 0.8168593808280493 (before: 0.8090013018411754) Saving to tmp_generator_NER_padding_best.8.h5\n",
      "750/750 [==============================] - 244s 325ms/step - loss: -0.1124 - acc: 0.9924 - val_loss: -0.1215 - val_acc: 0.9910\n",
      "Epoch 8/15\n",
      "749/750 [============================>.] - ETA: 0s - loss: -0.1402 - acc: 0.9928Creating batches ...\n",
      "\n",
      "New maximum F1 score: 0.8173880735649266 (before: 0.8168593808280493) Saving to tmp_generator_NER_padding_best.8.h5\n",
      "750/750 [==============================] - 241s 322ms/step - loss: -0.1402 - acc: 0.9928 - val_loss: -0.1481 - val_acc: 0.9910\n"
     ]
    },
    {
     "name": "stdout",
     "output_type": "stream",
     "text": [
      "Epoch 9/15\n",
      "749/750 [============================>.] - ETA: 0s - loss: -0.1678 - acc: 0.9931Creating batches ...\n",
      "750/750 [==============================] - 238s 318ms/step - loss: -0.1678 - acc: 0.9931 - val_loss: -0.1745 - val_acc: 0.9909\n",
      "Epoch 10/15\n",
      "749/750 [============================>.] - ETA: 0s - loss: -0.1957 - acc: 0.9936Creating batches ...\n",
      "750/750 [==============================] - 243s 323ms/step - loss: -0.1957 - acc: 0.9936 - val_loss: -0.2011 - val_acc: 0.9909\n",
      "Epoch 11/15\n",
      "749/750 [============================>.] - ETA: 0s - loss: -0.2229 - acc: 0.9937Creating batches ...\n",
      "\n",
      "New maximum F1 score: 0.818941504178273 (before: 0.8173880735649266) Saving to tmp_generator_NER_padding_best.8.h5\n",
      "750/750 [==============================] - 231s 308ms/step - loss: -0.2229 - acc: 0.9937 - val_loss: -0.2280 - val_acc: 0.9911\n",
      "Epoch 12/15\n",
      "749/750 [============================>.] - ETA: 0s - loss: -0.2505 - acc: 0.9941Creating batches ...\n",
      "\n",
      "New maximum F1 score: 0.8254734496843669 (before: 0.818941504178273) Saving to tmp_generator_NER_padding_best.8.h5\n",
      "750/750 [==============================] - 224s 299ms/step - loss: -0.2505 - acc: 0.9941 - val_loss: -0.2543 - val_acc: 0.9912\n",
      "Epoch 13/15\n",
      "749/750 [============================>.] - ETA: 0s - loss: -0.2780 - acc: 0.9943Creating batches ...\n",
      "750/750 [==============================] - 224s 299ms/step - loss: -0.2780 - acc: 0.9943 - val_loss: -0.2808 - val_acc: 0.9911\n",
      "Epoch 14/15\n",
      "749/750 [============================>.] - ETA: 0s - loss: -0.3051 - acc: 0.9945Creating batches ...\n",
      "750/750 [==============================] - 234s 312ms/step - loss: -0.3051 - acc: 0.9945 - val_loss: -0.3077 - val_acc: 0.9912\n",
      "Epoch 15/15\n",
      "749/750 [============================>.] - ETA: 0s - loss: -0.3325 - acc: 0.9948Creating batches ...\n",
      "750/750 [==============================] - 242s 322ms/step - loss: -0.3325 - acc: 0.9948 - val_loss: -0.3337 - val_acc: 0.9912\n",
      "Creating batches ...\n",
      "Run 9\n",
      "__________________________________________________________________________________________________\n",
      "Layer (type)                    Output Shape         Param #     Connected to                     \n",
      "==================================================================================================\n",
      "char_input (InputLayer)         (None, None, 52)     0                                            \n",
      "__________________________________________________________________________________________________\n",
      "char_embedding (TimeDistributed (None, None, 52, 32) 10560       char_input[0][0]                 \n",
      "__________________________________________________________________________________________________\n",
      "time_distributed_21 (TimeDistri (None, None, 52, 32) 3104        char_embedding[0][0]             \n",
      "__________________________________________________________________________________________________\n",
      "time_distributed_24 (TimeDistri (None, None, 52, 32) 4128        char_embedding[0][0]             \n",
      "__________________________________________________________________________________________________\n",
      "time_distributed_27 (TimeDistri (None, None, 52, 32) 5152        char_embedding[0][0]             \n",
      "__________________________________________________________________________________________________\n",
      "casing_input (InputLayer)       (None, None)         0                                            \n",
      "__________________________________________________________________________________________________\n",
      "time_distributed_22 (TimeDistri (None, None, 1, 32)  0           time_distributed_21[0][0]        \n",
      "__________________________________________________________________________________________________\n",
      "time_distributed_25 (TimeDistri (None, None, 1, 32)  0           time_distributed_24[0][0]        \n",
      "__________________________________________________________________________________________________\n",
      "time_distributed_28 (TimeDistri (None, None, 1, 32)  0           time_distributed_27[0][0]        \n",
      "__________________________________________________________________________________________________\n",
      "words_input (InputLayer)        (None, None, 300)    0                                            \n",
      "__________________________________________________________________________________________________\n",
      "case_embed (Embedding)          (None, None, 8)      64          casing_input[0][0]               \n",
      "__________________________________________________________________________________________________\n",
      "time_distributed_23 (TimeDistri (None, None, 32)     0           time_distributed_22[0][0]        \n",
      "__________________________________________________________________________________________________\n",
      "time_distributed_26 (TimeDistri (None, None, 32)     0           time_distributed_25[0][0]        \n",
      "__________________________________________________________________________________________________\n",
      "time_distributed_29 (TimeDistri (None, None, 32)     0           time_distributed_28[0][0]        \n",
      "__________________________________________________________________________________________________\n",
      "concatenate_3 (Concatenate)     (None, None, 404)    0           words_input[0][0]                \n",
      "                                                                 case_embed[0][0]                 \n",
      "                                                                 time_distributed_23[0][0]        \n",
      "                                                                 time_distributed_26[0][0]        \n",
      "                                                                 time_distributed_29[0][0]        \n",
      "__________________________________________________________________________________________________\n",
      "bidirectional_3 (Bidirectional) (None, None, 400)    968000      concatenate_3[0][0]              \n",
      "__________________________________________________________________________________________________\n",
      "time_distributed_30 (TimeDistri (None, None, 26)     10426       bidirectional_3[0][0]            \n",
      "__________________________________________________________________________________________________\n",
      "crf_3 (CRF)                     (None, None, 26)     1430        time_distributed_30[0][0]        \n",
      "==================================================================================================\n",
      "Total params: 1,002,864\n",
      "Trainable params: 1,002,800\n",
      "Non-trainable params: 64\n",
      "__________________________________________________________________________________________________\n",
      "Creating batches ...Creating batches ...\n",
      "Shuffling ...\n",
      "Epoch 1/15\n",
      "\n",
      "749/750 [============================>.] - ETA: 0s - loss: 0.0689 - acc: 0.9812Creating batches ...\n",
      "\n",
      "New maximum F1 score: 0.7509697439875873 (before: 0) Saving to tmp_generator_NER_padding_best.9.h5\n",
      "750/750 [==============================] - 256s 342ms/step - loss: 0.0689 - acc: 0.9812 - val_loss: 0.0250 - val_acc: 0.9883\n",
      "Epoch 2/15\n",
      "749/750 [============================>.] - ETA: 0s - loss: 0.0159 - acc: 0.9881Creating batches ...\n",
      "\n",
      "New maximum F1 score: 0.783256880733945 (before: 0.7509697439875873) Saving to tmp_generator_NER_padding_best.9.h5\n",
      "750/750 [==============================] - 247s 329ms/step - loss: 0.0158 - acc: 0.9881 - val_loss: 4.3260e-04 - val_acc: 0.9899\n",
      "Epoch 3/15\n",
      "749/750 [============================>.] - ETA: 0s - loss: -0.0099 - acc: 0.9895Creating batches ...\n",
      "\n",
      "New maximum F1 score: 0.7956093868281604 (before: 0.783256880733945) Saving to tmp_generator_NER_padding_best.9.h5\n",
      "750/750 [==============================] - 245s 327ms/step - loss: -0.0099 - acc: 0.9895 - val_loss: -0.0241 - val_acc: 0.9903\n",
      "Epoch 4/15\n",
      "749/750 [============================>.] - ETA: 0s - loss: -0.0367 - acc: 0.9906Creating batches ...\n",
      "\n",
      "New maximum F1 score: 0.806390977443609 (before: 0.7956093868281604) Saving to tmp_generator_NER_padding_best.9.h5\n",
      "750/750 [==============================] - 239s 319ms/step - loss: -0.0367 - acc: 0.9906 - val_loss: -0.0496 - val_acc: 0.9909\n",
      "Epoch 5/15\n",
      "749/750 [============================>.] - ETA: 0s - loss: -0.0638 - acc: 0.9913Creating batches ...\n",
      "\n",
      "New maximum F1 score: 0.8136996612721115 (before: 0.806390977443609) Saving to tmp_generator_NER_padding_best.9.h5\n",
      "750/750 [==============================] - 240s 320ms/step - loss: -0.0639 - acc: 0.9913 - val_loss: -0.0764 - val_acc: 0.9911\n",
      "Epoch 6/15\n"
     ]
    },
    {
     "name": "stdout",
     "output_type": "stream",
     "text": [
      "749/750 [============================>.] - ETA: 0s - loss: -0.1194 - acc: 0.9923Creating batches ...\n",
      "750/750 [==============================] - 240s 320ms/step - loss: -0.1195 - acc: 0.9923 - val_loss: -0.1290 - val_acc: 0.9912\n",
      "Epoch 8/15\n",
      "749/750 [============================>.] - ETA: 0s - loss: -0.1474 - acc: 0.9928Creating batches ...\n",
      "\n",
      "New maximum F1 score: 0.825075075075075 (before: 0.8184534927157266) Saving to tmp_generator_NER_padding_best.9.h5\n",
      "750/750 [==============================] - 239s 319ms/step - loss: -0.1474 - acc: 0.9928 - val_loss: -0.1562 - val_acc: 0.9915\n",
      "Epoch 9/15\n",
      "749/750 [============================>.] - ETA: 0s - loss: -0.1748 - acc: 0.9930Creating batches ...\n",
      "\n",
      "New maximum F1 score: 0.8259576050576423 (before: 0.825075075075075) Saving to tmp_generator_NER_padding_best.9.h5\n",
      "750/750 [==============================] - 239s 318ms/step - loss: -0.1748 - acc: 0.9930 - val_loss: -0.1829 - val_acc: 0.9915\n",
      "Epoch 10/15\n",
      "749/750 [============================>.] - ETA: 0s - loss: -0.2027 - acc: 0.9935Creating batches ...\n",
      "750/750 [==============================] - 239s 318ms/step - loss: -0.2027 - acc: 0.9935 - val_loss: -0.2091 - val_acc: 0.9916\n",
      "Epoch 11/15\n",
      "749/750 [============================>.] - ETA: 0s - loss: -0.2301 - acc: 0.9937Creating batches ...\n",
      "750/750 [==============================] - 237s 316ms/step - loss: -0.2301 - acc: 0.9937 - val_loss: -0.2353 - val_acc: 0.9912\n",
      "Epoch 12/15\n",
      "749/750 [============================>.] - ETA: 0s - loss: -0.2577 - acc: 0.9941Creating batches ...\n",
      "750/750 [==============================] - 239s 319ms/step - loss: -0.2577 - acc: 0.9941 - val_loss: -0.2616 - val_acc: 0.9912\n",
      "Epoch 13/15\n",
      "749/750 [============================>.] - ETA: 0s - loss: -0.2850 - acc: 0.9944Creating batches ...\n",
      "750/750 [==============================] - 240s 320ms/step - loss: -0.2850 - acc: 0.9944 - val_loss: -0.2877 - val_acc: 0.9908\n",
      "Epoch 14/15\n",
      "749/750 [============================>.] - ETA: 0s - loss: -0.3125 - acc: 0.9946Creating batches ...\n",
      "750/750 [==============================] - 238s 318ms/step - loss: -0.3125 - acc: 0.9946 - val_loss: -0.3144 - val_acc: 0.9913\n",
      "Epoch 15/15\n",
      "749/750 [============================>.] - ETA: 0s - loss: -0.3395 - acc: 0.9946Creating batches ...\n",
      "750/750 [==============================] - 240s 321ms/step - loss: -0.3395 - acc: 0.9946 - val_loss: -0.3410 - val_acc: 0.9914\n",
      "Creating batches ...\n"
     ]
    }
   ],
   "source": [
    "f = open('results_padding.txt', 'w')\n",
    "for run_i in range(7,10):\n",
    "    print(\"Run \" + str(run_i))\n",
    "    \n",
    "    tmp_model_filename = 'tmp_generator_NER_padding_best.' + str(run_i) + '.h5'\n",
    "    # tmp_model_filename = 'tmp_generator_NER_best.h5'\n",
    "    # checkpoint = ModelCheckpoint(tmp_model_filename, verbose=1, save_best_only = True, monitor = 'val_acc')\n",
    "    history = F1History()\n",
    "    \n",
    "    model = get_model()\n",
    "    model.fit_generator(\n",
    "        generator(trainSentences, shuffle_data=True), steps_per_epoch = math.ceil(len(trainSentences) / batch_size), \n",
    "        validation_data = generator(devSentences), validation_steps = math.ceil(len(devSentences) / batch_size), \n",
    "        epochs = 15, callbacks = [history]\n",
    "    )\n",
    "    \n",
    "    model.load_weights(tmp_model_filename)\n",
    "    true_labels, pred_labels = predict_batches_ignore_padding(testSentences)\n",
    "    \n",
    "    pre, rec, f1 = compute_f1(pred_labels, true_labels, idx2Label)\n",
    "    f.write(str(run_i) + \"\\t\" + str(pre) + \"\\t\" + str(rec) +  \"\\t\" + str(f1))\n",
    "    f.write(\"\\n\")\n",
    "    f.flush()\n",
    "f.close()"
   ]
  },
  {
   "cell_type": "markdown",
   "metadata": {},
   "source": [
    "# Save final model"
   ]
  },
  {
   "cell_type": "code",
   "execution_count": null,
   "metadata": {},
   "outputs": [],
   "source": [
    "import shutil, json\n",
    "# copy file for best run\n",
    "shutil.copyfile('tmp_generator_NER_best.0.h5', 'final_model_germeval.h5')\n",
    "with open(\"final_model_germeval.indexes\", \"w\") as f:\n",
    "    json.dump([idx2Label, label2Idx, char2Idx, case2Idx], f)"
   ]
  },
  {
   "cell_type": "code",
   "execution_count": null,
   "metadata": {},
   "outputs": [],
   "source": [
    "true_labels, pred_labels = predict_batches(test_batches)\n",
    "print(compute_f1(pred_labels, true_labels, idx2Label))"
   ]
  },
  {
   "cell_type": "code",
   "execution_count": null,
   "metadata": {},
   "outputs": [],
   "source": [
    "print(pred_labels)"
   ]
  },
  {
   "cell_type": "code",
   "execution_count": null,
   "metadata": {},
   "outputs": [],
   "source": [
    "print(testSentences[len(testSentences)-1])"
   ]
  },
  {
   "cell_type": "code",
   "execution_count": null,
   "metadata": {},
   "outputs": [],
   "source": [
    "print(true_labels[len(testSentences)-1])\n",
    "print(pred_labels[len(testSentences)-1])"
   ]
  },
  {
   "cell_type": "code",
   "execution_count": null,
   "metadata": {},
   "outputs": [],
   "source": [
    "idx2Label[14]"
   ]
  },
  {
   "cell_type": "code",
   "execution_count": null,
   "metadata": {},
   "outputs": [],
   "source": [
    "print(len(testSentences))\n",
    "print(len(pred_labels))"
   ]
  },
  {
   "cell_type": "code",
   "execution_count": null,
   "metadata": {},
   "outputs": [],
   "source": [
    "type(train_batches[0])"
   ]
  },
  {
   "cell_type": "code",
   "execution_count": null,
   "metadata": {},
   "outputs": [],
   "source": []
  },
  {
   "cell_type": "code",
   "execution_count": null,
   "metadata": {},
   "outputs": [],
   "source": []
  }
 ],
 "metadata": {
  "kernelspec": {
   "display_name": "Python 3",
   "language": "python",
   "name": "python3"
  },
  "language_info": {
   "codemirror_mode": {
    "name": "ipython",
    "version": 3
   },
   "file_extension": ".py",
   "mimetype": "text/x-python",
   "name": "python",
   "nbconvert_exporter": "python",
   "pygments_lexer": "ipython3",
   "version": "3.5.5"
  }
 },
 "nbformat": 4,
 "nbformat_minor": 2
}
