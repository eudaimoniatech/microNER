{
 "cells": [
  {
   "cell_type": "code",
   "execution_count": 1,
   "metadata": {},
   "outputs": [
    {
     "name": "stderr",
     "output_type": "stream",
     "text": [
      "/home/gwiedemann/miniconda3/envs/kerasenv/lib/python3.5/site-packages/h5py/__init__.py:36: FutureWarning: Conversion of the second argument of issubdtype from `float` to `np.floating` is deprecated. In future, it will be treated as `np.float64 == np.dtype(float).type`.\n",
      "  from ._conv import register_converters as _register_converters\n",
      "Using TensorFlow backend.\n"
     ]
    }
   ],
   "source": [
    "import sys\n",
    "import os\n",
    "import fastText\n",
    "\n",
    "from validation import compute_f1\n",
    "\n",
    "from keras.models import load_model\n",
    "from keras.callbacks import ModelCheckpoint, Callback\n",
    "\n",
    "import models\n",
    "import utils"
   ]
  },
  {
   "cell_type": "code",
   "execution_count": 2,
   "metadata": {},
   "outputs": [
    {
     "name": "stdout",
     "output_type": "stream",
     "text": [
      "env: CUDA_DEVICE_ORDER=PCI_BUS_ID\n",
      "env: CUDA_VISIBLE_DEVICES=1\n"
     ]
    }
   ],
   "source": [
    "%env CUDA_DEVICE_ORDER=PCI_BUS_ID\n",
    "%env CUDA_VISIBLE_DEVICES=1"
   ]
  },
  {
   "cell_type": "code",
   "execution_count": 3,
   "metadata": {},
   "outputs": [
    {
     "name": "stdout",
     "output_type": "stream",
     "text": [
      "24000\n",
      "2200\n",
      "5100\n"
     ]
    }
   ],
   "source": [
    "trainSentences = utils.get_sentences_germeval('../data/GermEVAL/NER-de-train.tsv')\n",
    "devSentences = utils.get_sentences_germeval('../data/GermEVAL/NER-de-dev.tsv')\n",
    "testSentences = utils.get_sentences_germeval('../data/GermEVAL/NER-de-test.tsv')\n",
    "\n",
    "# trainSentences = utils.get_sentences_conll('../data/CONLL/deu/deu_utf.train.bio')\n",
    "# devSentences = utils.get_sentences_conll('../data/CONLL/deu/deu_utf.testa.bio')\n",
    "# testSentences = utils.get_sentences_conll('../data/CONLL/deu/deu_utf.testb.bio')\n",
    "\n",
    "print(len(trainSentences))\n",
    "print(len(devSentences))\n",
    "print(len(testSentences))\n"
   ]
  },
  {
   "cell_type": "code",
   "execution_count": 4,
   "metadata": {},
   "outputs": [
    {
     "name": "stdout",
     "output_type": "stream",
     "text": [
      "[['Die', 'O'], ['These', 'O'], [',', 'O'], ['Schlatter', 'B-PER'], ['sei', 'O'], ['Antisemit', 'O'], ['gewesen', 'O'], [',', 'O'], ['wurde', 'O'], ['seither', 'O'], ['in', 'O'], ['der', 'O'], ['theologischen', 'O'], ['Fachliteratur', 'O'], ['nicht', 'O'], ['mehr', 'O'], ['vertreten', 'O'], ['.', 'O']]\n"
     ]
    }
   ],
   "source": [
    "print(testSentences[3])"
   ]
  },
  {
   "cell_type": "code",
   "execution_count": 5,
   "metadata": {},
   "outputs": [],
   "source": [
    "labelSet = set()\n",
    "characters= set()\n",
    "models.max_sequence_length = 0\n",
    "\n",
    "for dataset in [trainSentences, devSentences, testSentences]:\n",
    "    for sentence in dataset:\n",
    "        for word, label in sentence:\n",
    "            for char in word:\n",
    "                characters.add(char)\n",
    "            labelSet.add(label)\n",
    "        if len(sentence) > models.max_sequence_length:\n",
    "            models.max_sequence_length = len(sentence)"
   ]
  },
  {
   "cell_type": "code",
   "execution_count": 6,
   "metadata": {},
   "outputs": [
    {
     "name": "stdout",
     "output_type": "stream",
     "text": [
      "25\n",
      "56\n"
     ]
    }
   ],
   "source": [
    "print(len(labelSet))\n",
    "print(models.max_sequence_length)"
   ]
  },
  {
   "cell_type": "code",
   "execution_count": 7,
   "metadata": {},
   "outputs": [],
   "source": [
    "# :: Create a mapping for the labels ::\n",
    "models.label2Idx = {\"PADDING_TOKEN\":0}\n",
    "for label in labelSet:\n",
    "    models.label2Idx[label] = len(models.label2Idx)"
   ]
  },
  {
   "cell_type": "code",
   "execution_count": 8,
   "metadata": {},
   "outputs": [
    {
     "name": "stdout",
     "output_type": "stream",
     "text": [
      "{'I-PER': 16, 'PADDING_TOKEN': 0, 'I-LOCderiv': 1, 'B-OTHpart': 3, 'B-LOC': 4, 'B-ORG': 18, 'I-OTH': 9, 'I-LOC': 5, 'I-PERpart': 11, 'I-OTHderiv': 6, 'I-LOCpart': 17, 'B-ORGpart': 7, 'I-ORG': 8, 'B-PERpart': 10, 'B-LOCderiv': 19, 'I-ORGderiv': 20, 'I-ORGpart': 21, 'O': 22, 'B-OTH': 12, 'B-LOCpart': 13, 'I-PERderiv': 23, 'B-PERderiv': 2, 'B-PER': 14, 'B-ORGderiv': 15, 'B-OTHderiv': 24, 'I-OTHpart': 25}\n"
     ]
    }
   ],
   "source": [
    "print(models.label2Idx)"
   ]
  },
  {
   "cell_type": "code",
   "execution_count": 9,
   "metadata": {},
   "outputs": [],
   "source": [
    "# :: Hard coded case lookup ::\n",
    "models.case2Idx = {'PADDING_TOKEN':0, 'numeric': 1, 'allLower':2, 'allUpper':3, 'initialUpper':4, 'other':5, 'mainly_numeric':6, 'contains_digit': 7}"
   ]
  },
  {
   "cell_type": "code",
   "execution_count": 10,
   "metadata": {},
   "outputs": [
    {
     "name": "stdout",
     "output_type": "stream",
     "text": [
      "{'allUpper': 3, 'PADDING_TOKEN': 0, 'allLower': 2, 'initialUpper': 4, 'other': 5, 'mainly_numeric': 6, 'numeric': 1, 'contains_digit': 7}\n"
     ]
    }
   ],
   "source": [
    "print(models.case2Idx)"
   ]
  },
  {
   "cell_type": "code",
   "execution_count": 11,
   "metadata": {},
   "outputs": [
    {
     "name": "stdout",
     "output_type": "stream",
     "text": [
      "<class 'list'>\n"
     ]
    }
   ],
   "source": [
    "print(type(trainSentences))"
   ]
  },
  {
   "cell_type": "code",
   "execution_count": 12,
   "metadata": {},
   "outputs": [
    {
     "name": "stdout",
     "output_type": "stream",
     "text": [
      "[['Schartau', 'B-PER'], ['sagte', 'O'], ['dem', 'O'], ['\"', 'O'], ['Tagesspiegel', 'B-ORG'], ['\"', 'O'], ['vom', 'O'], ['Freitag', 'O'], [',', 'O'], ['Fischer', 'B-PER'], ['sei', 'O'], ['\"', 'O'], ['in', 'O'], ['einer', 'O'], ['Weise', 'O'], ['aufgetreten', 'O'], [',', 'O'], ['die', 'O'], ['alles', 'O'], ['andere', 'O'], ['als', 'O'], ['überzeugend', 'O'], ['war', 'O'], ['\"', 'O'], ['.', 'O']]\n"
     ]
    }
   ],
   "source": [
    "print(trainSentences[0])"
   ]
  },
  {
   "cell_type": "code",
   "execution_count": 13,
   "metadata": {
    "scrolled": true
   },
   "outputs": [
    {
     "name": "stdout",
     "output_type": "stream",
     "text": [
      "{'β': 5, ']': 6, '·': 8, '„': 276, 'ế': 9, '€': 10, 'n': 12, 'Á': 13, 'ς': 318, 's': 15, '士': 71, 'ô': 7, 'έ': 18, 'í': 19, 'x': 20, 'ą': 22, 'é': 23, '冲': 306, 'š': 24, 'т': 25, '¹': 28, '(': 70, 'O': 323, 'ệ': 11, '“': 29, '算': 30, 'œ': 33, '\\x94': 324, 'ν': 303, 'α': 88, '→': 196, '별': 228, '0': 34, 'з': 35, 'ż': 280, 'N': 36, 'ñ': 37, 'Ü': 40, 'ß': 224, '術': 42, 'с': 43, 'ç': 44, 'о': 45, '\\x80': 46, 'R': 47, '¤': 21, 'ά': 50, 'У': 52, ',': 53, '?': 56, '»': 57, 'å': 59, 'τ': 62, 'Å': 61, 'ḳ': 63, '’': 262, 'À': 229, '…': 180, 'г': 66, 't': 67, 'в': 68, 'Ş': 72, '학': 76, 'Þ': 332, '懿': 75, 'ي': 74, 'W': 127, 'П': 278, 'Ä': 77, '別': 65, 'B': 78, 'Ż': 270, '\\x95': 132, 'Т': 82, 'Z': 81, 'и': 321, 'ض': 83, 'a': 38, '\\x99': 27, '殿': 231, 'п': 86, 'D': 87, '3': 258, 'Л': 90, 'e': 79, 'ı': 92, '5': 93, '▪': 94, 'X': 39, 'î': 98, 'ā': 96, 'µ': 97, '東': 99, '³': 26, '«': 100, 'è': 102, 'ب': 107, 'σ': 103, 'н': 104, 'Е': 106, 'л': 108, '°': 109, '</S>': 2, 'ǒ': 234, 'λ': 111, '‘': 112, 'Æ': 114, '九': 115, 'p': 116, 'E': 117, 'ł': 118, '−': 269, '£': 73, 'Λ': 122, '≘': 160, '\\x9a': 123, 'Q': 124, 'w': 125, 'ź': 126, '`': 128, 'æ': 130, 'H': 80, '$': 131, '博': 133, 'V': 293, 'č': 84, '-': 138, 'l': 134, 'b': 135, '+': 136, 'ρ': 137, '/': 139, 'е': 140, '=': 141, 'ğ': 142, 'ن': 145, 'ö': 143, 'P': 313, ';': 32, 'أ': 277, 'ラ': 89, '″': 147, 'ś': 149, '¸': 150, 'ŏ': 153, 'ж': 152, '4': 144, '6': 154, '>': 155, 'ċ': 296, 'A': 156, 'ū': 158, '[': 305, 'κ': 161, 'И': 162, 'û': 299, '›': 164, '</W>': 4, '貴': 168, 'ψ': 166, 'ó': 167, 'r': 169, '8': 170, 'i': 172, 'ă': 316, 'à': 174, 'PADDING_TOKEN': 0, 'й': 315, '‐': 176, '´': 177, 'G': 302, 'q': 243, '”': 179, 'ě': 182, 'ć': 181, 'М': 183, 'ž': 184, 'Ł': 185, '9': 304, 'UNKNOWN': 333, \"'\": 286, 'Œ': 186, 'ḫ': 187, 'İ': 194, 'ō': 310, '*': 188, '⊃': 189, 'ι': 95, '—': 287, '–': 41, '\\x96': 148, 'ņ': 247, 'ε': 191, '†': 192, 'Î': 193, '동': 198, 'б': 195, '≤': 197, '寝': 178, '©': 190, 'M': 200, '章': 151, 'á': 201, 'g': 202, 'Â': 203, 'm': 204, 'I': 171, 'õ': 206, 'Ġ': 207, 'â': 208, '~': 209, 'ē': 211, ':': 212, 'J': 213, '柯': 215, 'ĩ': 237, 'Ø': 216, '<S>': 1, 'φ': 14, '南': 218, 'o': 219, 'ʻ': 309, 'ο': 221, '公': 222, '@': 223, 'ú': 220, '대': 85, 'k': 226, '%': 101, '\\u200e': 48, '<': 31, 'ħ': 110, 'С': 230, 'ň': 16, 'ř': 232, 'є': 233, '‹': 129, 'γ': 49, '‚': 157, 'ا': 235, 'ä': 236, '!': 217, 'ê': 105, 'd': 238, '鷹': 146, 'д': 239, 'É': 240, '²': 241, '.': 242, '妃': 17, 'v': 244, 'ь': 245, 'Ž': 54, 'р': 248, 'м': 249, 'х': 250, 'ť': 251, 'η': 252, '§': 55, 'z': 253, 'U': 254, '\\xad': 256, 'ό': 257, '&': 255, 'Č': 259, 'K': 260, 'T': 205, '\"': 261, 'Y': 159, 'u': 263, 'ş': 121, 'h': 265, 'ю': 64, 'ῦ': 267, 'ë': 225, 'c': 268, '⋅': 300, 'а': 272, 'я': 264, 'C': 274, ')': 275, '樓': 199, 'υ': 266, '太': 58, '\\x92': 60, '傳': 279, '1': 281, 'к': 163, 'j': 284, '7': 285, '#': 290, 'Ш': 91, 'ы': 289, 'Ц': 113, 'オ': 210, '×': 69, '2': 165, 'ń': 292, 'ъ': 227, '台': 294, 'ð': 175, 'ø': 295, 'Π': 246, 'È': 330, 'y': 282, 'у': 297, 'ę': 298, '½': 301, '_': 291, 'ő': 120, '}': 214, '鶴': 307, 'Š': 308, '李': 119, 'ɨ': 311, 'f': 312, '루': 271, 'В': 314, 'S': 288, '佐': 319, 'L': 317, 'ї': 51, 'F': 320, 'ü': 322, 'ـ': 173, '守': 325, 'ī': 326, 'Ö': 327, 'ý': 328, 'π': 273, 'ã': 329, '<W>': 3, '造': 331, '±': 283}\n"
     ]
    }
   ],
   "source": [
    "models.char2Idx={\"PADDING_TOKEN\":0, \"<S>\":1, \"</S>\":2, \"<W>\":3, \"</W>\":4}\n",
    "for char in characters:\n",
    "    models.char2Idx[char] = len(models.char2Idx)\n",
    "models.char2Idx['UNKNOWN'] = len(models.char2Idx)\n",
    "print(models.char2Idx)"
   ]
  },
  {
   "cell_type": "code",
   "execution_count": 14,
   "metadata": {
    "scrolled": true
   },
   "outputs": [
    {
     "name": "stdout",
     "output_type": "stream",
     "text": [
      "[['Schartau', 'B-PER'], ['sagte', 'O'], ['dem', 'O'], ['\"', 'O'], ['Tagesspiegel', 'B-ORG'], ['\"', 'O'], ['vom', 'O'], ['Freitag', 'O'], [',', 'O'], ['Fischer', 'B-PER'], ['sei', 'O'], ['\"', 'O'], ['in', 'O'], ['einer', 'O'], ['Weise', 'O'], ['aufgetreten', 'O'], [',', 'O'], ['die', 'O'], ['alles', 'O'], ['andere', 'O'], ['als', 'O'], ['überzeugend', 'O'], ['war', 'O'], ['\"', 'O'], ['.', 'O']]\n"
     ]
    }
   ],
   "source": [
    "print(trainSentences[0]) "
   ]
  },
  {
   "cell_type": "code",
   "execution_count": 15,
   "metadata": {},
   "outputs": [],
   "source": [
    "models.ft = fastText.load_model(\"../embeddings/wiki.de.bin\")"
   ]
  },
  {
   "cell_type": "code",
   "execution_count": 16,
   "metadata": {},
   "outputs": [
    {
     "name": "stdout",
     "output_type": "stream",
     "text": [
      "300\n",
      "25\n"
     ]
    }
   ],
   "source": [
    "print(models.nb_embedding_dims)\n",
    "print(len(trainSentences[0]))"
   ]
  },
  {
   "cell_type": "code",
   "execution_count": 17,
   "metadata": {},
   "outputs": [
    {
     "name": "stdout",
     "output_type": "stream",
     "text": [
      "26\n",
      "26\n"
     ]
    }
   ],
   "source": [
    "models.idx2Label = {v: k for k, v in models.label2Idx.items()}\n",
    "print(len(models.label2Idx))\n",
    "print(len(models.idx2Label))"
   ]
  },
  {
   "cell_type": "markdown",
   "metadata": {
    "scrolled": true
   },
   "source": [
    "# Test Model"
   ]
  },
  {
   "cell_type": "code",
   "execution_count": null,
   "metadata": {},
   "outputs": [],
   "source": [
    "# import importlib\n",
    "# importlib.reload(models)"
   ]
  },
  {
   "cell_type": "code",
   "execution_count": null,
   "metadata": {},
   "outputs": [],
   "source": [
    "tmp_model_filename = 'model_lstm2_germeval.h5'\n",
    "# checkpoint = ModelCheckpoint(tmp_model_filename, verbose=1, save_best_only = True, monitor = 'val_acc')\n",
    "history = utils.F1History(tmp_model_filename, devSet = devSentences)\n",
    "model = models.get_model_2lstm()"
   ]
  },
  {
   "cell_type": "code",
   "execution_count": null,
   "metadata": {},
   "outputs": [],
   "source": [
    "#import importlib\n",
    "#importlib.reload(utils)\n",
    "# print(models.max_sequence_length)"
   ]
  },
  {
   "cell_type": "code",
   "execution_count": null,
   "metadata": {
    "scrolled": true
   },
   "outputs": [],
   "source": [
    "model.fit_generator(\n",
    "    utils.NerSequence(trainSentences[:1000], shuffle_data=True, batch_size=256), \n",
    "    validation_data = utils.NerSequence(devSentences[:1000], batch_size=256), \n",
    "    epochs = 3, callbacks = [history]\n",
    ")"
   ]
  },
  {
   "cell_type": "code",
   "execution_count": null,
   "metadata": {},
   "outputs": [],
   "source": [
    "print(history.acc)\n",
    "print(history.f1_scores)"
   ]
  },
  {
   "cell_type": "code",
   "execution_count": null,
   "metadata": {
    "scrolled": true
   },
   "outputs": [],
   "source": [
    "model.load_weights(tmp_model_filename)"
   ]
  },
  {
   "cell_type": "code",
   "execution_count": null,
   "metadata": {},
   "outputs": [],
   "source": [
    "model.fit_generator(\n",
    "    utils.NerSequence(trainSentences, shuffle_data=True, batch_size=2048), \n",
    "    validation_data = utils.NerSequence(devSentences, batch_size=256), \n",
    "    epochs = 5, callbacks = [history]\n",
    ")"
   ]
  },
  {
   "cell_type": "code",
   "execution_count": null,
   "metadata": {},
   "outputs": [],
   "source": [
    "model.load_weights(tmp_model_filename)"
   ]
  },
  {
   "cell_type": "code",
   "execution_count": null,
   "metadata": {},
   "outputs": [],
   "source": [
    "true_labels, pred_labels = utils.predict_sequences(model, testSentences[:1000])\n",
    "print(compute_f1(pred_labels, true_labels, models.idx2Label))"
   ]
  },
  {
   "cell_type": "code",
   "execution_count": null,
   "metadata": {},
   "outputs": [],
   "source": []
  },
  {
   "cell_type": "markdown",
   "metadata": {},
   "source": [
    "# Experiments"
   ]
  },
  {
   "cell_type": "code",
   "execution_count": null,
   "metadata": {},
   "outputs": [
    {
     "name": "stdout",
     "output_type": "stream",
     "text": [
      "Run 0\n",
      "__________________________________________________________________________________________________\n",
      "Layer (type)                    Output Shape         Param #     Connected to                     \n",
      "==================================================================================================\n",
      "char_input (InputLayer)         (None, None, 52)     0                                            \n",
      "__________________________________________________________________________________________________\n",
      "char_embedding (TimeDistributed (None, None, 52, 32) 10688       char_input[0][0]                 \n",
      "__________________________________________________________________________________________________\n",
      "casing_input (InputLayer)       (None, None)         0                                            \n",
      "__________________________________________________________________________________________________\n",
      "time_distributed_3 (TimeDistrib (None, None, 52, 100 33200       char_embedding[0][0]             \n",
      "__________________________________________________________________________________________________\n",
      "words_input (InputLayer)        (None, None, 300)    0                                            \n",
      "__________________________________________________________________________________________________\n",
      "case_embed (Embedding)          (None, None, 8)      64          casing_input[0][0]               \n",
      "__________________________________________________________________________________________________\n",
      "time_distributed_4 (TimeDistrib (None, None, 100)    60400       time_distributed_3[0][0]         \n",
      "__________________________________________________________________________________________________\n",
      "concatenate_2 (Concatenate)     (None, None, 408)    0           words_input[0][0]                \n",
      "                                                                 case_embed[0][0]                 \n",
      "                                                                 time_distributed_4[0][0]         \n",
      "__________________________________________________________________________________________________\n",
      "bidirectional_6 (Bidirectional) (None, None, 400)    974400      concatenate_2[0][0]              \n",
      "__________________________________________________________________________________________________\n",
      "crf (CRF)                       (None, None, 26)     11154       bidirectional_6[0][0]            \n",
      "==================================================================================================\n",
      "Total params: 1,089,906\n",
      "Trainable params: 1,089,842\n",
      "Non-trainable params: 64\n",
      "__________________________________________________________________________________________________\n",
      "Epoch 1/10\n",
      "1499/1500 [============================>.] - ETA: 0s - loss: 0.0456 - acc: 0.9834\n",
      "New maximum F1 score: 0.7653120746645926 (before: 0) Saving to model_lstm2_germeval.0.h5\n",
      "1500/1500 [==============================] - 957s 638ms/step - loss: 0.0455 - acc: 0.9834 - val_loss: 0.0027 - val_acc: 0.9891\n",
      "Epoch 2/10\n",
      "1499/1500 [============================>.] - ETA: 0s - loss: -0.0186 - acc: 0.9888\n",
      "New maximum F1 score: 0.7830045523520486 (before: 0.7653120746645926) Saving to model_lstm2_germeval.0.h5\n",
      "1500/1500 [==============================] - 855s 570ms/step - loss: -0.0186 - acc: 0.9888 - val_loss: -0.0458 - val_acc: 0.9900\n",
      "Epoch 3/10\n",
      "1499/1500 [============================>.] - ETA: 0s - loss: -0.0717 - acc: 0.9901\n",
      "New maximum F1 score: 0.8063540090771559 (before: 0.7830045523520486) Saving to model_lstm2_germeval.0.h5\n",
      "1500/1500 [==============================] - 865s 577ms/step - loss: -0.0717 - acc: 0.9901 - val_loss: -0.0998 - val_acc: 0.9908\n",
      "Epoch 4/10\n",
      "1500/1500 [==============================] - 861s 574ms/step - loss: -0.1270 - acc: 0.9909 - val_loss: -0.1531 - val_acc: 0.9900\n",
      "Epoch 5/10\n",
      "1499/1500 [============================>.] - ETA: 0s - loss: -0.1822 - acc: 0.9915\n",
      "New maximum F1 score: 0.814100185528757 (before: 0.8063540090771559) Saving to model_lstm2_germeval.0.h5\n",
      "1500/1500 [==============================] - 873s 582ms/step - loss: -0.1822 - acc: 0.9915 - val_loss: -0.2069 - val_acc: 0.9909\n",
      "Epoch 6/10\n",
      "1499/1500 [============================>.] - ETA: 0s - loss: -0.2372 - acc: 0.9922\n",
      "New maximum F1 score: 0.8241054613935969 (before: 0.814100185528757) Saving to model_lstm2_germeval.0.h5\n",
      "1500/1500 [==============================] - 878s 585ms/step - loss: -0.2373 - acc: 0.9922 - val_loss: -0.2610 - val_acc: 0.9915\n",
      "Epoch 7/10\n",
      "1500/1500 [==============================] - 882s 588ms/step - loss: -0.2920 - acc: 0.9926 - val_loss: -0.3147 - val_acc: 0.9912\n",
      "Epoch 8/10\n",
      "1500/1500 [==============================] - 895s 597ms/step - loss: -0.3465 - acc: 0.9929 - val_loss: -0.3681 - val_acc: 0.9912\n",
      "Epoch 9/10\n",
      "1499/1500 [============================>.] - ETA: 0s - loss: -0.4008 - acc: 0.9932\n",
      "New maximum F1 score: 0.8258836730877127 (before: 0.8241054613935969) Saving to model_lstm2_germeval.0.h5\n",
      "1500/1500 [==============================] - 890s 593ms/step - loss: -0.4008 - acc: 0.9932 - val_loss: -0.4219 - val_acc: 0.9915\n",
      "Epoch 10/10\n",
      "1500/1500 [==============================] - 873s 582ms/step - loss: -0.4550 - acc: 0.9935 - val_loss: -0.4755 - val_acc: 0.9914\n",
      "Epoch 1/10\n",
      "94/94 [==============================] - 108s 1s/step - loss: -0.4315 - acc: 0.9943 - val_loss: -0.4255 - val_acc: 0.9915\n",
      "Epoch 2/10\n",
      "93/94 [============================>.] - ETA: 0s - loss: -0.4355 - acc: 0.9945\n",
      "New maximum F1 score: 0.8277911945012075 (before: 0.8258836730877127) Saving to model_lstm2_germeval.0.h5\n",
      "94/94 [==============================] - 103s 1s/step - loss: -0.4355 - acc: 0.9945 - val_loss: -0.4290 - val_acc: 0.9917\n",
      "Epoch 3/10\n",
      "93/94 [============================>.] - ETA: 0s - loss: -0.4390 - acc: 0.9947\n",
      "New maximum F1 score: 0.8302726766833611 (before: 0.8277911945012075) Saving to model_lstm2_germeval.0.h5\n",
      "94/94 [==============================] - 103s 1s/step - loss: -0.4390 - acc: 0.9947 - val_loss: -0.4324 - val_acc: 0.9918\n",
      "Epoch 4/10\n",
      "94/94 [==============================] - 102s 1s/step - loss: -0.4426 - acc: 0.9947 - val_loss: -0.4357 - val_acc: 0.9917\n",
      "Epoch 5/10\n",
      "93/94 [============================>.] - ETA: 0s - loss: -0.4463 - acc: 0.9949\n",
      "New maximum F1 score: 0.830286241920591 (before: 0.8302726766833611) Saving to model_lstm2_germeval.0.h5\n",
      "94/94 [==============================] - 107s 1s/step - loss: -0.4463 - acc: 0.9949 - val_loss: -0.4389 - val_acc: 0.9917\n",
      "Epoch 6/10\n",
      "93/94 [============================>.] - ETA: 0s - loss: -0.4498 - acc: 0.9949\n",
      "New maximum F1 score: 0.8309911242603549 (before: 0.830286241920591) Saving to model_lstm2_germeval.0.h5\n",
      "94/94 [==============================] - 111s 1s/step - loss: -0.4498 - acc: 0.9949 - val_loss: -0.4422 - val_acc: 0.9917\n",
      "Epoch 7/10\n",
      "94/94 [==============================] - 106s 1s/step - loss: -0.4535 - acc: 0.9950 - val_loss: -0.4454 - val_acc: 0.9917\n",
      "Epoch 8/10\n",
      "93/94 [============================>.] - ETA: 0s - loss: -0.4568 - acc: 0.9951\n",
      "New maximum F1 score: 0.8315106580166822 (before: 0.8309911242603549) Saving to model_lstm2_germeval.0.h5\n",
      "94/94 [==============================] - 108s 1s/step - loss: -0.4568 - acc: 0.9951 - val_loss: -0.4489 - val_acc: 0.9920\n",
      "Epoch 9/10\n",
      "94/94 [==============================] - 102s 1s/step - loss: -0.4605 - acc: 0.9953 - val_loss: -0.4520 - val_acc: 0.9917\n",
      "Epoch 10/10\n",
      "93/94 [============================>.] - ETA: 0s - loss: -0.4640 - acc: 0.9953\n",
      "New maximum F1 score: 0.8316648127549129 (before: 0.8315106580166822) Saving to model_lstm2_germeval.0.h5\n",
      "94/94 [==============================] - 102s 1s/step - loss: -0.4640 - acc: 0.9953 - val_loss: -0.4553 - val_acc: 0.9919\n",
      "Run 1\n",
      "__________________________________________________________________________________________________\n",
      "Layer (type)                    Output Shape         Param #     Connected to                     \n",
      "==================================================================================================\n",
      "char_input (InputLayer)         (None, None, 52)     0                                            \n",
      "__________________________________________________________________________________________________\n",
      "char_embedding (TimeDistributed (None, None, 52, 32) 10688       char_input[0][0]                 \n",
      "__________________________________________________________________________________________________\n",
      "casing_input (InputLayer)       (None, None)         0                                            \n",
      "__________________________________________________________________________________________________\n",
      "time_distributed_5 (TimeDistrib (None, None, 52, 100 33200       char_embedding[0][0]             \n",
      "__________________________________________________________________________________________________\n",
      "words_input (InputLayer)        (None, None, 300)    0                                            \n",
      "__________________________________________________________________________________________________\n",
      "case_embed (Embedding)          (None, None, 8)      64          casing_input[0][0]               \n",
      "__________________________________________________________________________________________________\n",
      "time_distributed_6 (TimeDistrib (None, None, 100)    60400       time_distributed_5[0][0]         \n",
      "__________________________________________________________________________________________________\n",
      "concatenate_3 (Concatenate)     (None, None, 408)    0           words_input[0][0]                \n",
      "                                                                 case_embed[0][0]                 \n",
      "                                                                 time_distributed_6[0][0]         \n",
      "__________________________________________________________________________________________________\n",
      "bidirectional_9 (Bidirectional) (None, None, 400)    974400      concatenate_3[0][0]              \n",
      "__________________________________________________________________________________________________\n",
      "crf (CRF)                       (None, None, 26)     11154       bidirectional_9[0][0]            \n",
      "==================================================================================================\n",
      "Total params: 1,089,906\n",
      "Trainable params: 1,089,842\n",
      "Non-trainable params: 64\n",
      "__________________________________________________________________________________________________\n"
     ]
    },
    {
     "name": "stdout",
     "output_type": "stream",
     "text": [
      "Epoch 1/10\n",
      "1499/1500 [============================>.] - ETA: 0s - loss: 0.0525 - acc: 0.9836\n",
      "New maximum F1 score: 0.7672692673644147 (before: 0) Saving to model_lstm2_germeval.1.h5\n",
      "1500/1500 [==============================] - 909s 606ms/step - loss: 0.0525 - acc: 0.9836 - val_loss: 0.0096 - val_acc: 0.9892\n",
      "Epoch 2/10\n",
      "1499/1500 [============================>.] - ETA: 0s - loss: -0.0122 - acc: 0.9889\n",
      "New maximum F1 score: 0.7890669180018849 (before: 0.7672692673644147) Saving to model_lstm2_germeval.1.h5\n",
      "1500/1500 [==============================] - 893s 595ms/step - loss: -0.0122 - acc: 0.9889 - val_loss: -0.0400 - val_acc: 0.9902\n",
      "Epoch 3/10\n",
      "1499/1500 [============================>.] - ETA: 0s - loss: -0.0655 - acc: 0.9901\n",
      "New maximum F1 score: 0.8006700167504186 (before: 0.7890669180018849) Saving to model_lstm2_germeval.1.h5\n",
      "1500/1500 [==============================] - 882s 588ms/step - loss: -0.0656 - acc: 0.9901 - val_loss: -0.0927 - val_acc: 0.9900\n",
      "Epoch 4/10\n",
      "1499/1500 [============================>.] - ETA: 0s - loss: -0.1208 - acc: 0.9909\n",
      "New maximum F1 score: 0.8115003808073115 (before: 0.8006700167504186) Saving to model_lstm2_germeval.1.h5\n",
      "1500/1500 [==============================] - 880s 587ms/step - loss: -0.1209 - acc: 0.9909 - val_loss: -0.1473 - val_acc: 0.9911\n",
      "Epoch 5/10\n",
      "1499/1500 [============================>.] - ETA: 0s - loss: -0.1761 - acc: 0.9916\n",
      "New maximum F1 score: 0.8193261754905591 (before: 0.8115003808073115) Saving to model_lstm2_germeval.1.h5\n",
      "1500/1500 [==============================] - 880s 587ms/step - loss: -0.1761 - acc: 0.9916 - val_loss: -0.2010 - val_acc: 0.9914\n",
      "Epoch 6/10\n",
      "1500/1500 [==============================] - 869s 579ms/step - loss: -0.2313 - acc: 0.9923 - val_loss: -0.2553 - val_acc: 0.9914\n",
      "Epoch 7/10\n",
      "1499/1500 [============================>.] - ETA: 0s - loss: -0.2860 - acc: 0.9926\n",
      "New maximum F1 score: 0.8204843778887041 (before: 0.8193261754905591) Saving to model_lstm2_germeval.1.h5\n",
      "1500/1500 [==============================] - 897s 598ms/step - loss: -0.2860 - acc: 0.9926 - val_loss: -0.3089 - val_acc: 0.9913\n",
      "Epoch 8/10\n",
      "1499/1500 [============================>.] - ETA: 0s - loss: -0.3406 - acc: 0.9930\n",
      "New maximum F1 score: 0.82483537158984 (before: 0.8204843778887041) Saving to model_lstm2_germeval.1.h5\n",
      "1500/1500 [==============================] - 876s 584ms/step - loss: -0.3407 - acc: 0.9930 - val_loss: -0.3623 - val_acc: 0.9916\n",
      "Epoch 9/10\n",
      "1499/1500 [============================>.] - ETA: 0s - loss: -0.3947 - acc: 0.9933\n",
      "New maximum F1 score: 0.8273699741792697 (before: 0.82483537158984) Saving to model_lstm2_germeval.1.h5\n",
      "1500/1500 [==============================] - 875s 583ms/step - loss: -0.3947 - acc: 0.9933 - val_loss: -0.4158 - val_acc: 0.9916\n",
      "Epoch 10/10\n",
      "1500/1500 [==============================] - 878s 585ms/step - loss: -0.4489 - acc: 0.9934 - val_loss: -0.4692 - val_acc: 0.9915\n",
      "Epoch 1/10\n",
      "93/94 [============================>.] - ETA: 0s - loss: -0.4254 - acc: 0.9943\n",
      "New maximum F1 score: 0.8293313631326191 (before: 0.8273699741792697) Saving to model_lstm2_germeval.1.h5\n",
      "94/94 [==============================] - 108s 1s/step - loss: -0.4253 - acc: 0.9943 - val_loss: -0.4195 - val_acc: 0.9917\n",
      "Epoch 2/10\n",
      "93/94 [============================>.] - ETA: 0s - loss: -0.4290 - acc: 0.9945\n",
      "New maximum F1 score: 0.8316354880533433 (before: 0.8293313631326191) Saving to model_lstm2_germeval.1.h5\n",
      "94/94 [==============================] - 102s 1s/step - loss: -0.4290 - acc: 0.9945 - val_loss: -0.4230 - val_acc: 0.9919\n",
      "Epoch 3/10\n",
      "94/94 [==============================] - 102s 1s/step - loss: -0.4329 - acc: 0.9947 - val_loss: -0.4261 - val_acc: 0.9916\n",
      "Epoch 4/10\n",
      "94/94 [==============================] - 103s 1s/step - loss: -0.4365 - acc: 0.9948 - val_loss: -0.4294 - val_acc: 0.9916\n",
      "Epoch 5/10\n",
      "94/94 [==============================] - 102s 1s/step - loss: -0.4402 - acc: 0.9949 - val_loss: -0.4330 - val_acc: 0.9917\n",
      "Epoch 6/10\n",
      "94/94 [==============================] - 103s 1s/step - loss: -0.4437 - acc: 0.9950 - val_loss: -0.4362 - val_acc: 0.9918\n",
      "Epoch 7/10\n",
      "94/94 [==============================] - 104s 1s/step - loss: -0.4473 - acc: 0.9952 - val_loss: -0.4394 - val_acc: 0.9919\n",
      "Epoch 8/10\n",
      "94/94 [==============================] - 102s 1s/step - loss: -0.4508 - acc: 0.9952 - val_loss: -0.4427 - val_acc: 0.9917\n",
      "Epoch 9/10\n",
      "94/94 [==============================] - 103s 1s/step - loss: -0.4543 - acc: 0.9953 - val_loss: -0.4461 - val_acc: 0.9919\n",
      "Epoch 10/10\n",
      "93/94 [============================>.] - ETA: 0s - loss: -0.4577 - acc: 0.9953\n",
      "New maximum F1 score: 0.8320413436692505 (before: 0.8316354880533433) Saving to model_lstm2_germeval.1.h5\n",
      "94/94 [==============================] - 111s 1s/step - loss: -0.4577 - acc: 0.9953 - val_loss: -0.4493 - val_acc: 0.9918\n",
      "Run 2\n",
      "__________________________________________________________________________________________________\n",
      "Layer (type)                    Output Shape         Param #     Connected to                     \n",
      "==================================================================================================\n",
      "char_input (InputLayer)         (None, None, 52)     0                                            \n",
      "__________________________________________________________________________________________________\n",
      "char_embedding (TimeDistributed (None, None, 52, 32) 10688       char_input[0][0]                 \n",
      "__________________________________________________________________________________________________\n",
      "casing_input (InputLayer)       (None, None)         0                                            \n",
      "__________________________________________________________________________________________________\n",
      "time_distributed_7 (TimeDistrib (None, None, 52, 100 33200       char_embedding[0][0]             \n",
      "__________________________________________________________________________________________________\n",
      "words_input (InputLayer)        (None, None, 300)    0                                            \n",
      "__________________________________________________________________________________________________\n",
      "case_embed (Embedding)          (None, None, 8)      64          casing_input[0][0]               \n",
      "__________________________________________________________________________________________________\n",
      "time_distributed_8 (TimeDistrib (None, None, 100)    60400       time_distributed_7[0][0]         \n",
      "__________________________________________________________________________________________________\n",
      "concatenate_4 (Concatenate)     (None, None, 408)    0           words_input[0][0]                \n",
      "                                                                 case_embed[0][0]                 \n",
      "                                                                 time_distributed_8[0][0]         \n",
      "__________________________________________________________________________________________________\n",
      "bidirectional_12 (Bidirectional (None, None, 400)    974400      concatenate_4[0][0]              \n",
      "__________________________________________________________________________________________________\n",
      "crf (CRF)                       (None, None, 26)     11154       bidirectional_12[0][0]           \n",
      "==================================================================================================\n",
      "Total params: 1,089,906\n",
      "Trainable params: 1,089,842\n",
      "Non-trainable params: 64\n",
      "__________________________________________________________________________________________________\n",
      "Epoch 1/10\n",
      " 388/1500 [======>.......................] - ETA: 11:14 - loss: 0.1031 - acc: 0.9757"
     ]
    }
   ],
   "source": [
    "f = open('results_lstm2_germeval.txt', 'a')\n",
    "for run_i in range(10):\n",
    "    print(\"Run \" + str(run_i))\n",
    "    \n",
    "    tmp_model_filename = 'model_lstm2_germeval.' + str(run_i) + '.h5'\n",
    "\n",
    "    history = utils.F1History(tmp_model_filename, devSet=devSentences)\n",
    "\n",
    "    model = models.get_model_2lstm()\n",
    "    model.fit_generator(\n",
    "        utils.NerSequence(trainSentences, shuffle_data=True, batch_size=16), \n",
    "        validation_data = utils.NerSequence(devSentences, batch_size=512), \n",
    "        epochs = 10, callbacks = [history]\n",
    "    )\n",
    "    \n",
    "    model.load_weights(tmp_model_filename)\n",
    "    \n",
    "    model.fit_generator(\n",
    "        utils.NerSequence(trainSentences, shuffle_data=True, batch_size=256), \n",
    "        validation_data = utils.NerSequence(devSentences, batch_size=512), \n",
    "        epochs = 10, callbacks = [history]\n",
    "    )\n",
    "    \n",
    "    model.load_weights(tmp_model_filename)\n",
    "    \n",
    "    true_labels, pred_labels = utils.predict_sequences(model, testSentences)\n",
    "    \n",
    "    pre, rec, f1 = compute_f1(pred_labels, true_labels, models.idx2Label)\n",
    "    f.write(str(run_i) + \"\\t\" + str(pre) + \"\\t\" + str(rec) +  \"\\t\" + str(f1))\n",
    "    f.write(\"\\n\")\n",
    "    f.flush()\n",
    "f.close()"
   ]
  },
  {
   "cell_type": "code",
   "execution_count": null,
   "metadata": {},
   "outputs": [],
   "source": []
  },
  {
   "cell_type": "code",
   "execution_count": null,
   "metadata": {},
   "outputs": [],
   "source": []
  },
  {
   "cell_type": "markdown",
   "metadata": {},
   "source": [
    "# Save final model"
   ]
  },
  {
   "cell_type": "code",
   "execution_count": null,
   "metadata": {},
   "outputs": [],
   "source": [
    "import shutil, json\n",
    "# copy file for best run\n",
    "shutil.copyfile('tmp_3cnn_bi-lstm.h5', '../models/final_model_germeval_outer.h5')\n",
    "with open(\"../models/final_model_germeval.indexes\", \"w\") as f:\n",
    "    json.dump([models.idx2Label, models.label2Idx, models.char2Idx, models.case2Idx], f)"
   ]
  },
  {
   "cell_type": "code",
   "execution_count": null,
   "metadata": {},
   "outputs": [],
   "source": [
    "from keras_contrib.layers import CRF\n",
    "def create_custom_objects():\n",
    "    instanceHolder = {\"instance\": None}\n",
    "    class ClassWrapper(CRF):\n",
    "        def __init__(self, *args, **kwargs):\n",
    "            instanceHolder[\"instance\"] = self\n",
    "            super(ClassWrapper, self).__init__(*args, **kwargs)\n",
    "    def loss(*args):\n",
    "        method = getattr(instanceHolder[\"instance\"], \"loss_function\")\n",
    "        return method(*args)\n",
    "    def accuracy(*args):\n",
    "        method = getattr(instanceHolder[\"instance\"], \"accuracy\")\n",
    "        return method(*args)\n",
    "    return {\"ClassWrapper\": ClassWrapper ,\"CRF\": ClassWrapper, \"loss\": loss, \"accuracy\":accuracy}\n",
    "\n",
    "finalmodel = load_model('../models/final_model_germeval_outer.h5', custom_objects=create_custom_objects())\n",
    "true_labels, pred_labels = utils.predict_sequences(finalmodel, testSentences)\n",
    "print(compute_f1(pred_labels, true_labels, models.idx2Label))"
   ]
  },
  {
   "cell_type": "code",
   "execution_count": null,
   "metadata": {},
   "outputs": [],
   "source": [
    "f = open('germeval_output.tsv', 'w', encoding='UTF-8')\n",
    "for i_sent, sent in enumerate(testSentences):\n",
    "    for i_tok, tok in enumerate(sent):\n",
    "        if tok[0] == 'PADDING_TOKEN':\n",
    "            break\n",
    "        correctlabel = models.idx2Label[true_labels[i_sent][i_tok]]\n",
    "        guessedlabel = models.idx2Label[pred_labels[i_sent][i_tok]]\n",
    "        line = \"\\t\".join([str(i_tok+1), tok[0], correctlabel, correctlabel, guessedlabel, guessedlabel])\n",
    "        f.write(line + '\\n')\n",
    "    f.write('\\n')\n",
    "f.close"
   ]
  },
  {
   "cell_type": "code",
   "execution_count": null,
   "metadata": {},
   "outputs": [],
   "source": []
  }
 ],
 "metadata": {
  "kernelspec": {
   "display_name": "Python 3",
   "language": "python",
   "name": "python3"
  },
  "language_info": {
   "codemirror_mode": {
    "name": "ipython",
    "version": 3
   },
   "file_extension": ".py",
   "mimetype": "text/x-python",
   "name": "python",
   "nbconvert_exporter": "python",
   "pygments_lexer": "ipython3",
   "version": "3.5.5"
  }
 },
 "nbformat": 4,
 "nbformat_minor": 2
}
