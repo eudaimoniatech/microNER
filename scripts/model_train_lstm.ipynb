{
 "cells": [
  {
   "cell_type": "code",
   "execution_count": 1,
   "metadata": {},
   "outputs": [
    {
     "name": "stderr",
     "output_type": "stream",
     "text": [
      "/home/gwiedemann/miniconda3/envs/kerasenv/lib/python3.5/site-packages/h5py/__init__.py:36: FutureWarning: Conversion of the second argument of issubdtype from `float` to `np.floating` is deprecated. In future, it will be treated as `np.float64 == np.dtype(float).type`.\n",
      "  from ._conv import register_converters as _register_converters\n",
      "Using TensorFlow backend.\n"
     ]
    }
   ],
   "source": [
    "import sys\n",
    "import os\n",
    "import fastText\n",
    "\n",
    "from validation import compute_f1\n",
    "\n",
    "from keras.models import load_model\n",
    "from keras.callbacks import ModelCheckpoint, Callback\n",
    "\n",
    "import models\n",
    "import utils"
   ]
  },
  {
   "cell_type": "code",
   "execution_count": 2,
   "metadata": {},
   "outputs": [
    {
     "name": "stdout",
     "output_type": "stream",
     "text": [
      "env: CUDA_DEVICE_ORDER=PCI_BUS_ID\n",
      "env: CUDA_VISIBLE_DEVICES=2\n"
     ]
    }
   ],
   "source": [
    "%env CUDA_DEVICE_ORDER=PCI_BUS_ID\n",
    "%env CUDA_VISIBLE_DEVICES=2"
   ]
  },
  {
   "cell_type": "code",
   "execution_count": 3,
   "metadata": {},
   "outputs": [
    {
     "name": "stdout",
     "output_type": "stream",
     "text": [
      "24000\n",
      "2200\n",
      "5100\n"
     ]
    }
   ],
   "source": [
    "trainSentences = utils.get_sentences_germeval('../data/GermEVAL/NER-de-train.tsv')\n",
    "devSentences = utils.get_sentences_germeval('../data/GermEVAL/NER-de-dev.tsv')\n",
    "testSentences = utils.get_sentences_germeval('../data/GermEVAL/NER-de-test.tsv')\n",
    "\n",
    "# trainSentences = utils.get_sentences_conll('../data/CONLL/deu/deu_utf.train.bio')\n",
    "# devSentences = utils.get_sentences_conll('../data/CONLL/deu/deu_utf.testa.bio')\n",
    "# testSentences = utils.get_sentences_conll('../data/CONLL/deu/deu_utf.testb.bio')\n",
    "\n",
    "print(len(trainSentences))\n",
    "print(len(devSentences))\n",
    "print(len(testSentences))\n"
   ]
  },
  {
   "cell_type": "code",
   "execution_count": 4,
   "metadata": {},
   "outputs": [
    {
     "name": "stdout",
     "output_type": "stream",
     "text": [
      "[['Die', 'O'], ['These', 'O'], [',', 'O'], ['Schlatter', 'B-PER'], ['sei', 'O'], ['Antisemit', 'O'], ['gewesen', 'O'], [',', 'O'], ['wurde', 'O'], ['seither', 'O'], ['in', 'O'], ['der', 'O'], ['theologischen', 'O'], ['Fachliteratur', 'O'], ['nicht', 'O'], ['mehr', 'O'], ['vertreten', 'O'], ['.', 'O']]\n"
     ]
    }
   ],
   "source": [
    "print(testSentences[3])"
   ]
  },
  {
   "cell_type": "code",
   "execution_count": 5,
   "metadata": {},
   "outputs": [],
   "source": [
    "labelSet = set()\n",
    "characters= set()\n",
    "models.max_sequence_length = 0\n",
    "\n",
    "for dataset in [trainSentences, devSentences, testSentences]:\n",
    "    for sentence in dataset:\n",
    "        for word, label in sentence:\n",
    "            for char in word:\n",
    "                characters.add(char)\n",
    "            labelSet.add(label)\n",
    "        if len(sentence) > models.max_sequence_length:\n",
    "            models.max_sequence_length = len(sentence)"
   ]
  },
  {
   "cell_type": "code",
   "execution_count": 6,
   "metadata": {},
   "outputs": [
    {
     "name": "stdout",
     "output_type": "stream",
     "text": [
      "25\n",
      "56\n"
     ]
    }
   ],
   "source": [
    "print(len(labelSet))\n",
    "print(models.max_sequence_length)"
   ]
  },
  {
   "cell_type": "code",
   "execution_count": 7,
   "metadata": {},
   "outputs": [],
   "source": [
    "# :: Create a mapping for the labels ::\n",
    "models.label2Idx = {\"PADDING_TOKEN\":0}\n",
    "for label in labelSet:\n",
    "    models.label2Idx[label] = len(models.label2Idx)"
   ]
  },
  {
   "cell_type": "code",
   "execution_count": 8,
   "metadata": {},
   "outputs": [
    {
     "name": "stdout",
     "output_type": "stream",
     "text": [
      "{'I-LOC': 1, 'B-ORGderiv': 2, 'I-ORG': 15, 'B-LOCpart': 16, 'B-ORGpart': 14, 'I-ORGderiv': 3, 'B-LOCderiv': 21, 'I-LOCpart': 17, 'B-ORG': 18, 'I-ORGpart': 5, 'B-PERpart': 23, 'B-OTHderiv': 6, 'I-OTHpart': 7, 'I-PERderiv': 8, 'O': 9, 'I-LOCderiv': 22, 'I-PER': 19, 'PADDING_TOKEN': 0, 'B-PER': 10, 'I-OTHderiv': 20, 'B-PERderiv': 11, 'I-OTH': 4, 'B-OTH': 25, 'B-LOC': 12, 'I-PERpart': 13, 'B-OTHpart': 24}\n"
     ]
    }
   ],
   "source": [
    "print(models.label2Idx)"
   ]
  },
  {
   "cell_type": "code",
   "execution_count": 9,
   "metadata": {},
   "outputs": [],
   "source": [
    "# :: Hard coded case lookup ::\n",
    "models.case2Idx = {'PADDING_TOKEN':0, 'numeric': 1, 'allLower':2, 'allUpper':3, 'initialUpper':4, 'other':5, 'mainly_numeric':6, 'contains_digit': 7}"
   ]
  },
  {
   "cell_type": "code",
   "execution_count": 10,
   "metadata": {},
   "outputs": [
    {
     "name": "stdout",
     "output_type": "stream",
     "text": [
      "{'allUpper': 3, 'contains_digit': 7, 'numeric': 1, 'mainly_numeric': 6, 'other': 5, 'allLower': 2, 'initialUpper': 4, 'PADDING_TOKEN': 0}\n"
     ]
    }
   ],
   "source": [
    "print(models.case2Idx)"
   ]
  },
  {
   "cell_type": "code",
   "execution_count": 11,
   "metadata": {},
   "outputs": [
    {
     "name": "stdout",
     "output_type": "stream",
     "text": [
      "<class 'list'>\n"
     ]
    }
   ],
   "source": [
    "print(type(trainSentences))"
   ]
  },
  {
   "cell_type": "code",
   "execution_count": 12,
   "metadata": {},
   "outputs": [
    {
     "name": "stdout",
     "output_type": "stream",
     "text": [
      "[['Schartau', 'B-PER'], ['sagte', 'O'], ['dem', 'O'], ['\"', 'O'], ['Tagesspiegel', 'B-ORG'], ['\"', 'O'], ['vom', 'O'], ['Freitag', 'O'], [',', 'O'], ['Fischer', 'B-PER'], ['sei', 'O'], ['\"', 'O'], ['in', 'O'], ['einer', 'O'], ['Weise', 'O'], ['aufgetreten', 'O'], [',', 'O'], ['die', 'O'], ['alles', 'O'], ['andere', 'O'], ['als', 'O'], ['überzeugend', 'O'], ['war', 'O'], ['\"', 'O'], ['.', 'O']]\n"
     ]
    }
   ],
   "source": [
    "print(trainSentences[0])"
   ]
  },
  {
   "cell_type": "code",
   "execution_count": 13,
   "metadata": {
    "scrolled": true
   },
   "outputs": [
    {
     "name": "stdout",
     "output_type": "stream",
     "text": [
      "{'Å': 5, '[': 121, 'Ü': 6, 'к': 7, 'e': 8, 'ю': 248, 'П': 234, 'L': 9, '±': 10, 'µ': 11, 'ø': 12, 'г': 19, 'l': 17, '-': 18, 'n': 20, '8': 279, '³': 22, 'ő': 200, 'q': 23, 'Þ': 25, 'ρ': 175, 'G': 26, 'œ': 323, 'ż': 27, '²': 281, 'д': 231, 'K': 28, 'е': 29, 'ť': 30, '別': 31, 'ḫ': 32, 'İ': 33, 'ệ': 34, '懿': 36, '£': 202, 'р': 37, '‹': 65, 'UNKNOWN': 333, '傳': 14, '\"': 331, '\\x99': 40, '©': 41, 'т': 244, 'ї': 43, 'T': 97, 'В': 277, 'ş': 236, 'á': 131, 'ا': 283, 'ο': 44, '<S>': 1, 'N': 45, 'h': 46, 'X': 48, 'D': 49, 'Ø': 57, 'M': 52, 'ó': 53, '½': 55, 'έ': 56, '李': 59, '`': 61, 'ō': 63, 'I': 62, 'y': 307, '—': 66, 'ğ': 325, '柯': 21, '’': 304, 'V': 68, 'b': 69, ':': 67, '´': 71, 'υ': 73, 'ـ': 80, 'ψ': 311, '士': 77, 'ن': 82, 'є': 78, 'ě': 81, 'з': 83, 'Π': 84, 'ä': 129, 'â': 86, 'õ': 39, 'Œ': 88, '»': 89, 'Ġ': 180, ',': 90, 'd': 91, '_': 92, 'a': 93, 'E': 47, 'н': 72, '6': 94, 'i': 95, 'Â': 222, 'ř': 96, 'Ž': 104, ';': 99, '\\x9a': 108, 'j': 101, 'М': 102, 'ë': 103, ']': 106, 'î': 105, '術': 291, 'ь': 109, '⊃': 110, '@': 126, '<W>': 3, 'σ': 75, 'O': 111, 'オ': 24, '\\x96': 60, 'z': 113, '§': 118, 'W': 115, '(': 117, 'È': 120, '×': 172, 'б': 187, '▪': 122, '\\x95': 123, '‚': 13, 'U': 124, 'أ': 125, '†': 127, 'ῦ': 128, 'è': 130, '佐': 135, 'Š': 132, 'ι': 114, 'ö': 312, 'Λ': 173, 'F': 136, 'ā': 228, '博': 134, 'Ä': 137, '›': 138, 'ъ': 139, '>': 142, 'ą': 298, 'P': 143, '⋅': 144, 'å': 247, '<': 147, '章': 85, '造': 119, 'ي': 148, 'ã': 149, '鶴': 156, '7': 152, 'f': 141, '鷹': 154, 'Т': 155, 'ǒ': 157, 'ʻ': 158, 'ĩ': 160, 'α': 161, '2': 87, 'ċ': 151, 'ū': 245, 'g': 162, '학': 163, 'ı': 58, '$': 16, 'ę': 166, '≘': 253, 'o': 167, 'ɨ': 168, 'ł': 170, 'ž': 171, 'ħ': 174, 'ς': 146, '寝': 176, 'A': 177, 'Ż': 208, 'ð': 181, 'в': 182, 'Î': 183, '동': 184, 'ض': 185, 'х': 186, 'ē': 330, '*': 188, '\\x94': 133, 'Ш': 189, 'J': 190, 'H': 191, 'Ł': 300, 'ά': 239, 'v': 204, '貴': 193, 'ế': 194, '南': 195, 's': 196, 'Æ': 251, 'r': 197, 'о': 198, 'й': 199, '.': 201, 'p': 203, 'С': 178, 'γ': 206, 'À': 207, 'Á': 150, '‘': 209, 'S': 210, 'Y': 211, 'κ': 289, 'É': 70, '대': 212, '„': 213, '\\xad': 153, 'Q': 215, '\\u200e': 216, '%': 217, '殿': 35, '→': 219, 'm': 140, 'ń': 221, '</S>': 2, 'ό': 223, 'Ц': 224, 'у': 265, 'ă': 256, '9': 227, 'ラ': 76, 'Ö': 15, 'ç': 230, 'ī': 164, '?': 232, 'k': 233, 'æ': 242, 'ô': 235, 'И': 226, '–': 237, '/': 238, 'л': 240, '“': 241, '5': 243, 'ú': 64, '\\x80': 314, 'м': 246, 'ν': 38, 'í': 116, 'ж': 287, 'ß': 98, '&': 317, 'ý': 268, 'и': 250, '算': 252, 'Z': 316, '冲': 107, 'u': 254, '€': 255, '…': 257, 'c': 100, '1': 214, 'ņ': 260, '#': 261, 'à': 262, 'š': 264, '°': 42, 'é': 266, '妃': 326, 'φ': 267, 'R': 269, '=': 271, 'ć': 270, '!': 272, '東': 218, 'ü': 273, 'w': 274, 'Е': 324, 'ź': 276, 'а': 220, '公': 259, '¤': 258, 'PADDING_TOKEN': 0, 'ε': 280, 'ы': 308, '~': 282, 'ḳ': 179, '‐': 328, 'x': 284, '台': 285, 'λ': 327, 't': 286, 'C': 275, '</W>': 4, '}': 290, '樓': 293, '별': 225, 'B': 294, 'η': 295, '”': 296, 'Л': 297, 'ب': 79, 'ś': 74, 'π': 288, ')': 165, 'я': 320, 'β': 301, 'τ': 302, '−': 303, '¸': 299, 'п': 305, '\\x92': 51, 'ê': 309, '루': 249, '+': 310, 'Ş': 159, '守': 306, 'У': 313, \"'\": 315, '3': 205, '¹': 322, '″': 318, '0': 319, 'ñ': 321, 'ň': 263, '≤': 112, 'û': 54, '·': 145, 'с': 169, '«': 192, 'ŏ': 329, 'č': 50, 'Č': 229, '4': 332, '九': 278, '太': 292}\n"
     ]
    }
   ],
   "source": [
    "models.char2Idx={\"PADDING_TOKEN\":0, \"<S>\":1, \"</S>\":2, \"<W>\":3, \"</W>\":4}\n",
    "for char in characters:\n",
    "    models.char2Idx[char] = len(models.char2Idx)\n",
    "models.char2Idx['UNKNOWN'] = len(models.char2Idx)\n",
    "print(models.char2Idx)"
   ]
  },
  {
   "cell_type": "code",
   "execution_count": 14,
   "metadata": {
    "scrolled": true
   },
   "outputs": [
    {
     "name": "stdout",
     "output_type": "stream",
     "text": [
      "[['Schartau', 'B-PER'], ['sagte', 'O'], ['dem', 'O'], ['\"', 'O'], ['Tagesspiegel', 'B-ORG'], ['\"', 'O'], ['vom', 'O'], ['Freitag', 'O'], [',', 'O'], ['Fischer', 'B-PER'], ['sei', 'O'], ['\"', 'O'], ['in', 'O'], ['einer', 'O'], ['Weise', 'O'], ['aufgetreten', 'O'], [',', 'O'], ['die', 'O'], ['alles', 'O'], ['andere', 'O'], ['als', 'O'], ['überzeugend', 'O'], ['war', 'O'], ['\"', 'O'], ['.', 'O']]\n"
     ]
    }
   ],
   "source": [
    "print(trainSentences[0]) "
   ]
  },
  {
   "cell_type": "code",
   "execution_count": 15,
   "metadata": {},
   "outputs": [],
   "source": [
    "models.ft = fastText.load_model(\"../embeddings/wiki.de.bin\")"
   ]
  },
  {
   "cell_type": "code",
   "execution_count": 16,
   "metadata": {},
   "outputs": [
    {
     "name": "stdout",
     "output_type": "stream",
     "text": [
      "300\n",
      "25\n"
     ]
    }
   ],
   "source": [
    "print(models.nb_embedding_dims)\n",
    "print(len(trainSentences[0]))"
   ]
  },
  {
   "cell_type": "code",
   "execution_count": 17,
   "metadata": {},
   "outputs": [
    {
     "name": "stdout",
     "output_type": "stream",
     "text": [
      "26\n",
      "26\n"
     ]
    }
   ],
   "source": [
    "models.idx2Label = {v: k for k, v in models.label2Idx.items()}\n",
    "print(len(models.label2Idx))\n",
    "print(len(models.idx2Label))"
   ]
  },
  {
   "cell_type": "markdown",
   "metadata": {
    "scrolled": true
   },
   "source": [
    "# Test Model"
   ]
  },
  {
   "cell_type": "code",
   "execution_count": null,
   "metadata": {},
   "outputs": [],
   "source": [
    "# import importlib\n",
    "# importlib.reload(models)"
   ]
  },
  {
   "cell_type": "code",
   "execution_count": null,
   "metadata": {},
   "outputs": [],
   "source": [
    "tmp_model_filename = 'model_lstm_germeval.h5'\n",
    "# checkpoint = ModelCheckpoint(tmp_model_filename, verbose=1, save_best_only = True, monitor = 'val_acc')\n",
    "history = utils.F1History(tmp_model_filename, devSet = devSentences)\n",
    "model = models.get_model_lstm_v2()"
   ]
  },
  {
   "cell_type": "code",
   "execution_count": null,
   "metadata": {},
   "outputs": [],
   "source": [
    "#import importlib\n",
    "#importlib.reload(utils)\n",
    "# print(models.max_sequence_length)"
   ]
  },
  {
   "cell_type": "code",
   "execution_count": null,
   "metadata": {
    "scrolled": true
   },
   "outputs": [],
   "source": [
    "model.fit_generator(\n",
    "    utils.NerSequence(trainSentences[:1000], shuffle_data=True, batch_size=256), \n",
    "    validation_data = utils.NerSequence(devSentences[:1000], batch_size=256), \n",
    "    epochs = 3, callbacks = [history]\n",
    ")"
   ]
  },
  {
   "cell_type": "code",
   "execution_count": null,
   "metadata": {},
   "outputs": [],
   "source": [
    "print(history.acc)\n",
    "print(history.f1_scores)"
   ]
  },
  {
   "cell_type": "code",
   "execution_count": null,
   "metadata": {
    "scrolled": true
   },
   "outputs": [],
   "source": [
    "model.load_weights(tmp_model_filename)"
   ]
  },
  {
   "cell_type": "code",
   "execution_count": null,
   "metadata": {},
   "outputs": [],
   "source": [
    "model.fit_generator(\n",
    "    utils.NerSequence(trainSentences, shuffle_data=True, batch_size=2048), \n",
    "    validation_data = utils.NerSequence(devSentences, batch_size=256), \n",
    "    epochs = 5, callbacks = [history]\n",
    ")"
   ]
  },
  {
   "cell_type": "code",
   "execution_count": null,
   "metadata": {},
   "outputs": [],
   "source": [
    "model.load_weights(tmp_model_filename)"
   ]
  },
  {
   "cell_type": "code",
   "execution_count": null,
   "metadata": {},
   "outputs": [],
   "source": [
    "true_labels, pred_labels = utils.predict_sequences(model, testSentences[:1000])\n",
    "print(compute_f1(pred_labels, true_labels, models.idx2Label))"
   ]
  },
  {
   "cell_type": "code",
   "execution_count": null,
   "metadata": {},
   "outputs": [],
   "source": []
  },
  {
   "cell_type": "markdown",
   "metadata": {},
   "source": [
    "# Experiments"
   ]
  },
  {
   "cell_type": "code",
   "execution_count": null,
   "metadata": {},
   "outputs": [
    {
     "name": "stdout",
     "output_type": "stream",
     "text": [
      "Run 0\n",
      "__________________________________________________________________________________________________\n",
      "Layer (type)                    Output Shape         Param #     Connected to                     \n",
      "==================================================================================================\n",
      "char_input (InputLayer)         (None, None, 52)     0                                            \n",
      "__________________________________________________________________________________________________\n",
      "casing_input (InputLayer)       (None, None)         0                                            \n",
      "__________________________________________________________________________________________________\n",
      "char_embedding (TimeDistributed (None, None, 52, 32) 10688       char_input[0][0]                 \n",
      "__________________________________________________________________________________________________\n",
      "words_input (InputLayer)        (None, None, 300)    0                                            \n",
      "__________________________________________________________________________________________________\n",
      "case_embed (Embedding)          (None, None, 8)      64          casing_input[0][0]               \n",
      "__________________________________________________________________________________________________\n",
      "time_distributed_1 (TimeDistrib (None, None, 100)    33200       char_embedding[0][0]             \n",
      "__________________________________________________________________________________________________\n",
      "concatenate_1 (Concatenate)     (None, None, 408)    0           words_input[0][0]                \n",
      "                                                                 case_embed[0][0]                 \n",
      "                                                                 time_distributed_1[0][0]         \n",
      "__________________________________________________________________________________________________\n",
      "bidirectional_2 (Bidirectional) (None, None, 400)    974400      concatenate_1[0][0]              \n",
      "__________________________________________________________________________________________________\n",
      "time_distributed_2 (TimeDistrib (None, None, 26)     10426       bidirectional_2[0][0]            \n",
      "__________________________________________________________________________________________________\n",
      "crf (CRF)                       (None, None, 26)     1430        time_distributed_2[0][0]         \n",
      "==================================================================================================\n",
      "Total params: 1,030,208\n",
      "Trainable params: 1,030,144\n",
      "Non-trainable params: 64\n",
      "__________________________________________________________________________________________________\n",
      "Epoch 1/10\n",
      "1499/1500 [============================>.] - ETA: 0s - loss: 0.0514 - acc: 0.9835\n",
      "New maximum F1 score: 0.7640535372848947 (before: 0) Saving to model_lstm_germeval_v2.0.h5\n",
      "1500/1500 [==============================] - 621s 414ms/step - loss: 0.0514 - acc: 0.9835 - val_loss: 0.0073 - val_acc: 0.9891\n",
      "Epoch 2/10\n",
      "1499/1500 [============================>.] - ETA: 0s - loss: -0.0149 - acc: 0.9891\n",
      "New maximum F1 score: 0.7977955150133029 (before: 0.7640535372848947) Saving to model_lstm_germeval_v2.0.h5\n",
      "1500/1500 [==============================] - 615s 410ms/step - loss: -0.0149 - acc: 0.9890 - val_loss: -0.0431 - val_acc: 0.9906\n",
      "Epoch 3/10\n",
      "1499/1500 [============================>.] - ETA: 0s - loss: -0.0686 - acc: 0.9902\n",
      "New maximum F1 score: 0.8045675776862597 (before: 0.7977955150133029) Saving to model_lstm_germeval_v2.0.h5\n",
      "1500/1500 [==============================] - 619s 413ms/step - loss: -0.0686 - acc: 0.9902 - val_loss: -0.0963 - val_acc: 0.9909\n",
      "Epoch 4/10\n",
      "1499/1500 [============================>.] - ETA: 0s - loss: -0.1239 - acc: 0.9910\n",
      "New maximum F1 score: 0.81048912032732 (before: 0.8045675776862597) Saving to model_lstm_germeval_v2.0.h5\n",
      "1500/1500 [==============================] - 613s 408ms/step - loss: -0.1239 - acc: 0.9910 - val_loss: -0.1500 - val_acc: 0.9911\n",
      "Epoch 5/10\n",
      "1499/1500 [============================>.] - ETA: 0s - loss: -0.1793 - acc: 0.9917\n",
      "New maximum F1 score: 0.8189035916824197 (before: 0.81048912032732) Saving to model_lstm_germeval_v2.0.h5\n",
      "1500/1500 [==============================] - 610s 407ms/step - loss: -0.1793 - acc: 0.9917 - val_loss: -0.2043 - val_acc: 0.9913\n",
      "Epoch 6/10\n",
      "1499/1500 [============================>.] - ETA: 0s - loss: -0.2345 - acc: 0.9922\n",
      "New maximum F1 score: 0.8224264016501033 (before: 0.8189035916824197) Saving to model_lstm_germeval_v2.0.h5\n",
      "1500/1500 [==============================] - 611s 407ms/step - loss: -0.2345 - acc: 0.9922 - val_loss: -0.2586 - val_acc: 0.9913\n",
      "Epoch 7/10\n",
      "1500/1500 [==============================] - 609s 406ms/step - loss: -0.2892 - acc: 0.9927 - val_loss: -0.3115 - val_acc: 0.9910\n",
      "Epoch 8/10\n",
      " 236/1500 [===>..........................] - ETA: 8:28 - loss: -0.3228 - acc: 0.9940"
     ]
    }
   ],
   "source": [
    "f = open('results_lstm_germeval_v2.txt', 'a')\n",
    "for run_i in range(10):\n",
    "    print(\"Run \" + str(run_i))\n",
    "    \n",
    "    tmp_model_filename = 'model_lstm_germeval_v2.' + str(run_i) + '.h5'\n",
    "\n",
    "    history = utils.F1History(tmp_model_filename, devSet=devSentences)\n",
    "\n",
    "    model = models.get_model_lstm_v2()\n",
    "    model.fit_generator(\n",
    "        utils.NerSequence(trainSentences, shuffle_data=True, batch_size=16), \n",
    "        validation_data = utils.NerSequence(devSentences, batch_size=512), \n",
    "        epochs = 10, callbacks = [history]\n",
    "    )\n",
    "    \n",
    "    model.load_weights(tmp_model_filename)\n",
    "    \n",
    "    model.fit_generator(\n",
    "        utils.NerSequence(trainSentences, shuffle_data=True, batch_size=512), \n",
    "        validation_data = utils.NerSequence(devSentences, batch_size=512), \n",
    "        epochs = 10, callbacks = [history]\n",
    "    )\n",
    "    \n",
    "    model.load_weights(tmp_model_filename)\n",
    "    \n",
    "    true_labels, pred_labels = utils.predict_sequences(model, testSentences)\n",
    "    \n",
    "    pre, rec, f1 = compute_f1(pred_labels, true_labels, models.idx2Label)\n",
    "    f.write(str(run_i) + \"\\t\" + str(pre) + \"\\t\" + str(rec) +  \"\\t\" + str(f1))\n",
    "    f.write(\"\\n\")\n",
    "    f.flush()\n",
    "f.close()"
   ]
  },
  {
   "cell_type": "code",
   "execution_count": null,
   "metadata": {},
   "outputs": [],
   "source": []
  },
  {
   "cell_type": "code",
   "execution_count": null,
   "metadata": {},
   "outputs": [],
   "source": []
  },
  {
   "cell_type": "code",
   "execution_count": null,
   "metadata": {},
   "outputs": [],
   "source": []
  },
  {
   "cell_type": "markdown",
   "metadata": {},
   "source": [
    "# Save final model"
   ]
  },
  {
   "cell_type": "code",
   "execution_count": null,
   "metadata": {},
   "outputs": [],
   "source": [
    "import shutil, json\n",
    "# copy file for best run\n",
    "shutil.copyfile('tmp_3cnn_bi-lstm.h5', '../models/final_model_germeval_outer.h5')\n",
    "with open(\"../models/final_model_germeval.indexes\", \"w\") as f:\n",
    "    json.dump([models.idx2Label, models.label2Idx, models.char2Idx, models.case2Idx], f)"
   ]
  },
  {
   "cell_type": "code",
   "execution_count": null,
   "metadata": {},
   "outputs": [],
   "source": [
    "from keras_contrib.layers import CRF\n",
    "def create_custom_objects():\n",
    "    instanceHolder = {\"instance\": None}\n",
    "    class ClassWrapper(CRF):\n",
    "        def __init__(self, *args, **kwargs):\n",
    "            instanceHolder[\"instance\"] = self\n",
    "            super(ClassWrapper, self).__init__(*args, **kwargs)\n",
    "    def loss(*args):\n",
    "        method = getattr(instanceHolder[\"instance\"], \"loss_function\")\n",
    "        return method(*args)\n",
    "    def accuracy(*args):\n",
    "        method = getattr(instanceHolder[\"instance\"], \"accuracy\")\n",
    "        return method(*args)\n",
    "    return {\"ClassWrapper\": ClassWrapper ,\"CRF\": ClassWrapper, \"loss\": loss, \"accuracy\":accuracy}\n",
    "\n",
    "finalmodel = load_model('../models/final_model_germeval_outer.h5', custom_objects=create_custom_objects())\n",
    "true_labels, pred_labels = utils.predict_sequences(finalmodel, testSentences)\n",
    "print(compute_f1(pred_labels, true_labels, models.idx2Label))"
   ]
  },
  {
   "cell_type": "code",
   "execution_count": null,
   "metadata": {},
   "outputs": [],
   "source": [
    "f = open('germeval_output.tsv', 'w', encoding='UTF-8')\n",
    "for i_sent, sent in enumerate(testSentences):\n",
    "    for i_tok, tok in enumerate(sent):\n",
    "        if tok[0] == 'PADDING_TOKEN':\n",
    "            break\n",
    "        correctlabel = models.idx2Label[true_labels[i_sent][i_tok]]\n",
    "        guessedlabel = models.idx2Label[pred_labels[i_sent][i_tok]]\n",
    "        line = \"\\t\".join([str(i_tok+1), tok[0], correctlabel, correctlabel, guessedlabel, guessedlabel])\n",
    "        f.write(line + '\\n')\n",
    "    f.write('\\n')\n",
    "f.close"
   ]
  },
  {
   "cell_type": "code",
   "execution_count": null,
   "metadata": {},
   "outputs": [],
   "source": []
  }
 ],
 "metadata": {
  "kernelspec": {
   "display_name": "Python 3",
   "language": "python",
   "name": "python3"
  },
  "language_info": {
   "codemirror_mode": {
    "name": "ipython",
    "version": 3
   },
   "file_extension": ".py",
   "mimetype": "text/x-python",
   "name": "python",
   "nbconvert_exporter": "python",
   "pygments_lexer": "ipython3",
   "version": "3.5.5"
  }
 },
 "nbformat": 4,
 "nbformat_minor": 2
}
