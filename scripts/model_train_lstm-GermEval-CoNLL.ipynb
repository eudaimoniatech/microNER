{
 "cells": [
  {
   "cell_type": "code",
   "execution_count": 1,
   "metadata": {},
   "outputs": [
    {
     "name": "stderr",
     "output_type": "stream",
     "text": [
      "/home/gwiedemann/miniconda3/envs/kerasenv/lib/python3.5/site-packages/h5py/__init__.py:36: FutureWarning: Conversion of the second argument of issubdtype from `float` to `np.floating` is deprecated. In future, it will be treated as `np.float64 == np.dtype(float).type`.\n",
      "  from ._conv import register_converters as _register_converters\n",
      "Using TensorFlow backend.\n"
     ]
    }
   ],
   "source": [
    "import sys\n",
    "import os\n",
    "import fastText\n",
    "\n",
    "from validation import compute_f1\n",
    "\n",
    "from keras.models import load_model\n",
    "from keras.callbacks import ModelCheckpoint, Callback\n",
    "\n",
    "import models\n",
    "import utils"
   ]
  },
  {
   "cell_type": "code",
   "execution_count": 2,
   "metadata": {},
   "outputs": [
    {
     "name": "stdout",
     "output_type": "stream",
     "text": [
      "env: CUDA_DEVICE_ORDER=PCI_BUS_ID\n",
      "env: CUDA_VISIBLE_DEVICES=2\n"
     ]
    }
   ],
   "source": [
    "%env CUDA_DEVICE_ORDER=PCI_BUS_ID\n",
    "%env CUDA_VISIBLE_DEVICES=2"
   ]
  },
  {
   "cell_type": "code",
   "execution_count": 54,
   "metadata": {},
   "outputs": [
    {
     "data": {
      "text/plain": [
       "<module 'utils' from '/home/gwiedemann/microNER/scripts/utils.py'>"
      ]
     },
     "execution_count": 54,
     "metadata": {},
     "output_type": "execute_result"
    }
   ],
   "source": [
    "import importlib\n",
    "importlib.reload(utils)"
   ]
  },
  {
   "cell_type": "code",
   "execution_count": 55,
   "metadata": {},
   "outputs": [
    {
     "name": "stdout",
     "output_type": "stream",
     "text": [
      "36152\n",
      "5067\n",
      "8105\n"
     ]
    }
   ],
   "source": [
    "trainSentences = utils.modify_labels(utils.get_sentences_germeval('../data/GermEVAL/NER-de-train.tsv'))\n",
    "devSentences = utils.modify_labels(utils.get_sentences_germeval('../data/GermEVAL/NER-de-dev.tsv'))\n",
    "testSentences = utils.modify_labels(utils.get_sentences_germeval('../data/GermEVAL/NER-de-test.tsv'))\n",
    "\n",
    "trainSentences.extend(utils.get_sentences_conll('../data/CONLL/deu/deu_utf.train.bio'))\n",
    "devSentences.extend(utils.get_sentences_conll('../data/CONLL/deu/deu_utf.testa.bio'))\n",
    "testSentences.extend(utils.get_sentences_conll('../data/CONLL/deu/deu_utf.testb.bio'))\n",
    "\n",
    "print(len(trainSentences))\n",
    "print(len(devSentences))\n",
    "print(len(testSentences))\n"
   ]
  },
  {
   "cell_type": "code",
   "execution_count": 56,
   "metadata": {},
   "outputs": [
    {
     "name": "stdout",
     "output_type": "stream",
     "text": [
      "[['Auch', 'O'], ['seine', 'O'], ['Teamkollegen', 'O'], ['sind', 'O'], ['zuversichtlich', 'O'], [',', 'O'], ['dass', 'O'], ['die', 'O'], ['Weberruß-Truppe', 'O'], ['bereits', 'O'], ['morgen', 'O'], ['alles', 'O'], ['klar', 'O'], ['macht', 'O'], ['.', 'O'], ['30:29', 'O'], ['lautet', 'O'], ['der', 'O'], ['Tipp', 'O'], ['von', 'O'], ['Tim', 'B-PER'], ['Dittrich', 'I-PER'], [',', 'O'], ['34:32', 'O'], ['der', 'O'], ['von', 'O'], ['Nico', 'B-PER'], ['Weißmann', 'I-PER'], ['.', 'O']]\n"
     ]
    }
   ],
   "source": [
    "print(testSentences[3900])"
   ]
  },
  {
   "cell_type": "code",
   "execution_count": 57,
   "metadata": {},
   "outputs": [],
   "source": [
    "labelSet = set()\n",
    "characters= set()\n",
    "models.max_sequence_length = 0\n",
    "\n",
    "for dataset in [trainSentences, devSentences, testSentences]:\n",
    "    for sentence in dataset:\n",
    "        for word, label in sentence:\n",
    "            for char in word:\n",
    "                characters.add(char)\n",
    "            labelSet.add(label)\n",
    "        if len(sentence) > models.max_sequence_length:\n",
    "            models.max_sequence_length = len(sentence)"
   ]
  },
  {
   "cell_type": "code",
   "execution_count": 58,
   "metadata": {},
   "outputs": [
    {
     "name": "stdout",
     "output_type": "stream",
     "text": [
      "9\n",
      "100\n"
     ]
    }
   ],
   "source": [
    "print(len(labelSet))\n",
    "print(models.max_sequence_length)"
   ]
  },
  {
   "cell_type": "code",
   "execution_count": 59,
   "metadata": {},
   "outputs": [],
   "source": [
    "# :: Create a mapping for the labels ::\n",
    "models.label2Idx = {\"PADDING_TOKEN\":0}\n",
    "for label in labelSet:\n",
    "    models.label2Idx[label] = len(models.label2Idx)"
   ]
  },
  {
   "cell_type": "code",
   "execution_count": 60,
   "metadata": {},
   "outputs": [
    {
     "name": "stdout",
     "output_type": "stream",
     "text": [
      "{'PADDING_TOKEN': 0, 'B-MISC': 1, 'B-LOC': 6, 'B-PER': 7, 'I-MISC': 8, 'I-LOC': 9, 'I-ORG': 2, 'O': 3, 'I-PER': 5, 'B-ORG': 4}\n"
     ]
    }
   ],
   "source": [
    "print(models.label2Idx)"
   ]
  },
  {
   "cell_type": "code",
   "execution_count": 61,
   "metadata": {},
   "outputs": [],
   "source": [
    "# :: Hard coded case lookup ::\n",
    "models.case2Idx = {'PADDING_TOKEN':0, 'numeric': 1, 'allLower':2, 'allUpper':3, 'initialUpper':4, 'other':5, 'mainly_numeric':6, 'contains_digit': 7}"
   ]
  },
  {
   "cell_type": "code",
   "execution_count": 62,
   "metadata": {},
   "outputs": [
    {
     "name": "stdout",
     "output_type": "stream",
     "text": [
      "{'other': 5, 'PADDING_TOKEN': 0, 'allUpper': 3, 'contains_digit': 7, 'numeric': 1, 'mainly_numeric': 6, 'allLower': 2, 'initialUpper': 4}\n"
     ]
    }
   ],
   "source": [
    "print(models.case2Idx)"
   ]
  },
  {
   "cell_type": "code",
   "execution_count": 63,
   "metadata": {},
   "outputs": [
    {
     "name": "stdout",
     "output_type": "stream",
     "text": [
      "<class 'list'>\n"
     ]
    }
   ],
   "source": [
    "print(type(trainSentences))"
   ]
  },
  {
   "cell_type": "code",
   "execution_count": 66,
   "metadata": {},
   "outputs": [
    {
     "name": "stdout",
     "output_type": "stream",
     "text": [
      "[['Scenes', 'B-MISC'], ['of', 'I-MISC'], ['a', 'I-MISC'], ['Sexual', 'I-MISC'], ['Nature', 'I-MISC'], ['(', 'O'], ['GB', 'O'], ['2006', 'O'], [')', 'O'], ['-', 'O'], ['Regie', 'O'], [':', 'O'], ['Ed', 'B-PER'], ['Blum', 'I-PER'], ['Shortbus', 'B-MISC'], ['(', 'O'], ['USA', 'B-LOC'], ['2006', 'O'], [')', 'O'], ['-', 'O'], ['Regie', 'O'], [':', 'O'], ['John', 'B-PER'], ['Cameron', 'I-PER'], ['Mitchell', 'I-PER'], [':Film', 'O'], ['über', 'O'], ['den', 'O'], ['gleichnamigen', 'O'], ['New', 'B-MISC'], ['Yorker', 'I-MISC'], ['Club', 'O'], [',', 'O'], ['der', 'O'], ['verschiedensten', 'O'], ['Paaren', 'O'], ['eine', 'O'], ['Plattform', 'O'], ['zur', 'O'], ['Aufarbeitung', 'O'], ['ihrer', 'O'], ['Probleme', 'O'], ['bietet', 'O'], ['.', 'O']]\n"
     ]
    }
   ],
   "source": [
    "print(trainSentences[11])"
   ]
  },
  {
   "cell_type": "code",
   "execution_count": 67,
   "metadata": {
    "scrolled": true
   },
   "outputs": [
    {
     "name": "stdout",
     "output_type": "stream",
     "text": [
      "{'4': 5, 'É': 6, 'f': 7, '6': 8, 'İ': 9, 'X': 11, 'ő': 12, '⋅': 13, 'У': 15, 'è': 290, 'ι': 254, 'ż': 18, 'ı': 19, 'K': 20, 'ì': 10, 'й': 22, 'Š': 23, 'ь': 24, 'Ł': 239, 'T': 25, 'o': 26, '≘': 28, 'ā': 29, 'ψ': 30, 'O': 31, '€': 238, 'V': 33, '章': 181, '·': 34, 'č': 36, '\\x9a': 180, '\\xad': 37, '→': 39, 'Œ': 40, 'r': 41, 'ñ': 42, 'ο': 43, 'τ': 61, 'ū': 44, '*': 306, 'Å': 45, '妃': 49, 'ж': 47, '殿': 48, 'α': 50, 'e': 51, 'ø': 112, 'î': 267, 'β': 201, 'a': 53, 'λ': 55, '造': 296, '樓': 56, 'N': 57, 'm': 185, 'á': 58, '.': 59, '貴': 63, 'ī': 62, 'д': 314, '術': 64, 'Ż': 66, 'w': 67, '¤': 68, 'ğ': 261, '\\x95': 72, 'И': 74, '佐': 73, '守': 81, 'F': 329, 'у': 79, 'П': 78, '„': 80, 'л': 82, 'Î': 83, 'µ': 84, 'ł': 85, 'ŏ': 21, 'М': 86, 'ḳ': 87, '</W>': 4, 'Z': 88, 'Ü': 89, 'g': 291, 'ラ': 90, 's': 91, '台': 92, '«': 93, '−': 94, '鶴': 14, 'Č': 95, 'и': 96, 'є': 99, '…': 250, 'г': 100, 'Â': 101, 'UNKNOWN': 335, '太': 102, '`': 103, 'ý': 76, 'а': 126, ':': 104, 'ň': 105, 'Y': 106, 'ε': 107, 'С': 69, '\\u200e': 108, ')': 111, '}': 113, 'c': 70, 'м': 331, '2': 114, 'ą': 118, '»': 117, '½': 121, '!': 120, '\\x94': 122, '冲': 123, 'р': 124, 'œ': 244, 'ǒ': 128, 'ã': 127, 'ś': 129, 'é': 130, 'ɨ': 131, 'ě': 27, 'R': 132, 'Т': 134, 'κ': 137, 'ó': 136, ';': 138, '‚': 140, '/': 75, 'Π': 142, '\\x99': 145, 'u': 144, 'γ': 146, '=': 148, 'ź': 149, 'ă': 150, 'z': 151, 'y': 77, 'ş': 153, '‘': 154, '(': 135, '§': 155, 'π': 158, 'W': 157, 'G': 200, 'í': 161, 'к': 162, 'b': 116, '&': 163, 'i': 164, '\\x96': 165, 'п': 168, 'オ': 169, '@': 170, '’': 202, 't': 172, 'я': 141, '£': 174, 'Λ': 175, 'ē': 176, 'ž': 177, 'Þ': 178, 'j': 179, 'æ': 167, '–': 32, 'ń': 183, '<W>': 3, '5': 184, 'ب': 125, 'ť': 187, 'Л': 190, 'J': 188, 'ض': 191, 'Ġ': 192, '[': 275, 'U': 193, 'В': 143, 'с': 194, 'k': 71, '</S>': 2, 'ř': 139, '別': 152, 'P': 199, '×': 189, 'Е': 224, '†': 203, ']': 204, '동': 147, 'б': 206, 'ô': 207, 'S': 208, '¹': 35, 'š': 210, 'ʻ': 209, '›': 212, 'ü': 213, 'ð': 211, '傳': 215, 'е': 186, 'PADDING_TOKEN': 0, 'ế': 218, '-': 219, '0': 220, 'υ': 326, '″': 271, '‐': 223, 'έ': 38, 'ї': 225, '$': 226, 'ō': 227, 'à': 228, 'H': 229, '²': 234, '#': 214, '1': 235, 'ċ': 259, 'Ц': 236, '?': 237, '©': 60, 'ú': 240, 'Ш': 241, 'ς': 242, '寝': 243, 'û': 302, 'n': 245, 'd': 246, 'ĩ': 247, '“': 182, 'أ': 248, ',': 249, 'η': 251, '~': 252, '▪': 253, 'p': 109, 'Ä': 255, '東': 159, '7': 257, '+': 65, 'ę': 156, 'l': 119, 'I': 322, '南': 197, 'A': 216, 'ệ': 262, '九': 263, 'M': 264, '¸': 266, '公': 115, 'ḫ': 258, 'C': 268, 'Á': 269, 'ë': 270, '博': 272, 'т': 273, 'Ž': 274, 'ć': 195, '±': 217, 'Ö': 160, 'ا': 310, '算': 295, 'ـ': 222, 'E': 278, 'h': 279, '—': 280, 'È': 198, 'ν': 282, 'о': 221, 'x': 283, 'ы': 284, 'ä': 285, 'Ş': 98, 'ά': 286, 'з': 325, 'ъ': 196, '”': 97, \"'\": 288, '9': 289, '8': 281, 'ê': 328, 'q': 277, 'ņ': 292, 'ß': 294, '°': 256, 'õ': 312, 'ö': 110, '>': 297, 'B': 298, '<': 46, 'φ': 133, '\\x92': 299, 'å': 300, 'н': 301, 'ό': 303, 'х': 304, '%': 305, '‹': 265, '李': 309, 'ħ': 233, 'â': 166, 'ò': 231, 'ῦ': 308, '\\x80': 307, 'L': 205, '≤': 330, '_': 230, '鷹': 293, '柯': 276, '3': 311, '별': 232, '³': 313, '<S>': 1, 'в': 315, 'ي': 316, '懿': 317, 'Q': 318, 'ç': 319, 'D': 52, '⊃': 320, 'ю': 171, 'v': 321, 'ρ': 323, 'À': 324, '루': 287, '\"': 327, '´': 173, 'Ø': 260, '학': 16, '대': 54, 'ن': 17, '士': 332, 'σ': 333, 'Æ': 334}\n"
     ]
    }
   ],
   "source": [
    "models.char2Idx={\"PADDING_TOKEN\":0, \"<S>\":1, \"</S>\":2, \"<W>\":3, \"</W>\":4}\n",
    "for char in characters:\n",
    "    models.char2Idx[char] = len(models.char2Idx)\n",
    "models.char2Idx['UNKNOWN'] = len(models.char2Idx)\n",
    "print(models.char2Idx)"
   ]
  },
  {
   "cell_type": "code",
   "execution_count": 68,
   "metadata": {
    "scrolled": true
   },
   "outputs": [
    {
     "name": "stdout",
     "output_type": "stream",
     "text": [
      "[['Schartau', 'B-PER'], ['sagte', 'O'], ['dem', 'O'], ['\"', 'O'], ['Tagesspiegel', 'B-ORG'], ['\"', 'O'], ['vom', 'O'], ['Freitag', 'O'], [',', 'O'], ['Fischer', 'B-PER'], ['sei', 'O'], ['\"', 'O'], ['in', 'O'], ['einer', 'O'], ['Weise', 'O'], ['aufgetreten', 'O'], [',', 'O'], ['die', 'O'], ['alles', 'O'], ['andere', 'O'], ['als', 'O'], ['überzeugend', 'O'], ['war', 'O'], ['\"', 'O'], ['.', 'O']]\n"
     ]
    }
   ],
   "source": [
    "print(trainSentences[0]) "
   ]
  },
  {
   "cell_type": "code",
   "execution_count": 15,
   "metadata": {},
   "outputs": [],
   "source": [
    "models.ft = fastText.load_model(\"../embeddings/wiki.de.bin\")"
   ]
  },
  {
   "cell_type": "code",
   "execution_count": 50,
   "metadata": {},
   "outputs": [
    {
     "name": "stdout",
     "output_type": "stream",
     "text": [
      "300\n",
      "25\n"
     ]
    }
   ],
   "source": [
    "print(models.nb_embedding_dims)\n",
    "print(len(trainSentences[0]))"
   ]
  },
  {
   "cell_type": "code",
   "execution_count": 51,
   "metadata": {},
   "outputs": [
    {
     "name": "stdout",
     "output_type": "stream",
     "text": [
      "10\n",
      "10\n"
     ]
    }
   ],
   "source": [
    "models.idx2Label = {v: k for k, v in models.label2Idx.items()}\n",
    "print(len(models.label2Idx))\n",
    "print(len(models.idx2Label))"
   ]
  },
  {
   "cell_type": "markdown",
   "metadata": {
    "scrolled": true
   },
   "source": [
    "# Test Model"
   ]
  },
  {
   "cell_type": "code",
   "execution_count": 18,
   "metadata": {},
   "outputs": [],
   "source": [
    "# import importlib\n",
    "# importlib.reload(models)"
   ]
  },
  {
   "cell_type": "code",
   "execution_count": 69,
   "metadata": {},
   "outputs": [
    {
     "name": "stdout",
     "output_type": "stream",
     "text": [
      "__________________________________________________________________________________________________\n",
      "Layer (type)                    Output Shape         Param #     Connected to                     \n",
      "==================================================================================================\n",
      "char_input (InputLayer)         (None, None, 52)     0                                            \n",
      "__________________________________________________________________________________________________\n",
      "casing_input (InputLayer)       (None, None)         0                                            \n",
      "__________________________________________________________________________________________________\n",
      "char_embedding (TimeDistributed (None, None, 52, 32) 10752       char_input[0][0]                 \n",
      "__________________________________________________________________________________________________\n",
      "words_input (InputLayer)        (None, None, 300)    0                                            \n",
      "__________________________________________________________________________________________________\n",
      "case_embed (Embedding)          (None, None, 8)      64          casing_input[0][0]               \n",
      "__________________________________________________________________________________________________\n",
      "time_distributed_5 (TimeDistrib (None, None, 100)    33200       char_embedding[0][0]             \n",
      "__________________________________________________________________________________________________\n",
      "concatenate_3 (Concatenate)     (None, None, 408)    0           words_input[0][0]                \n",
      "                                                                 case_embed[0][0]                 \n",
      "                                                                 time_distributed_5[0][0]         \n",
      "__________________________________________________________________________________________________\n",
      "bidirectional_6 (Bidirectional) (None, None, 400)    974400      concatenate_3[0][0]              \n",
      "__________________________________________________________________________________________________\n",
      "time_distributed_6 (TimeDistrib (None, None, 10)     4010        bidirectional_6[0][0]            \n",
      "__________________________________________________________________________________________________\n",
      "crf (CRF)                       (None, None, 10)     230         time_distributed_6[0][0]         \n",
      "==================================================================================================\n",
      "Total params: 1,022,656\n",
      "Trainable params: 1,022,592\n",
      "Non-trainable params: 64\n",
      "__________________________________________________________________________________________________\n"
     ]
    }
   ],
   "source": [
    "tmp_model_filename = 'model_lstm_germeval-conll_v2.h5'\n",
    "# checkpoint = ModelCheckpoint(tmp_model_filename, verbose=1, save_best_only = True, monitor = 'val_acc')\n",
    "history = utils.F1History(tmp_model_filename, devSet = devSentences)\n",
    "model = models.get_model_lstm_v2()"
   ]
  },
  {
   "cell_type": "code",
   "execution_count": 70,
   "metadata": {
    "scrolled": true
   },
   "outputs": [
    {
     "name": "stdout",
     "output_type": "stream",
     "text": [
      "Epoch 1/10\n",
      "2259/2260 [============================>.] - ETA: 0s - loss: 0.0190 - acc: 0.9925\n",
      "New maximum F1 score: 0.7921085464753587 (before: 0) Saving to model_lstm_germeval-conll_v2.h5\n",
      "2260/2260 [==============================] - 1445s 640ms/step - loss: 0.0190 - acc: 0.9925 - val_loss: -0.0010 - val_acc: 0.9942\n",
      "Epoch 2/10\n",
      "2259/2260 [============================>.] - ETA: 0s - loss: -0.0214 - acc: 0.9950\n",
      "New maximum F1 score: 0.805161485058859 (before: 0.7921085464753587) Saving to model_lstm_germeval-conll_v2.h5\n",
      "2260/2260 [==============================] - 1440s 637ms/step - loss: -0.0214 - acc: 0.9950 - val_loss: -0.0405 - val_acc: 0.9946\n",
      "Epoch 3/10\n",
      "2259/2260 [============================>.] - ETA: 0s - loss: -0.0653 - acc: 0.9955\n",
      "New maximum F1 score: 0.8181749793124202 (before: 0.805161485058859) Saving to model_lstm_germeval-conll_v2.h5\n",
      "2260/2260 [==============================] - 1437s 636ms/step - loss: -0.0653 - acc: 0.9955 - val_loss: -0.0855 - val_acc: 0.9947\n",
      "Epoch 4/10\n",
      "2259/2260 [============================>.] - ETA: 0s - loss: -0.1112 - acc: 0.9959\n",
      "New maximum F1 score: 0.8268345102855388 (before: 0.8181749793124202) Saving to model_lstm_germeval-conll_v2.h5\n",
      "2260/2260 [==============================] - 1458s 645ms/step - loss: -0.1112 - acc: 0.9959 - val_loss: -0.1316 - val_acc: 0.9951\n",
      "Epoch 5/10\n",
      "2260/2260 [==============================] - 1441s 638ms/step - loss: -0.1571 - acc: 0.9962 - val_loss: -0.1747 - val_acc: 0.9947\n",
      "Epoch 6/10\n",
      "2259/2260 [============================>.] - ETA: 0s - loss: -0.2027 - acc: 0.9964\n",
      "New maximum F1 score: 0.8285973397823457 (before: 0.8268345102855388) Saving to model_lstm_germeval-conll_v2.h5\n",
      "2260/2260 [==============================] - 1446s 640ms/step - loss: -0.2027 - acc: 0.9964 - val_loss: -0.2212 - val_acc: 0.9952\n",
      "Epoch 7/10\n",
      "2260/2260 [==============================] - 1446s 640ms/step - loss: -0.2482 - acc: 0.9965 - val_loss: -0.2666 - val_acc: 0.9951\n",
      "Epoch 8/10\n",
      "2259/2260 [============================>.] - ETA: 0s - loss: -0.2937 - acc: 0.9966\n",
      "New maximum F1 score: 0.8304675716440422 (before: 0.8285973397823457) Saving to model_lstm_germeval-conll_v2.h5\n",
      "2260/2260 [==============================] - 1428s 632ms/step - loss: -0.2937 - acc: 0.9966 - val_loss: -0.3114 - val_acc: 0.9952\n",
      "Epoch 9/10\n",
      "2260/2260 [==============================] - 1445s 639ms/step - loss: -0.3390 - acc: 0.9966 - val_loss: -0.3567 - val_acc: 0.9949\n",
      "Epoch 10/10\n",
      "2259/2260 [============================>.] - ETA: 0s - loss: -0.3845 - acc: 0.9968\n",
      "New maximum F1 score: 0.840721491898502 (before: 0.8304675716440422) Saving to model_lstm_germeval-conll_v2.h5\n",
      "2260/2260 [==============================] - 1469s 650ms/step - loss: -0.3845 - acc: 0.9968 - val_loss: -0.4026 - val_acc: 0.9955\n"
     ]
    },
    {
     "data": {
      "text/plain": [
       "<keras.callbacks.History at 0x7f3d9a0c8d30>"
      ]
     },
     "execution_count": 70,
     "metadata": {},
     "output_type": "execute_result"
    }
   ],
   "source": [
    "model.fit_generator(\n",
    "    utils.NerSequence(trainSentences, shuffle_data=True, batch_size=16), \n",
    "    validation_data = utils.NerSequence(devSentences, batch_size=256), \n",
    "    epochs = 10, callbacks = [history]\n",
    ")"
   ]
  },
  {
   "cell_type": "code",
   "execution_count": 71,
   "metadata": {},
   "outputs": [
    {
     "name": "stdout",
     "output_type": "stream",
     "text": [
      "[0.9942056472093979, 0.9945766689722322, 0.9947483783669789, 0.9951371623727728, 0.9946575875180653, 0.9952003105236789, 0.9951036053106633, 0.9952161090012154, 0.9949358573485955, 0.9955298930247766]\n",
      "[0.7921085464753587, 0.805161485058859, 0.8181749793124202, 0.8268345102855388, 0.8130154445943919, 0.8285973397823457, 0.82606728013275, 0.8304675716440422, 0.8234937016239186, 0.840721491898502]\n"
     ]
    }
   ],
   "source": [
    "print(history.acc)\n",
    "print(history.f1_scores)"
   ]
  },
  {
   "cell_type": "code",
   "execution_count": 72,
   "metadata": {
    "scrolled": true
   },
   "outputs": [],
   "source": [
    "model.load_weights(tmp_model_filename)"
   ]
  },
  {
   "cell_type": "code",
   "execution_count": 73,
   "metadata": {},
   "outputs": [
    {
     "name": "stdout",
     "output_type": "stream",
     "text": [
      "Epoch 1/10\n",
      "142/142 [==============================] - 221s 2s/step - loss: -0.4092 - acc: 0.9971 - val_loss: -0.4044 - val_acc: 0.9953\n",
      "Epoch 2/10\n",
      "142/142 [==============================] - 199s 1s/step - loss: -0.4122 - acc: 0.9972 - val_loss: -0.4074 - val_acc: 0.9953\n",
      "Epoch 3/10\n",
      "142/142 [==============================] - 197s 1s/step - loss: -0.4149 - acc: 0.9971 - val_loss: -0.4097 - val_acc: 0.9952\n",
      "Epoch 4/10\n",
      "142/142 [==============================] - 198s 1s/step - loss: -0.4175 - acc: 0.9970 - val_loss: -0.4127 - val_acc: 0.9952\n",
      "Epoch 5/10\n",
      "142/142 [==============================] - 199s 1s/step - loss: -0.4201 - acc: 0.9969 - val_loss: -0.4156 - val_acc: 0.9952\n",
      "Epoch 6/10\n",
      "142/142 [==============================] - 196s 1s/step - loss: -0.4230 - acc: 0.9969 - val_loss: -0.4184 - val_acc: 0.9953\n",
      "Epoch 7/10\n",
      "142/142 [==============================] - 195s 1s/step - loss: -0.4260 - acc: 0.9970 - val_loss: -0.4211 - val_acc: 0.9953\n",
      "Epoch 8/10\n",
      "142/142 [==============================] - 202s 1s/step - loss: -0.4290 - acc: 0.9971 - val_loss: -0.4242 - val_acc: 0.9953\n",
      "Epoch 9/10\n",
      "142/142 [==============================] - 206s 1s/step - loss: -0.4319 - acc: 0.9971 - val_loss: -0.4267 - val_acc: 0.9952\n",
      "Epoch 10/10\n",
      "142/142 [==============================] - 205s 1s/step - loss: -0.4349 - acc: 0.9972 - val_loss: -0.4295 - val_acc: 0.9953\n"
     ]
    },
    {
     "data": {
      "text/plain": [
       "<keras.callbacks.History at 0x7f3d91ea7278>"
      ]
     },
     "execution_count": 73,
     "metadata": {},
     "output_type": "execute_result"
    }
   ],
   "source": [
    "model.fit_generator(\n",
    "    utils.NerSequence(trainSentences, shuffle_data=True, batch_size=256), \n",
    "    validation_data = utils.NerSequence(devSentences, batch_size=256), \n",
    "    epochs = 10, callbacks = [history]\n",
    ")"
   ]
  },
  {
   "cell_type": "code",
   "execution_count": 74,
   "metadata": {},
   "outputs": [],
   "source": [
    "model.load_weights(tmp_model_filename)"
   ]
  },
  {
   "cell_type": "code",
   "execution_count": 76,
   "metadata": {},
   "outputs": [
    {
     "name": "stdout",
     "output_type": "stream",
     "text": [
      "(0.8388566222525908, 0.8312831508859045, 0.8350527151116655)\n"
     ]
    }
   ],
   "source": [
    "true_labels, pred_labels = utils.predict_sequences(model, testSentences)\n",
    "print(compute_f1(pred_labels, true_labels, models.idx2Label))"
   ]
  },
  {
   "cell_type": "code",
   "execution_count": null,
   "metadata": {},
   "outputs": [],
   "source": []
  },
  {
   "cell_type": "code",
   "execution_count": 77,
   "metadata": {},
   "outputs": [
    {
     "data": {
      "text/plain": [
       "<function TextIOWrapper.close()>"
      ]
     },
     "execution_count": 77,
     "metadata": {},
     "output_type": "execute_result"
    }
   ],
   "source": [
    "f = open('germeval-conll_output.tsv', 'w', encoding='UTF-8')\n",
    "for i_sent, sent in enumerate(testSentences):\n",
    "    for i_tok, tok in enumerate(sent):\n",
    "        if tok[0] == 'PADDING_TOKEN':\n",
    "            break\n",
    "        correctlabel = models.idx2Label[true_labels[i_sent][i_tok]]\n",
    "        guessedlabel = models.idx2Label[pred_labels[i_sent][i_tok]]\n",
    "        line = \" \".join([tok[0], correctlabel, guessedlabel])\n",
    "        f.write(line + '\\n')\n",
    "    f.write('\\n')\n",
    "f.close"
   ]
  },
  {
   "cell_type": "code",
   "execution_count": null,
   "metadata": {},
   "outputs": [],
   "source": []
  }
 ],
 "metadata": {
  "kernelspec": {
   "display_name": "Python 3",
   "language": "python",
   "name": "python3"
  },
  "language_info": {
   "codemirror_mode": {
    "name": "ipython",
    "version": 3
   },
   "file_extension": ".py",
   "mimetype": "text/x-python",
   "name": "python",
   "nbconvert_exporter": "python",
   "pygments_lexer": "ipython3",
   "version": "3.5.5"
  }
 },
 "nbformat": 4,
 "nbformat_minor": 2
}
